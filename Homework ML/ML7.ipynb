{
 "cells": [
  {
   "attachments": {},
   "cell_type": "markdown",
   "id": "AoeSkz4KaANH",
   "metadata": {
    "id": "AoeSkz4KaANH"
   },
   "source": [
    "# <center> Домашняя работа по теме \"Оптимизация гиперпараметров модели\""
   ]
  },
  {
   "attachments": {},
   "cell_type": "markdown",
   "id": "ezanmTbEaAOe",
   "metadata": {
    "id": "ezanmTbEaAOe",
    "tags": []
   },
   "source": [
    "### <center> **Описание задачи**"
   ]
  },
  {
   "attachments": {},
   "cell_type": "markdown",
   "id": "b8896f5c-1683-4a55-987f-60ce00207db5",
   "metadata": {
    "id": "b8896f5c-1683-4a55-987f-60ce00207db5"
   },
   "source": [
    "Необходимо предсказать биологический ответ молекул (столбец `Activity`) по их химическому составу (столбцы `D1-D1776`).\n",
    "\n",
    "Данные представлены в формате CSV.  Каждая строка представляет молекулу. \n",
    "\n",
    "* Первый столбец `Activity` содержит экспериментальные данные, описывающие фактический биологический ответ [0, 1]; \n",
    "* Остальные столбцы `D1-D1776` представляют собой молекулярные дескрипторы — это вычисляемые свойства, которые могут фиксировать некоторые характеристики молекулы, например размер, форму или состав элементов.\n",
    "\n",
    "Предварительная обработка не требуется, данные уже закодированы и нормализованы.\n",
    "\n",
    "Метрика оценки качества - F1-score.\n",
    "\n",
    "Необходимо обучить две модели: логистическую регрессию и случайный лес. Далее нужно сделать подбор гиперпараметров с помощью базовых и продвинутых методов оптимизации. Важно использовать все четыре метода (`GridSeachCV, RandomizedSearchCV, Hyperopt, Optuna`) хотя бы по разу, максимальное количество итераций не должно превышать 50."
   ]
  },
  {
   "attachments": {},
   "cell_type": "markdown",
   "id": "8lbyun1kaAOy",
   "metadata": {
    "id": "8lbyun1kaAOy",
    "tags": []
   },
   "source": [
    "### <center> **Знакомство с данными и их исследование**"
   ]
  },
  {
   "cell_type": "code",
   "execution_count": 200,
   "id": "3a4ee7ed",
   "metadata": {},
   "outputs": [],
   "source": [
    "#импорт библиотек\n",
    "import numpy as np #для матричных вычислений\n",
    "import pandas as pd #для анализа и предобработки данных\n",
    "import matplotlib.pyplot as plt #для визуализации\n",
    "import seaborn as sns #для визуализации\n",
    "\n",
    "from sklearn import linear_model #линейные моделиё\n",
    "from sklearn import tree #деревья решений\n",
    "from sklearn import ensemble #ансамбли\n",
    "from sklearn import metrics #метрики\n",
    "from sklearn import preprocessing #предобработка\n",
    "from sklearn.model_selection import train_test_split #сплитование выборки\n",
    "\n",
    "#для подбора гиперпараметров\n",
    "from sklearn.model_selection import GridSearchCV \n",
    "from sklearn.model_selection import RandomizedSearchCV\n",
    "from sklearn.model_selection import StratifiedKFold\n",
    "\n",
    "#для продвинутой оптимизации\n",
    "from sklearn.model_selection import cross_val_score\n",
    "import hyperopt\n",
    "from hyperopt import hp, fmin, tpe, Trials\n",
    "import optuna\n",
    "\n",
    "%matplotlib inline\n",
    "plt.style.use('seaborn')"
   ]
  },
  {
   "cell_type": "code",
   "execution_count": 201,
   "id": "a5e0a047",
   "metadata": {},
   "outputs": [],
   "source": [
    "#При подборе параметров появляются предупреждения о несовместимости некоторых параметров. Чтобы  они не мешали, мы их отключим.\n",
    "import warnings\n",
    "warnings.filterwarnings('ignore')"
   ]
  },
  {
   "cell_type": "code",
   "execution_count": 202,
   "id": "p770SmlfaAO3",
   "metadata": {
    "colab": {
     "base_uri": "https://localhost:8080/",
     "height": 223
    },
    "executionInfo": {
     "elapsed": 40242,
     "status": "ok",
     "timestamp": 1650553529870,
     "user": {
      "displayName": "VICDS _",
      "userId": "16539764637744847477"
     },
     "user_tz": -180
    },
    "id": "p770SmlfaAO3",
    "outputId": "d6f8209e-05bf-452c-dd16-2f5725c31f1a"
   },
   "outputs": [
    {
     "data": {
      "text/html": [
       "<div>\n",
       "<style scoped>\n",
       "    .dataframe tbody tr th:only-of-type {\n",
       "        vertical-align: middle;\n",
       "    }\n",
       "\n",
       "    .dataframe tbody tr th {\n",
       "        vertical-align: top;\n",
       "    }\n",
       "\n",
       "    .dataframe thead th {\n",
       "        text-align: right;\n",
       "    }\n",
       "</style>\n",
       "<table border=\"1\" class=\"dataframe\">\n",
       "  <thead>\n",
       "    <tr style=\"text-align: right;\">\n",
       "      <th></th>\n",
       "      <th>Activity</th>\n",
       "      <th>D1</th>\n",
       "      <th>D2</th>\n",
       "      <th>D3</th>\n",
       "      <th>D4</th>\n",
       "      <th>D5</th>\n",
       "      <th>D6</th>\n",
       "      <th>D7</th>\n",
       "      <th>D8</th>\n",
       "      <th>D9</th>\n",
       "      <th>...</th>\n",
       "      <th>D1767</th>\n",
       "      <th>D1768</th>\n",
       "      <th>D1769</th>\n",
       "      <th>D1770</th>\n",
       "      <th>D1771</th>\n",
       "      <th>D1772</th>\n",
       "      <th>D1773</th>\n",
       "      <th>D1774</th>\n",
       "      <th>D1775</th>\n",
       "      <th>D1776</th>\n",
       "    </tr>\n",
       "  </thead>\n",
       "  <tbody>\n",
       "    <tr>\n",
       "      <th>0</th>\n",
       "      <td>1</td>\n",
       "      <td>0.000000</td>\n",
       "      <td>0.497009</td>\n",
       "      <td>0.10</td>\n",
       "      <td>0.0</td>\n",
       "      <td>0.132956</td>\n",
       "      <td>0.678031</td>\n",
       "      <td>0.273166</td>\n",
       "      <td>0.585445</td>\n",
       "      <td>0.743663</td>\n",
       "      <td>...</td>\n",
       "      <td>0</td>\n",
       "      <td>0</td>\n",
       "      <td>0</td>\n",
       "      <td>0</td>\n",
       "      <td>0</td>\n",
       "      <td>0</td>\n",
       "      <td>0</td>\n",
       "      <td>0</td>\n",
       "      <td>0</td>\n",
       "      <td>0</td>\n",
       "    </tr>\n",
       "    <tr>\n",
       "      <th>1</th>\n",
       "      <td>1</td>\n",
       "      <td>0.366667</td>\n",
       "      <td>0.606291</td>\n",
       "      <td>0.05</td>\n",
       "      <td>0.0</td>\n",
       "      <td>0.111209</td>\n",
       "      <td>0.803455</td>\n",
       "      <td>0.106105</td>\n",
       "      <td>0.411754</td>\n",
       "      <td>0.836582</td>\n",
       "      <td>...</td>\n",
       "      <td>1</td>\n",
       "      <td>1</td>\n",
       "      <td>1</td>\n",
       "      <td>1</td>\n",
       "      <td>0</td>\n",
       "      <td>1</td>\n",
       "      <td>0</td>\n",
       "      <td>0</td>\n",
       "      <td>1</td>\n",
       "      <td>0</td>\n",
       "    </tr>\n",
       "    <tr>\n",
       "      <th>2</th>\n",
       "      <td>1</td>\n",
       "      <td>0.033300</td>\n",
       "      <td>0.480124</td>\n",
       "      <td>0.00</td>\n",
       "      <td>0.0</td>\n",
       "      <td>0.209791</td>\n",
       "      <td>0.610350</td>\n",
       "      <td>0.356453</td>\n",
       "      <td>0.517720</td>\n",
       "      <td>0.679051</td>\n",
       "      <td>...</td>\n",
       "      <td>0</td>\n",
       "      <td>0</td>\n",
       "      <td>0</td>\n",
       "      <td>0</td>\n",
       "      <td>0</td>\n",
       "      <td>0</td>\n",
       "      <td>0</td>\n",
       "      <td>0</td>\n",
       "      <td>0</td>\n",
       "      <td>0</td>\n",
       "    </tr>\n",
       "    <tr>\n",
       "      <th>3</th>\n",
       "      <td>1</td>\n",
       "      <td>0.000000</td>\n",
       "      <td>0.538825</td>\n",
       "      <td>0.00</td>\n",
       "      <td>0.5</td>\n",
       "      <td>0.196344</td>\n",
       "      <td>0.724230</td>\n",
       "      <td>0.235606</td>\n",
       "      <td>0.288764</td>\n",
       "      <td>0.805110</td>\n",
       "      <td>...</td>\n",
       "      <td>0</td>\n",
       "      <td>0</td>\n",
       "      <td>0</td>\n",
       "      <td>0</td>\n",
       "      <td>0</td>\n",
       "      <td>0</td>\n",
       "      <td>0</td>\n",
       "      <td>0</td>\n",
       "      <td>0</td>\n",
       "      <td>0</td>\n",
       "    </tr>\n",
       "    <tr>\n",
       "      <th>4</th>\n",
       "      <td>0</td>\n",
       "      <td>0.100000</td>\n",
       "      <td>0.517794</td>\n",
       "      <td>0.00</td>\n",
       "      <td>0.0</td>\n",
       "      <td>0.494734</td>\n",
       "      <td>0.781422</td>\n",
       "      <td>0.154361</td>\n",
       "      <td>0.303809</td>\n",
       "      <td>0.812646</td>\n",
       "      <td>...</td>\n",
       "      <td>0</td>\n",
       "      <td>0</td>\n",
       "      <td>0</td>\n",
       "      <td>0</td>\n",
       "      <td>0</td>\n",
       "      <td>0</td>\n",
       "      <td>0</td>\n",
       "      <td>0</td>\n",
       "      <td>0</td>\n",
       "      <td>0</td>\n",
       "    </tr>\n",
       "  </tbody>\n",
       "</table>\n",
       "<p>5 rows × 1777 columns</p>\n",
       "</div>"
      ],
      "text/plain": [
       "   Activity        D1        D2    D3   D4        D5        D6        D7  \\\n",
       "0         1  0.000000  0.497009  0.10  0.0  0.132956  0.678031  0.273166   \n",
       "1         1  0.366667  0.606291  0.05  0.0  0.111209  0.803455  0.106105   \n",
       "2         1  0.033300  0.480124  0.00  0.0  0.209791  0.610350  0.356453   \n",
       "3         1  0.000000  0.538825  0.00  0.5  0.196344  0.724230  0.235606   \n",
       "4         0  0.100000  0.517794  0.00  0.0  0.494734  0.781422  0.154361   \n",
       "\n",
       "         D8        D9  ...  D1767  D1768  D1769  D1770  D1771  D1772  D1773  \\\n",
       "0  0.585445  0.743663  ...      0      0      0      0      0      0      0   \n",
       "1  0.411754  0.836582  ...      1      1      1      1      0      1      0   \n",
       "2  0.517720  0.679051  ...      0      0      0      0      0      0      0   \n",
       "3  0.288764  0.805110  ...      0      0      0      0      0      0      0   \n",
       "4  0.303809  0.812646  ...      0      0      0      0      0      0      0   \n",
       "\n",
       "   D1774  D1775  D1776  \n",
       "0      0      0      0  \n",
       "1      0      1      0  \n",
       "2      0      0      0  \n",
       "3      0      0      0  \n",
       "4      0      0      0  \n",
       "\n",
       "[5 rows x 1777 columns]"
      ]
     },
     "metadata": {},
     "output_type": "display_data"
    }
   ],
   "source": [
    "#подгрузка данных\n",
    "data = pd.read_csv('data/_train_sem09.csv')\n",
    "display(data.head())"
   ]
  },
  {
   "attachments": {},
   "cell_type": "markdown",
   "id": "0jbyUoPlaAPc",
   "metadata": {
    "id": "0jbyUoPlaAPc"
   },
   "source": [
    "Проверим насколько сбалансировнанны классы:"
   ]
  },
  {
   "cell_type": "code",
   "execution_count": 203,
   "id": "PPo2xmRdaAPf",
   "metadata": {
    "colab": {
     "base_uri": "https://localhost:8080/",
     "height": 361
    },
    "executionInfo": {
     "elapsed": 1087,
     "status": "ok",
     "timestamp": 1650553530901,
     "user": {
      "displayName": "VICDS _",
      "userId": "16539764637744847477"
     },
     "user_tz": -180
    },
    "id": "PPo2xmRdaAPf",
    "outputId": "4db04fd7-a921-4f20-ce92-b8294d0f3d2a"
   },
   "outputs": [
    {
     "data": {
      "image/png": "[encoded data removed]",
      "text/plain": [
       "<Figure size 800x550 with 1 Axes>"
      ]
     },
     "metadata": {},
     "output_type": "display_data"
    }
   ],
   "source": [
    "sns.countplot(data=data, x='Activity');"
   ]
  },
  {
   "attachments": {},
   "cell_type": "markdown",
   "id": "d8e3459e",
   "metadata": {},
   "source": [
    "> На графике видно, что есть небольшой перекос в сторону молекул из класса 1, поэтому при разделении выборок на тренировочную и тестовую мы используем стратифицированное разделение. \n"
   ]
  },
  {
   "attachments": {},
   "cell_type": "markdown",
   "id": "8p3eELnEaAQW",
   "metadata": {
    "id": "8p3eELnEaAQW"
   },
   "source": [
    "Так как данные изначально нормализованы и обработаны, создаем матрицу наблюдений $X$ и вектор ответов $y$"
   ]
  },
  {
   "cell_type": "code",
   "execution_count": 204,
   "id": "_2GncsCbaAQY",
   "metadata": {
    "id": "_2GncsCbaAQY"
   },
   "outputs": [],
   "source": [
    "X = data.drop(['Activity'], axis=1)\n",
    "y = data['Activity']"
   ]
  },
  {
   "cell_type": "markdown",
   "id": "q4SyRSFhaAQZ",
   "metadata": {
    "id": "q4SyRSFhaAQZ"
   },
   "source": [
    "Разделяем выборку на тренировочную и тестовую в соотношении 80/20. Для сохранения соотношений целевого признака используем параметр stratify (стратифицированное разбиение). "
   ]
  },
  {
   "cell_type": "code",
   "execution_count": 205,
   "id": "f87129d6",
   "metadata": {},
   "outputs": [],
   "source": [
    "# зафксируем random_state\n",
    "random_state = 42"
   ]
  },
  {
   "cell_type": "code",
   "execution_count": 206,
   "id": "Fl_eJIInaAQa",
   "metadata": {
    "id": "Fl_eJIInaAQa"
   },
   "outputs": [],
   "source": [
    "X_train, X_test, y_train, y_test = train_test_split(X, y, stratify=y, random_state = random_state, test_size = 0.2)"
   ]
  },
  {
   "attachments": {},
   "cell_type": "markdown",
   "id": "H7DZBta2aAQf",
   "metadata": {
    "id": "H7DZBta2aAQf",
    "tags": []
   },
   "source": [
    "### <center> **Оптимизация гиперпараметров модели**"
   ]
  },
  {
   "attachments": {},
   "cell_type": "markdown",
   "id": "5b6d603a-1ce0-414e-b095-e0f61113c0e7",
   "metadata": {
    "id": "5b6d603a-1ce0-414e-b095-e0f61113c0e7"
   },
   "source": [
    "Зафиксируем метрики модели **Логистическая регрессия** без дополнительной настройки, т.е со значениями гиперпараметров по умолчанию, кроме максимального количества итераций. установленного в задании. "
   ]
  },
  {
   "cell_type": "code",
   "execution_count": 207,
   "id": "0aMCHU3-aAQn",
   "metadata": {
    "colab": {
     "base_uri": "https://localhost:8080/"
    },
    "executionInfo": {
     "elapsed": 160,
     "status": "ok",
     "timestamp": 1650547896821,
     "user": {
      "displayName": "VICDS _",
      "userId": "16539764637744847477"
     },
     "user_tz": -180
    },
    "id": "0aMCHU3-aAQn",
    "outputId": "ce2823fa-1cb5-4ec5-dd51-fec74d3ccd33"
   },
   "outputs": [
    {
     "name": "stdout",
     "output_type": "stream",
     "text": [
      "f1_score на тренировочной выборке: 0.88\n",
      "f1_score на тестовой выборке: 0.78\n"
     ]
    }
   ],
   "source": [
    "#Создаем объект класса логистическая регрессия\n",
    "log_reg = linear_model.LogisticRegression(max_iter = 50, random_state=random_state)\n",
    "#Обучаем модель, минимизируя logloss\n",
    "log_reg.fit(X_train, y_train)\n",
    "#получим предсказания модели на тестовом и тренировочном наборе\n",
    "y_train_pred = log_reg.predict(X_train)\n",
    "print('f1_score на тренировочной выборке: {:.2f}'.format(metrics.f1_score(y_train, y_train_pred)))\n",
    "y_test_pred = log_reg.predict(X_test)\n",
    "print('f1_score на тестовой выборке: {:.2f}'.format(metrics.f1_score(y_test, y_test_pred)))"
   ]
  },
  {
   "attachments": {},
   "cell_type": "markdown",
   "id": "f3937a39",
   "metadata": {},
   "source": [
    "> На настройках по умолчанию мы получили обученную модель с результатом метрики $F_1 = 0.78$ на тестовых данных. Попробуем подобрать гиперпараметры, чтобы улучшить данную модель. "
   ]
  },
  {
   "cell_type": "markdown",
   "id": "Q6PP7ObJp7WG",
   "metadata": {
    "id": "Q6PP7ObJp7WG"
   },
   "source": [
    "### <center> **GridSearchCV**"
   ]
  },
  {
   "cell_type": "code",
   "execution_count": 215,
   "id": "gLkG_sbSkBcu",
   "metadata": {
    "colab": {
     "base_uri": "https://localhost:8080/"
    },
    "executionInfo": {
     "elapsed": 71581,
     "status": "ok",
     "timestamp": 1650547968248,
     "user": {
      "displayName": "VICDS _",
      "userId": "16539764637744847477"
     },
     "user_tz": -180
    },
    "id": "gLkG_sbSkBcu",
    "outputId": "9bf92017-3d32-43fd-f801-9533285646b4"
   },
   "outputs": [
    {
     "name": "stdout",
     "output_type": "stream",
     "text": [
      "CPU times: total: 2.28 s\n",
      "Wall time: 23.7 s\n",
      "f1_score на тренировочной выборке: 0.82\n",
      "f1_score на тестовой  выборке: 0.78\n",
      "Наилучшие значения гиперпараметров: {'C': 0.01, 'penalty': 'l2', 'solver': 'lbfgs'}\n",
      "Наилучшее значение точности при кросс-валидаци: 0.79\n"
     ]
    }
   ],
   "source": [
    "#задаём сетку гиперпараметров, из которых будем отбирать лучшие\n",
    "param_grid = {'penalty': ['l2','none'] ,#тип регурялизации\n",
    "              'solver': ['lbfgs', 'saga'], #алгоритм оптимизации\n",
    "              'C': [0.01, 0.1, 0.3, 0.5, 0.7, 0.9, 1], # уровень силы регурялизации\n",
    "              }\n",
    "grid_search = GridSearchCV(\n",
    "    estimator=linear_model.LogisticRegression(\n",
    "    random_state=random_state, #генератор случайных чисел\n",
    "    max_iter=50 #количество итераций на сходимость\n",
    "    ), \n",
    "    param_grid=param_grid, \n",
    "    cv=5, #ограничиваем количество фолдов 5\n",
    "    n_jobs = -1, \n",
    "    scoring='f1' #задаём метрику\n",
    "    )  \n",
    "%time grid_search.fit(X_train, y_train) \n",
    "print(\"f1_score на тренировочной выборке: {:.2f}\".format(grid_search.score(X_train, y_train)))\n",
    "print(\"f1_score на тестовой  выборке: {:.2f}\".format(grid_search.score(X_test, y_test)))\n",
    "print(\"Наилучшие значения гиперпараметров: {}\".format(grid_search.best_params_))\n",
    "print(\"Наилучшее значение точности при кросс-валидаци: {:.2f}\".format(grid_search.best_score_))"
   ]
  },
  {
   "cell_type": "code",
   "execution_count": 216,
   "id": "J8Fvuix4j1o5",
   "metadata": {
    "colab": {
     "base_uri": "https://localhost:8080/",
     "height": 296
    },
    "executionInfo": {
     "elapsed": 990,
     "status": "ok",
     "timestamp": 1650548413834,
     "user": {
      "displayName": "VICDS _",
      "userId": "16539764637744847477"
     },
     "user_tz": -180
    },
    "id": "J8Fvuix4j1o5",
    "outputId": "4a273bb7-e0e2-4b00-bb90-3c8c655b5855"
   },
   "outputs": [
    {
     "data": {
      "image/png": "[encoded data removed]",
      "text/plain": [
       "<Figure size 1200x800 with 2 Axes>"
      ]
     },
     "metadata": {},
     "output_type": "display_data"
    }
   ],
   "source": [
    "# отрисуем, как менялась точность при различных гиперпараметрах\n",
    "visual = pd.pivot_table(pd.DataFrame(grid_search.cv_results_),\n",
    "                        values='mean_test_score', index='param_C',\n",
    "                        columns='param_solver')\n",
    "sns.heatmap(visual)\n",
    "plt.title('Тепловая карта зависимости метрики F1 от solver и С') # подпись графика\n",
    "sns.set(rc={'figure.figsize':(12, 8)}) #задаем размер графика"
   ]
  },
  {
   "attachments": {},
   "cell_type": "markdown",
   "id": "HdhfiJvUSia7",
   "metadata": {
    "id": "HdhfiJvUSia7"
   },
   "source": [
    "> На тепловой карте видно, что лучших результатов мы добились при использовании алгоритмов `saga`, и коэффициента регуляризации `0.01 < C < 0.3`. При этом метрика не изменилась, то есть нам не удалось улучшить модель.\n",
    "Попробуем сузить границы гиперпараметров и подобрать их снова. "
   ]
  },
  {
   "cell_type": "code",
   "execution_count": 217,
   "id": "59b768ab",
   "metadata": {},
   "outputs": [
    {
     "name": "stdout",
     "output_type": "stream",
     "text": [
      "CPU times: total: 1.62 s\n",
      "Wall time: 17.9 s\n",
      "f1_score на тренировочной выборке: 0.83\n",
      "f1_score на тестовой выборке: 0.78\n",
      "Наилучшие значения гиперпараметров: {'C': 0.02, 'penalty': 'l2', 'solver': 'lbfgs'}\n",
      "Наилучшее значение точности при кросс-валидаци: 0.79\n"
     ]
    }
   ],
   "source": [
    "#задаём более узкую сетку гиперпараметров, из которых будем отбирать лучшие\n",
    "param_grid = {'penalty': ['l2','none'] ,#тип регурялизации\n",
    "              'solver': ['lbfgs', 'saga'], #алгоритм оптимизации\n",
    "              'C': [0.01, 0.015, 0.02, 0.025, 0.03], # уровень силы регурялизации\n",
    "              }\n",
    "grid_search = GridSearchCV(\n",
    "    estimator=linear_model.LogisticRegression(\n",
    "    random_state=random_state, #генератор случайных чисел\n",
    "    max_iter=50 #количество итераций на сходимость\n",
    "    ), \n",
    "    param_grid=param_grid, \n",
    "    cv=5, #ограничиваем количество фолдов 5\n",
    "    n_jobs = -1, \n",
    "    scoring='f1' #задаём метрику\n",
    "    )  \n",
    "%time grid_search.fit(X_train, y_train) \n",
    "print(\"f1_score на тренировочной выборке: {:.2f}\".format(grid_search.score(X_train, y_train)))\n",
    "print(\"f1_score на тестовой выборке: {:.2f}\".format(grid_search.score(X_test, y_test)))\n",
    "print(\"Наилучшие значения гиперпараметров: {}\".format(grid_search.best_params_))\n",
    "print(\"Наилучшее значение точности при кросс-валидаци: {:.2f}\".format(grid_search.best_score_))"
   ]
  },
  {
   "cell_type": "code",
   "execution_count": 218,
   "id": "e41cae7d",
   "metadata": {},
   "outputs": [
    {
     "data": {
      "image/png": "[encoded data removed]",
      "text/plain": [
       "<Figure size 1200x800 with 2 Axes>"
      ]
     },
     "metadata": {},
     "output_type": "display_data"
    }
   ],
   "source": [
    "# отрисуем, как менялась точность при различных гиперпараметрах\n",
    "visual = pd.pivot_table(pd.DataFrame(grid_search.cv_results_),\n",
    "                        values='mean_test_score', index='param_C',\n",
    "                        columns='param_solver')\n",
    "sns.heatmap(visual)\n",
    "plt.title('Тепловая карта зависимости метрики F1 от solver и С') # подпись графика\n",
    "sns.set(rc={'figure.figsize':(12, 8)}) #задаем размер графика"
   ]
  },
  {
   "attachments": {},
   "cell_type": "markdown",
   "id": "62c215ed",
   "metadata": {},
   "source": [
    "> Даже сужение границ сетки гиперпараметров не помогло улучшить метрику. Возможно, наилучшие гиперпараметры просто не попали в сетку. Попробуем подобрать их с помошью `RandomizedSearchCV`."
   ]
  },
  {
   "cell_type": "markdown",
   "id": "QOlWE5zSptj0",
   "metadata": {
    "id": "QOlWE5zSptj0"
   },
   "source": [
    "### <center> **RandomizedSearchCV**"
   ]
  },
  {
   "cell_type": "code",
   "execution_count": 219,
   "id": "4yjUJJKntcX7",
   "metadata": {
    "colab": {
     "base_uri": "https://localhost:8080/"
    },
    "executionInfo": {
     "elapsed": 67382,
     "status": "ok",
     "timestamp": 1650548481134,
     "user": {
      "displayName": "VICDS _",
      "userId": "16539764637744847477"
     },
     "user_tz": -180
    },
    "id": "4yjUJJKntcX7",
    "outputId": "c7964d60-9c70-42f4-8f0c-217d9e568ddc"
   },
   "outputs": [
    {
     "name": "stdout",
     "output_type": "stream",
     "text": [
      "CPU times: total: 2.25 s\n",
      "Wall time: 11.9 s\n",
      "F1 на тренировочной выборке: 0.85\n",
      "F1 на тестовой выборке: 0.79\n",
      "Наилучшие значения гиперпараметров: {'solver': 'saga', 'penalty': 'l2', 'C': 0.1}\n"
     ]
    }
   ],
   "source": [
    "param_distributions = {\n",
    "    'penalty': ['none','l2'] ,#тип регурялизации\n",
    "    'solver': ['lbfgs', 'saga'], #алгоритм оптимизации\n",
    "    'C': [0.01, 0.05, 0.1, 0.15, 0.2, 0.25, 0.3], # уровень силы регурялизации\n",
    "    },\n",
    "            \n",
    "random_search = RandomizedSearchCV(\n",
    "    estimator=linear_model.LogisticRegression(random_state=random_state, max_iter=50), \n",
    "    param_distributions=param_distributions, \n",
    "    cv=5, \n",
    "    n_iter = 10, \n",
    "    n_jobs = -1,\n",
    "    scoring = 'f1'\n",
    "\n",
    ")  \n",
    "%time random_search.fit(X_train, y_train) \n",
    "print(\"F1 на тренировочной выборке: {:.2f}\".format(random_search.score(X_train, y_train)))\n",
    "print(\"F1 на тестовой выборке: {:.2f}\".format(random_search.score(X_test, y_test)))\n",
    "print(\"Наилучшие значения гиперпараметров: {}\".format(random_search.best_params_))"
   ]
  },
  {
   "attachments": {},
   "cell_type": "markdown",
   "id": "c84145ed",
   "metadata": {},
   "source": [
    "> К сожалению, даже с помощью `RandomizedSearchCV` нам не удалось улучшить метрику $F_1$. Даже с подобранными гиперпараметрами модель показывает практически тот же результат на тестовой выборке, что и с параметрами по умолчанию."
   ]
  },
  {
   "attachments": {},
   "cell_type": "markdown",
   "id": "864fa497",
   "metadata": {},
   "source": [
    "## <center> **Hyperopt** "
   ]
  },
  {
   "cell_type": "code",
   "execution_count": 220,
   "id": "6ac00f06",
   "metadata": {},
   "outputs": [],
   "source": [
    "# Настроим оптимизацию гиперпараметров для алгоритма линейной регрессии ориентируясь на предыдущие подобранные параметры\n",
    "# зададим пространство поиска гиперпараметров\n",
    "space={'penalty':hp.choice(label='penalty', options=['l2', 'none']),\n",
    "       'C':hp.loguniform(label='C',  low=-4*np.log(10), high=2*np.log(10)),\n",
    "       'solver' : hp.choice(label='solver', options=['lbfgs','saga']),\n",
    "      }"
   ]
  },
  {
   "cell_type": "code",
   "execution_count": 221,
   "id": "64413f50",
   "metadata": {},
   "outputs": [],
   "source": [
    "#Интерфейс `hyperopt` отличается от `Grid` или `RandomizedSearch`, поэтому создадим функцию для минимизации,\n",
    "#она должна принимать словарь значений гиперпараметров и возвращать значение целевой функции.\n",
    "def hyperopt_rf(params, cv=5, X=X_train, y=y_train, random_state=random_state):\n",
    "    # функция получает комбинацию гиперпараметров в \"params\"\n",
    "    params = {'penalty': str(params['penalty']), \n",
    "              'solver': str(params['solver']), \n",
    "              'C': float(params['C'])\n",
    "              }\n",
    "  \n",
    "    # используем эту комбинацию для построения модели\n",
    "    model = linear_model.LogisticRegression(**params, max_iter = 50, random_state=random_state)\n",
    "\n",
    "    # обучаем модель\n",
    "    model.fit(X, y)\n",
    "    score = metrics.f1_score(y, model.predict(X))\n",
    "    \n",
    "    # задаём параметры кросс-валидации (стратифицированная с перемешиванием)\n",
    "    skf = StratifiedKFold(n_splits=cv, shuffle=True, random_state=random_state)\n",
    "\n",
    "    # применим  cross validation с тем же количеством фолдов\n",
    "    score = cross_val_score(model, X, y, cv=skf, scoring=\"f1\", n_jobs=-1).mean()\n",
    "\n",
    "    # метрику необходимо минимизировать, поэтому ставим знак минус\n",
    "    return -score"
   ]
  },
  {
   "cell_type": "code",
   "execution_count": null,
   "id": "7602c407",
   "metadata": {},
   "outputs": [
    {
     "name": "stdout",
     "output_type": "stream",
     "text": [
      "100%|██████████| 20/20 [00:59<00:00,  3.00s/trial, best loss: -0.7855273194376095]\n",
      "Наилучшие значения гиперпараметров {'C': 0.07644393107925136, 'penalty': 0, 'solver': 1}\n"
     ]
    }
   ],
   "source": [
    "# начинаем подбор гиперпараметров\n",
    "trials = Trials() # используется для логирования результатов\n",
    "\n",
    "best=fmin(hyperopt_rf, # наша функция \n",
    "    space=space, # пространство гиперпараметров\n",
    "    algo=tpe.suggest, # алгоритм оптимизации, установлен по умолчанию, задавать необязательно\n",
    "    max_evals=20, # максимальное количество итераций\n",
    "    trials=trials, # логирование результатов\n",
    "    rstate=np.random.default_rng(random_state)# фиксируем для повторяемости результата\n",
    ")\n",
    "print(\"Наилучшие значения гиперпараметров {}\".format(best))"
   ]
  },
  {
   "cell_type": "code",
   "execution_count": 222,
   "id": "4e49f175",
   "metadata": {},
   "outputs": [
    {
     "name": "stdout",
     "output_type": "stream",
     "text": [
      "f1_score на тренировочной выборке: 0.83\n",
      "f1_score на тестовой выборке: 0.76\n"
     ]
    }
   ],
   "source": [
    "if best['penalty'] == 0: penalty_hp='l2'\n",
    "elif best['penalty'] == 1: penalty_hp='none'\n",
    "\n",
    "if best['solver'] == 0: solver_hp='lbfgs'\n",
    "elif best['solver'] == 1: solver_hp='saga'\n",
    "\n",
    "# рассчитаем точность для тестовой выборки\n",
    "model = linear_model.LogisticRegression(\n",
    "    random_state=random_state, \n",
    "    max_iter=50,\n",
    "    penalty=penalty_hp,\n",
    "    C=float(best['C']),\n",
    "    solver=solver_hp\n",
    ")\n",
    "model.fit(X_train, y_train)\n",
    "y_train_pred = model.predict(X_train)\n",
    "print(\"f1_score на тренировочной выборке: {:.2f}\".format(model.score(X_train, y_train)))\n",
    "print(\"f1_score на тестовой выборке: {:.2f}\".format(model.score(X_test, y_test)))"
   ]
  },
  {
   "attachments": {},
   "cell_type": "markdown",
   "id": "eacb66ed",
   "metadata": {},
   "source": [
    "> Даже с помощью метода `hyperopt` нам не удалось улучшить метрику. Остаётся одна наджеда на `optuna`"
   ]
  },
  {
   "attachments": {},
   "cell_type": "markdown",
   "id": "55b55a93",
   "metadata": {},
   "source": [
    "## <center> Optuna"
   ]
  },
  {
   "cell_type": "code",
   "execution_count": 231,
   "id": "e40968d7",
   "metadata": {},
   "outputs": [],
   "source": [
    "# Настроим оптимизацию гиперпараметров \n",
    "def optuna_rf(trial):\n",
    "  # задаем пространства поиска гиперпараметров\n",
    "  penalty = trial.suggest_categorical('penalty', ['none', 'l2'])\n",
    "  C = trial.suggest_float('C', 0.01, 1)\n",
    "  solver = trial.suggest_categorical('solver', ['saga', 'lbfgs'])\n",
    "\n",
    "  # создаем модель\n",
    "  model = linear_model.LogisticRegression(solver=solver,\n",
    "                                          penalty=penalty,\n",
    "                                          C=C,\n",
    "                                          max_iter=50,\n",
    "                                          random_state=random_state)\n",
    "  # обучаем модель\n",
    "  model.fit(X_train, y_train)\n",
    "  score = metrics.f1_score(y_train, model.predict(X_train))\n",
    "\n",
    "  return score"
   ]
  },
  {
   "cell_type": "code",
   "execution_count": 232,
   "id": "d8cf0192",
   "metadata": {},
   "outputs": [
    {
     "name": "stderr",
     "output_type": "stream",
     "text": [
      "\u001b[32m[I 2023-05-05 12:21:46,526]\u001b[0m A new study created in memory with name: LogisticRegression\u001b[0m\n",
      "\u001b[32m[I 2023-05-05 12:21:46,826]\u001b[0m Trial 0 finished with value: 0.880683552029295 and parameters: {'penalty': 'none', 'C': 0.7864230015210966, 'solver': 'lbfgs'}. Best is trial 0 with value: 0.880683552029295.\u001b[0m\n",
      "\u001b[32m[I 2023-05-05 12:21:47,122]\u001b[0m Trial 1 finished with value: 0.880683552029295 and parameters: {'penalty': 'none', 'C': 0.18840659559704387, 'solver': 'lbfgs'}. Best is trial 0 with value: 0.880683552029295.\u001b[0m\n",
      "\u001b[32m[I 2023-05-05 12:21:49,243]\u001b[0m Trial 2 finished with value: 0.8654369519201692 and parameters: {'penalty': 'l2', 'C': 0.6527683359895765, 'solver': 'saga'}. Best is trial 0 with value: 0.880683552029295.\u001b[0m\n",
      "\u001b[32m[I 2023-05-05 12:21:49,536]\u001b[0m Trial 3 finished with value: 0.880683552029295 and parameters: {'penalty': 'none', 'C': 0.5241251084135894, 'solver': 'lbfgs'}. Best is trial 0 with value: 0.880683552029295.\u001b[0m\n",
      "\u001b[32m[I 2023-05-05 12:21:49,818]\u001b[0m Trial 4 finished with value: 0.880683552029295 and parameters: {'penalty': 'none', 'C': 0.12048240172213949, 'solver': 'lbfgs'}. Best is trial 0 with value: 0.880683552029295.\u001b[0m\n",
      "\u001b[32m[I 2023-05-05 12:21:50,109]\u001b[0m Trial 5 finished with value: 0.880683552029295 and parameters: {'penalty': 'none', 'C': 0.8549502129770588, 'solver': 'lbfgs'}. Best is trial 0 with value: 0.880683552029295.\u001b[0m\n",
      "\u001b[32m[I 2023-05-05 12:21:52,166]\u001b[0m Trial 6 finished with value: 0.8659606656580938 and parameters: {'penalty': 'l2', 'C': 0.9646002801181457, 'solver': 'saga'}. Best is trial 0 with value: 0.880683552029295.\u001b[0m\n",
      "\u001b[32m[I 2023-05-05 12:21:54,251]\u001b[0m Trial 7 finished with value: 0.8684050939963613 and parameters: {'penalty': 'none', 'C': 0.4697660654096339, 'solver': 'saga'}. Best is trial 0 with value: 0.880683552029295.\u001b[0m\n",
      "\u001b[32m[I 2023-05-05 12:21:54,548]\u001b[0m Trial 8 finished with value: 0.8737511353315168 and parameters: {'penalty': 'l2', 'C': 0.3291495202193477, 'solver': 'lbfgs'}. Best is trial 0 with value: 0.880683552029295.\u001b[0m\n",
      "\u001b[32m[I 2023-05-05 12:21:54,839]\u001b[0m Trial 9 finished with value: 0.8721212121212122 and parameters: {'penalty': 'l2', 'C': 0.3730928795713201, 'solver': 'lbfgs'}. Best is trial 0 with value: 0.880683552029295.\u001b[0m\n",
      "\u001b[32m[I 2023-05-05 12:21:56,915]\u001b[0m Trial 10 finished with value: 0.8684050939963613 and parameters: {'penalty': 'none', 'C': 0.7500358918709209, 'solver': 'saga'}. Best is trial 0 with value: 0.880683552029295.\u001b[0m\n",
      "\u001b[32m[I 2023-05-05 12:21:57,226]\u001b[0m Trial 11 finished with value: 0.880683552029295 and parameters: {'penalty': 'none', 'C': 0.047621517450369466, 'solver': 'lbfgs'}. Best is trial 0 with value: 0.880683552029295.\u001b[0m\n",
      "\u001b[32m[I 2023-05-05 12:21:57,521]\u001b[0m Trial 12 finished with value: 0.880683552029295 and parameters: {'penalty': 'none', 'C': 0.22354679815602108, 'solver': 'lbfgs'}. Best is trial 0 with value: 0.880683552029295.\u001b[0m\n",
      "\u001b[32m[I 2023-05-05 12:21:57,819]\u001b[0m Trial 13 finished with value: 0.880683552029295 and parameters: {'penalty': 'none', 'C': 0.6628505949211595, 'solver': 'lbfgs'}. Best is trial 0 with value: 0.880683552029295.\u001b[0m\n",
      "\u001b[32m[I 2023-05-05 12:21:58,108]\u001b[0m Trial 14 finished with value: 0.880683552029295 and parameters: {'penalty': 'none', 'C': 0.1985604656314355, 'solver': 'lbfgs'}. Best is trial 0 with value: 0.880683552029295.\u001b[0m\n",
      "\u001b[32m[I 2023-05-05 12:21:58,403]\u001b[0m Trial 15 finished with value: 0.880683552029295 and parameters: {'penalty': 'none', 'C': 0.0288711864630396, 'solver': 'lbfgs'}. Best is trial 0 with value: 0.880683552029295.\u001b[0m\n",
      "\u001b[32m[I 2023-05-05 12:21:58,692]\u001b[0m Trial 16 finished with value: 0.880683552029295 and parameters: {'penalty': 'none', 'C': 0.5274170092047293, 'solver': 'lbfgs'}. Best is trial 0 with value: 0.880683552029295.\u001b[0m\n",
      "\u001b[32m[I 2023-05-05 12:21:58,993]\u001b[0m Trial 17 finished with value: 0.880683552029295 and parameters: {'penalty': 'none', 'C': 0.9754799799136942, 'solver': 'lbfgs'}. Best is trial 0 with value: 0.880683552029295.\u001b[0m\n",
      "\u001b[32m[I 2023-05-05 12:22:01,111]\u001b[0m Trial 18 finished with value: 0.8620481927710844 and parameters: {'penalty': 'l2', 'C': 0.2901958412493213, 'solver': 'saga'}. Best is trial 0 with value: 0.880683552029295.\u001b[0m\n",
      "\u001b[32m[I 2023-05-05 12:22:01,418]\u001b[0m Trial 19 finished with value: 0.880683552029295 and parameters: {'penalty': 'none', 'C': 0.42790752077668237, 'solver': 'lbfgs'}. Best is trial 0 with value: 0.880683552029295.\u001b[0m\n"
     ]
    }
   ],
   "source": [
    "# cоздаем объект исследования\n",
    "# можем напрямую указать, что нам необходимо максимизировать метрику direction=\"maximize\"\n",
    "study = optuna.create_study(study_name=\"LogisticRegression\", direction=\"maximize\")\n",
    "# ищем лучшую комбинацию гиперпараметров n_trials раз\n",
    "study.optimize(optuna_rf, n_trials=20)"
   ]
  },
  {
   "cell_type": "code",
   "execution_count": 233,
   "id": "40a38a00",
   "metadata": {},
   "outputs": [
    {
     "name": "stdout",
     "output_type": "stream",
     "text": [
      "Наилучшие значения гиперпараметров {'penalty': 'none', 'C': 0.7864230015210966, 'solver': 'lbfgs'}\n",
      "f1_score на тренировочной выборке: 0.88\n"
     ]
    }
   ],
   "source": [
    "# выводим результаты на обучающей выборке\n",
    "print(\"Наилучшие значения гиперпараметров {}\".format(study.best_params))\n",
    "print(\"f1_score на тренировочной выборке: {:.2f}\".format(study.best_value))"
   ]
  },
  {
   "cell_type": "code",
   "execution_count": 234,
   "id": "50128892",
   "metadata": {},
   "outputs": [
    {
     "name": "stdout",
     "output_type": "stream",
     "text": [
      "f1_score на тренировочной выборке: 0.88\n",
      "f1_score на тестовой выборке: 0.77\n"
     ]
    }
   ],
   "source": [
    "# рассчитаем точность для тестовой выборки\n",
    "model = linear_model.LogisticRegression(**study.best_params,random_state=random_state, max_iter=50)\n",
    "model.fit(X_train, y_train)\n",
    "y_train_pred = model.predict(X_train)\n",
    "print('f1_score на тренировочной выборке: {:.2f}'.format(metrics.f1_score(y_train, y_train_pred)))\n",
    "y_test_pred = model.predict(X_test)\n",
    "print('f1_score на тестовой выборке: {:.2f}'.format(metrics.f1_score(y_test, y_test_pred)))"
   ]
  },
  {
   "attachments": {},
   "cell_type": "markdown",
   "id": "f4489c4e",
   "metadata": {},
   "source": [
    "> Наилучший результат по метрике $F_1 = 0.79$ нам удалось достичь с помошью и `RandomizedSearchCV` гиперпараметров {'solver': 'saga', 'penalty': 'l2', 'C': 0.1}. Возможно, всё дело в неверно подобранной модели. Построим модель `RandomForestClassifier` и оценим её качество с помощью метрики $F_1$ "
   ]
  },
  {
   "attachments": {},
   "cell_type": "markdown",
   "id": "jBSbPYAYaAQ9",
   "metadata": {
    "id": "jBSbPYAYaAQ9",
    "tags": []
   },
   "source": [
    "### <center> **Случайный лес**"
   ]
  },
  {
   "attachments": {},
   "cell_type": "markdown",
   "id": "-4-TPHjgTBOs",
   "metadata": {
    "id": "-4-TPHjgTBOs"
   },
   "source": [
    "Попробуем постмроить модель RandomForestClassifier(). Для начала оценим метрику f1 с гиперпараметрами по умолчанию."
   ]
  },
  {
   "cell_type": "code",
   "execution_count": 235,
   "id": "XUYSiTfraARA",
   "metadata": {
    "colab": {
     "base_uri": "https://localhost:8080/"
    },
    "executionInfo": {
     "elapsed": 5007,
     "status": "ok",
     "timestamp": 1650551264191,
     "user": {
      "displayName": "VICDS _",
      "userId": "16539764637744847477"
     },
     "user_tz": -180
    },
    "id": "XUYSiTfraARA",
    "outputId": "5332fa04-ad32-4791-a3f7-163fad39406c"
   },
   "outputs": [
    {
     "name": "stdout",
     "output_type": "stream",
     "text": [
      "f1_score на тренировочной выборке: 1.00\n",
      "f1_score на тестовой выборке: 0.80\n"
     ]
    }
   ],
   "source": [
    "#Создаем объект класса случайный лес\n",
    "rf = ensemble.RandomForestClassifier(random_state=random_state)\n",
    "\n",
    "#Обучаем модель\n",
    "rf.fit(X_train, y_train)\n",
    "#Выводим значения метрики \n",
    "y_train_pred = rf.predict(X_train)\n",
    "print('f1_score на тренировочной выборке: {:.2f}'.format(metrics.f1_score(y_train, y_train_pred)))\n",
    "y_test_pred = rf.predict(X_test)\n",
    "print('f1_score на тестовой выборке: {:.2f}'.format(metrics.f1_score(y_test, y_test_pred)))"
   ]
  },
  {
   "attachments": {},
   "cell_type": "markdown",
   "id": "d06f7ac1",
   "metadata": {},
   "source": [
    "> Даже с параметрами по умолчанию нам удалось добиться более высокого значения метрики на тестовой выборке, но судя по метрике, полученной на тренировочной выборке, моджель переобучена и полностью подстроилась под полученные данные. Попробем подобрать гиперпараметры, чтобы избежать этого."
   ]
  },
  {
   "cell_type": "markdown",
   "id": "951c8ac7",
   "metadata": {},
   "source": [
    "### <center> **GridSearchCV**"
   ]
  },
  {
   "cell_type": "code",
   "execution_count": 274,
   "id": "6c9a2d9e",
   "metadata": {},
   "outputs": [
    {
     "name": "stdout",
     "output_type": "stream",
     "text": [
      "CPU times: total: 3.48 s\n",
      "Wall time: 55.3 s\n",
      "f1_score на тренировочной выборке: 0.95\n",
      "f1_score на тестовой выборке: 0.81\n",
      "Наилучшие значения гиперпараметров: {'max_depth': 30, 'min_samples_leaf': 5, 'n_estimators': 170}\n"
     ]
    }
   ],
   "source": [
    "#np.linspace(start(от), stop(до), num(количество), dtype - тип данных)\n",
    "param_grid = {'n_estimators': list(range(80, 200, 30)),\n",
    "              'min_samples_leaf': [5, 10, 15],\n",
    "              'max_depth': list(np.linspace(20, 40, 5, dtype=int))\n",
    "              }\n",
    "            \n",
    "grid_search_forest = GridSearchCV(\n",
    "    estimator=ensemble.RandomForestClassifier(random_state=random_state), \n",
    "    param_grid=param_grid, \n",
    "    cv=5, \n",
    "    n_jobs = -1,\n",
    "    scoring = 'f1'\n",
    ")  \n",
    "%time grid_search_forest.fit(X_train, y_train)  \n",
    "print('f1_score на тренировочной выборке: {:.2f}'.format(grid_search_forest.score(X_train, y_train)))\n",
    "print(\"f1_score на тестовой выборке: {:.2f}\".format(grid_search_forest.score(X_test, y_test)))\n",
    "print(\"Наилучшие значения гиперпараметров: {}\".format(grid_search_forest.best_params_))"
   ]
  },
  {
   "cell_type": "code",
   "execution_count": 237,
   "id": "1994425f",
   "metadata": {},
   "outputs": [
    {
     "data": {
      "image/png": "[encoded data removed]",
      "text/plain": [
       "<Figure size 1200x800 with 2 Axes>"
      ]
     },
     "metadata": {},
     "output_type": "display_data"
    }
   ],
   "source": [
    "# отрисуем, как менялась точность при различных гиперпараметрах\n",
    "visual = pd.pivot_table(pd.DataFrame(grid_search_forest.cv_results_),\n",
    "                        values='mean_test_score', index='param_n_estimators',\n",
    "                        columns='param_max_depth')\n",
    "sns.heatmap(visual)\n",
    "plt.title('Тепловая карта зависимости метрики F1 от solver и С') # подпись графика\n",
    "sns.set(rc={'figure.figsize':(12, 8)}) #задаем размер графика"
   ]
  },
  {
   "attachments": {},
   "cell_type": "markdown",
   "id": "257bd166",
   "metadata": {},
   "source": [
    "> Нам удалось не только улучшить метрику на тестовой выборке, но и снизить метрику на тренировочной выборке, а значит уменьшить переобучение модели.  Попробуем сузить сетку гиперпараметров и подобрать их вновь"
   ]
  },
  {
   "cell_type": "code",
   "execution_count": 273,
   "id": "02b1a68f",
   "metadata": {},
   "outputs": [
    {
     "name": "stdout",
     "output_type": "stream",
     "text": [
      "CPU times: total: 2.75 s\n",
      "Wall time: 1min 16s\n",
      "f1_score на тренировочной выборке: 0.93\n",
      "f1_score на тестовой выборке: 0.80\n",
      "Наилучшие значения гиперпараметров: {'max_depth': 20, 'min_samples_leaf': 6, 'n_estimators': 140}\n"
     ]
    }
   ],
   "source": [
    "#np.linspace(start(от), stop(до), num(количество), dtype - тип данных)\n",
    "param_grid = {'n_estimators': list(range(140, 180, 10)),\n",
    "              'min_samples_leaf': [4,5,6],\n",
    "              'max_depth': list(np.linspace(20, 41, 5, dtype=int))\n",
    "              }\n",
    "            \n",
    "grid_search_forest = GridSearchCV(\n",
    "    estimator=ensemble.RandomForestClassifier(random_state=random_state), \n",
    "    param_grid=param_grid, \n",
    "    cv=5, \n",
    "    n_jobs = -1,\n",
    "    scoring = 'f1'\n",
    ")  \n",
    "%time grid_search_forest.fit(X_train, y_train)  \n",
    "print('f1_score на тренировочной выборке: {:.2f}'.format(grid_search_forest.score(X_train, y_train)))\n",
    "print(\"f1_score на тестовой выборке: {:.2f}\".format(grid_search_forest.score(X_test, y_test)))\n",
    "print(\"Наилучшие значения гиперпараметров: {}\".format(grid_search_forest.best_params_))"
   ]
  },
  {
   "attachments": {},
   "cell_type": "markdown",
   "id": "771a42cf",
   "metadata": {},
   "source": [
    "> Значительных успехов добиться не удалось. Значение метрики $F_1$ на тестовой и тренировочной выборке чуть снизилось. Попробуем подобрать гиперпараметры с помощью метода `RandomizedSearchCV`, который так хорошо показал себя на модели Линейной регрессии"
   ]
  },
  {
   "attachments": {},
   "cell_type": "markdown",
   "id": "0b17d580",
   "metadata": {},
   "source": [
    "### <center> **RandomizedSearchCV**"
   ]
  },
  {
   "cell_type": "code",
   "execution_count": 272,
   "id": "TBSxQJ6JzS1f",
   "metadata": {
    "colab": {
     "base_uri": "https://localhost:8080/"
    },
    "executionInfo": {
     "elapsed": 116021,
     "status": "ok",
     "timestamp": 1650551380171,
     "user": {
      "displayName": "VICDS _",
      "userId": "16539764637744847477"
     },
     "user_tz": -180
    },
    "id": "TBSxQJ6JzS1f",
    "outputId": "ecddf908-16fb-4ccb-88dc-025270b99d05"
   },
   "outputs": [
    {
     "name": "stdout",
     "output_type": "stream",
     "text": [
      "CPU times: total: 2.56 s\n",
      "Wall time: 15.8 s\n",
      "f1_score на тренировочной выборке: 0.95\n",
      "f1_score на тестовой выборке: 0.81\n",
      "Наилучшие значения гиперпараметров: {'n_estimators': 170, 'min_samples_leaf': 5, 'max_depth': 33}\n"
     ]
    }
   ],
   "source": [
    "#np.linspace(start(от), stop(до), num(количество), dtype - тип данных)\n",
    "param_distributions = {'n_estimators': list(range(80, 200, 30)),\n",
    "              'min_samples_leaf': [5, 10, 15],\n",
    "              'max_depth': list(np.linspace(20, 40, 10, dtype=int))\n",
    "              }\n",
    "            \n",
    "random_search_forest = RandomizedSearchCV(\n",
    "    estimator=ensemble.RandomForestClassifier(random_state=random_state), \n",
    "    param_distributions=param_distributions, \n",
    "    cv=5,\n",
    "    n_iter = 10, \n",
    "    n_jobs = -1,\n",
    "    scoring = 'f1'\n",
    ")  \n",
    "%time random_search_forest.fit(X_train, y_train) \n",
    "print('f1_score на тренировочной выборке: {:.2f}'.format(random_search_forest.score(X_train, y_train)))\n",
    "print(\"f1_score на тестовой выборке: {:.2f}\".format(random_search_forest.score(X_test, y_test)))\n",
    "print(\"Наилучшие значения гиперпараметров: {}\".format(random_search_forest.best_params_))"
   ]
  },
  {
   "attachments": {},
   "cell_type": "markdown",
   "id": "1f779d90",
   "metadata": {},
   "source": [
    "> С помощью метода `RandomizedSearchCV` мы получили мтерику $F_1=0.81$ примерно с теми же параметрами, что мы получили и с помощью метода `GridSearchCV`, возможно, это наилучшее значение для нашей модели. Проверим это с помощью методов продвинутой оптимизации."
   ]
  },
  {
   "cell_type": "markdown",
   "id": "Kmo2b6kPChhN",
   "metadata": {
    "id": "Kmo2b6kPChhN"
   },
   "source": [
    "### <center> Hyperopt"
   ]
  },
  {
   "cell_type": "code",
   "execution_count": 243,
   "id": "8dWxW_9K_qJp",
   "metadata": {
    "id": "8dWxW_9K_qJp"
   },
   "outputs": [],
   "source": [
    "# Настроим оптимизацию гиперпараметров для алгоритма случайного леса ориентируясь на предыдущие подобранные параметры\n",
    "space={'n_estimators': hp.quniform('n_estimators', 100, 200, 1),\n",
    "       'max_depth' : hp.quniform('max_depth', 15, 26, 1),\n",
    "       'min_samples_leaf': hp.quniform('min_samples_leaf', 2, 10, 1)\n",
    "      }"
   ]
  },
  {
   "cell_type": "code",
   "execution_count": 245,
   "id": "t3JS7HXU8pd2",
   "metadata": {
    "id": "t3JS7HXU8pd2"
   },
   "outputs": [],
   "source": [
    "#Интерфейс `hyperopt` отличается от `Grid` или `RandomizedSearch`, поэтому создадим функцию для минимизации,\n",
    "#она должна принимать словарь значений гиперпараметров и возвращать значение целевой функции.\n",
    "def hyperopt_rf(params, cv=5, X=X_train, y=y_train, random_state=random_state):\n",
    "    # функция получает комбинацию гиперпараметров в \"params\"\n",
    "    params = {'n_estimators': int(params['n_estimators']), \n",
    "              'max_depth': int(params['max_depth']), \n",
    "             'min_samples_leaf': int(params['min_samples_leaf'])\n",
    "              }\n",
    "  \n",
    "    # используем эту комбинацию для построения модели\n",
    "    model = ensemble.RandomForestClassifier(**params, random_state=random_state)\n",
    "\n",
    "    # обучаем модель\n",
    "    model.fit(X, y)\n",
    "    score = metrics.f1_score(y, model.predict(X))\n",
    "    \n",
    "    # применим  cross validation с тем же количеством фолдов\n",
    "    score = cross_val_score(model, X, y, cv=cv, scoring=\"f1\", n_jobs=-1).mean()\n",
    "\n",
    "    # метрику необходимо минимизировать, поэтому ставим знак минус\n",
    "    return -score"
   ]
  },
  {
   "cell_type": "code",
   "execution_count": 250,
   "id": "qxKIThc002O1",
   "metadata": {
    "colab": {
     "base_uri": "https://localhost:8080/"
    },
    "executionInfo": {
     "elapsed": 70337,
     "status": "ok",
     "timestamp": 1650551679952,
     "user": {
      "displayName": "VICDS _",
      "userId": "16539764637744847477"
     },
     "user_tz": -180
    },
    "id": "qxKIThc002O1",
    "outputId": "4b4bea25-30cc-4c10-a4e9-9a5e9e1778aa"
   },
   "outputs": [
    {
     "name": "stdout",
     "output_type": "stream",
     "text": [
      "100%|██████████| 20/20 [01:25<00:00,  4.29s/trial, best loss: -0.8160803811393121]\n",
      "Наилучшие значения гиперпараметров {'max_depth': 18.0, 'min_samples_leaf': 2.0, 'n_estimators': 103.0}\n"
     ]
    }
   ],
   "source": [
    "# начинаем подбор гиперпараметров\n",
    "trials = Trials() # используется для логирования результатов\n",
    "\n",
    "best=fmin(hyperopt_rf, # наша функция \n",
    "    space=space, # пространство гиперпараметров\n",
    "    algo=tpe.suggest, # алгоритм оптимизации, установлен по умолчанию, задавать необязательно\n",
    "    max_evals=20, # максимальное количество итераций\n",
    "    trials=trials, # логирование результатов\n",
    "    rstate=np.random.default_rng(random_state)# фиксируем для повторяемости результата\n",
    ")\n",
    "print(\"Наилучшие значения гиперпараметров {}\".format(best))"
   ]
  },
  {
   "cell_type": "code",
   "execution_count": 251,
   "id": "GjN-n5J601hy",
   "metadata": {
    "colab": {
     "base_uri": "https://localhost:8080/"
    },
    "executionInfo": {
     "elapsed": 4134,
     "status": "ok",
     "timestamp": 1650551683990,
     "user": {
      "displayName": "VICDS _",
      "userId": "16539764637744847477"
     },
     "user_tz": -180
    },
    "id": "GjN-n5J601hy",
    "outputId": "c777ff23-61fa-4988-b1c6-d0d44ec39792"
   },
   "outputs": [
    {
     "name": "stdout",
     "output_type": "stream",
     "text": [
      "f1_score на тренировочной выборке: 0.99\n",
      "f1_score на тестовой выборке: 0.81\n"
     ]
    }
   ],
   "source": [
    "# рассчитаем точность для тестовой выборки\n",
    "model = ensemble.RandomForestClassifier(\n",
    "    random_state=random_state, \n",
    "    n_estimators=int(best['n_estimators']),\n",
    "    max_depth=int(best['max_depth']),\n",
    "    min_samples_leaf=int(best['min_samples_leaf'])\n",
    ")\n",
    "model.fit(X_train, y_train)\n",
    "y_train_pred = model.predict(X_train)\n",
    "print('f1_score на тренировочной выборке: {:.2f}'.format(metrics.f1_score(y_train, y_train_pred)))\n",
    "y_test_pred = model.predict(X_test)\n",
    "print('f1_score на тестовой выборке: {:.2f}'.format(metrics.f1_score(y_test, y_test_pred)))"
   ]
  },
  {
   "attachments": {},
   "cell_type": "markdown",
   "id": "4863de2e",
   "metadata": {},
   "source": [
    "> Хоть мы и получили мтерику $F_1=0.81$ на тестовой выборке, но на тернировочной выборке метрика снова увеличилась, что говорит о переобучении модели."
   ]
  },
  {
   "cell_type": "code",
   "execution_count": 252,
   "id": "m2DYa5gQ9Ffu",
   "metadata": {
    "colab": {
     "base_uri": "https://localhost:8080/",
     "height": 667
    },
    "executionInfo": {
     "elapsed": 1797,
     "status": "ok",
     "timestamp": 1650551694678,
     "user": {
      "displayName": "VICDS _",
      "userId": "16539764637744847477"
     },
     "user_tz": -180
    },
    "id": "m2DYa5gQ9Ffu",
    "outputId": "667dc7a3-6916-44a7-a64e-319a8faf69c6"
   },
   "outputs": [
    {
     "data": {
      "image/png": "[encoded data removed]",
      "text/plain": [
       "<Figure size 1000x1000 with 3 Axes>"
      ]
     },
     "metadata": {},
     "output_type": "display_data"
    }
   ],
   "source": [
    "# отрисуем, как менялась точность при различных гиперпараметрах\n",
    "tpe_results=np.array([[x['result']['loss'],\n",
    "                      x['misc']['vals']['max_depth'][0],\n",
    "                      x['misc']['vals']['n_estimators'][0]] for x in trials.trials])\n",
    "\n",
    "tpe_results_df=pd.DataFrame(tpe_results,\n",
    "                           columns=['score', 'max_depth', 'n_estimators'])\n",
    "# тепловая карта в данном случае не очень наглядна, возьмем линейный график\n",
    "tpe_results_df.plot(subplots=True,figsize=(10, 10));"
   ]
  },
  {
   "cell_type": "markdown",
   "id": "b8734d51-d5d5-4424-b8a3-b341dde985b5",
   "metadata": {
    "id": "b8734d51-d5d5-4424-b8a3-b341dde985b5"
   },
   "source": [
    "## <center> Optuna"
   ]
  },
  {
   "cell_type": "code",
   "execution_count": 256,
   "id": "aSF_70FWu3T6",
   "metadata": {
    "id": "aSF_70FWu3T6"
   },
   "outputs": [],
   "source": [
    "def optuna_rf(trial):\n",
    "  # задаем пространства поиска гиперпараметров\n",
    "  n_estimators = trial.suggest_int('n_estimators', 100, 200, 1)\n",
    "  max_depth = trial.suggest_int('max_depth', 10, 30, 1)\n",
    "  min_samples_leaf = trial.suggest_int('min_samples_leaf', 2, 10, 1)\n",
    "\n",
    "  # создаем модель\n",
    "  model = ensemble.RandomForestClassifier(n_estimators=n_estimators,\n",
    "                                          max_depth=max_depth,\n",
    "                                          min_samples_leaf=min_samples_leaf,\n",
    "                                          random_state=random_state)\n",
    "  # обучаем модель\n",
    "  model.fit(X_train, y_train)\n",
    "  score = metrics.f1_score(y_train, model.predict(X_train))\n",
    "\n",
    "  return score  "
   ]
  },
  {
   "cell_type": "code",
   "execution_count": 266,
   "id": "ubC21yLQpYyF",
   "metadata": {
    "colab": {
     "base_uri": "https://localhost:8080/"
    },
    "executionInfo": {
     "elapsed": 65014,
     "status": "ok",
     "timestamp": 1650551767856,
     "user": {
      "displayName": "VICDS _",
      "userId": "16539764637744847477"
     },
     "user_tz": -180
    },
    "id": "ubC21yLQpYyF",
    "outputId": "ea522f15-73ad-4e5c-9ee3-50212938acdd"
   },
   "outputs": [
    {
     "name": "stderr",
     "output_type": "stream",
     "text": [
      "\u001b[32m[I 2023-05-05 12:41:26,458]\u001b[0m A new study created in memory with name: RandomForestClassifier\u001b[0m\n",
      "\u001b[32m[I 2023-05-05 12:41:28,541]\u001b[0m Trial 0 finished with value: 0.9287454323995127 and parameters: {'n_estimators': 139, 'max_depth': 23, 'min_samples_leaf': 6}. Best is trial 0 with value: 0.9287454323995127.\u001b[0m\n",
      "\u001b[32m[I 2023-05-05 12:41:30,537]\u001b[0m Trial 1 finished with value: 0.9031866464339908 and parameters: {'n_estimators': 152, 'max_depth': 23, 'min_samples_leaf': 9}. Best is trial 0 with value: 0.9287454323995127.\u001b[0m\n",
      "\u001b[32m[I 2023-05-05 12:41:32,247]\u001b[0m Trial 2 finished with value: 0.9725106902871106 and parameters: {'n_estimators': 101, 'max_depth': 22, 'min_samples_leaf': 3}. Best is trial 2 with value: 0.9725106902871106.\u001b[0m\n",
      "\u001b[32m[I 2023-05-05 12:41:34,806]\u001b[0m Trial 3 finished with value: 0.9019726858877086 and parameters: {'n_estimators': 193, 'max_depth': 30, 'min_samples_leaf': 9}. Best is trial 2 with value: 0.9725106902871106.\u001b[0m\n",
      "\u001b[32m[I 2023-05-05 12:41:36,429]\u001b[0m Trial 4 finished with value: 0.9199391171993911 and parameters: {'n_estimators': 113, 'max_depth': 28, 'min_samples_leaf': 7}. Best is trial 2 with value: 0.9725106902871106.\u001b[0m\n",
      "\u001b[32m[I 2023-05-05 12:41:39,483]\u001b[0m Trial 5 finished with value: 0.9591463414634145 and parameters: {'n_estimators': 193, 'max_depth': 27, 'min_samples_leaf': 4}. Best is trial 2 with value: 0.9725106902871106.\u001b[0m\n",
      "\u001b[32m[I 2023-05-05 12:41:41,237]\u001b[0m Trial 6 finished with value: 0.9413919413919414 and parameters: {'n_estimators': 116, 'max_depth': 26, 'min_samples_leaf': 5}. Best is trial 2 with value: 0.9725106902871106.\u001b[0m\n",
      "\u001b[32m[I 2023-05-05 12:41:43,755]\u001b[0m Trial 7 finished with value: 0.9103701437748547 and parameters: {'n_estimators': 191, 'max_depth': 11, 'min_samples_leaf': 6}. Best is trial 2 with value: 0.9725106902871106.\u001b[0m\n",
      "\u001b[32m[I 2023-05-05 12:41:45,674]\u001b[0m Trial 8 finished with value: 0.9136931991460812 and parameters: {'n_estimators': 143, 'max_depth': 30, 'min_samples_leaf': 8}. Best is trial 2 with value: 0.9725106902871106.\u001b[0m\n",
      "\u001b[32m[I 2023-05-05 12:41:48,250]\u001b[0m Trial 9 finished with value: 0.9743589743589743 and parameters: {'n_estimators': 160, 'max_depth': 29, 'min_samples_leaf': 3}. Best is trial 9 with value: 0.9743589743589743.\u001b[0m\n",
      "\u001b[32m[I 2023-05-05 12:41:51,074]\u001b[0m Trial 10 finished with value: 0.9822846670739157 and parameters: {'n_estimators': 169, 'max_depth': 16, 'min_samples_leaf': 2}. Best is trial 10 with value: 0.9822846670739157.\u001b[0m\n",
      "\u001b[32m[I 2023-05-05 12:41:53,818]\u001b[0m Trial 11 finished with value: 0.982306284319707 and parameters: {'n_estimators': 165, 'max_depth': 16, 'min_samples_leaf': 2}. Best is trial 11 with value: 0.982306284319707.\u001b[0m\n",
      "\u001b[32m[I 2023-05-05 12:41:56,658]\u001b[0m Trial 12 finished with value: 0.9798657718120805 and parameters: {'n_estimators': 174, 'max_depth': 15, 'min_samples_leaf': 2}. Best is trial 11 with value: 0.982306284319707.\u001b[0m\n",
      "\u001b[32m[I 2023-05-05 12:41:59,484]\u001b[0m Trial 13 finished with value: 0.9862427392234792 and parameters: {'n_estimators': 168, 'max_depth': 17, 'min_samples_leaf': 2}. Best is trial 13 with value: 0.9862427392234792.\u001b[0m\n",
      "\u001b[32m[I 2023-05-05 12:42:02,167]\u001b[0m Trial 14 finished with value: 0.9567336989640463 and parameters: {'n_estimators': 176, 'max_depth': 17, 'min_samples_leaf': 4}. Best is trial 13 with value: 0.9862427392234792.\u001b[0m\n",
      "\u001b[32m[I 2023-05-05 12:42:04,233]\u001b[0m Trial 15 finished with value: 0.9599510852950168 and parameters: {'n_estimators': 136, 'max_depth': 12, 'min_samples_leaf': 2}. Best is trial 13 with value: 0.9862427392234792.\u001b[0m\n",
      "\u001b[32m[I 2023-05-05 12:42:06,710]\u001b[0m Trial 16 finished with value: 0.9566544566544566 and parameters: {'n_estimators': 160, 'max_depth': 19, 'min_samples_leaf': 4}. Best is trial 13 with value: 0.9862427392234792.\u001b[0m\n",
      "\u001b[32m[I 2023-05-05 12:42:09,498]\u001b[0m Trial 17 finished with value: 0.9606347268843454 and parameters: {'n_estimators': 181, 'max_depth': 14, 'min_samples_leaf': 3}. Best is trial 13 with value: 0.9862427392234792.\u001b[0m\n",
      "\u001b[32m[I 2023-05-05 12:42:11,562]\u001b[0m Trial 18 finished with value: 0.8957763597690671 and parameters: {'n_estimators': 159, 'max_depth': 19, 'min_samples_leaf': 10}. Best is trial 13 with value: 0.9862427392234792.\u001b[0m\n",
      "\u001b[32m[I 2023-05-05 12:42:13,378]\u001b[0m Trial 19 finished with value: 0.9288983826670735 and parameters: {'n_estimators': 127, 'max_depth': 13, 'min_samples_leaf': 5}. Best is trial 13 with value: 0.9862427392234792.\u001b[0m\n"
     ]
    },
    {
     "name": "stdout",
     "output_type": "stream",
     "text": [
      "CPU times: total: 46.8 s\n",
      "Wall time: 46.9 s\n"
     ]
    }
   ],
   "source": [
    "%%time\n",
    "# cоздаем объект исследования\n",
    "# можем напрямую указать, что нам необходимо максимизировать метрику direction=\"maximize\"\n",
    "study = optuna.create_study(study_name=\"RandomForestClassifier\", direction=\"maximize\")\n",
    "# ищем лучшую комбинацию гиперпараметров n_trials раз\n",
    "study.optimize(optuna_rf, n_trials=20)"
   ]
  },
  {
   "cell_type": "code",
   "execution_count": 267,
   "id": "6cNF33I2pYaq",
   "metadata": {
    "colab": {
     "base_uri": "https://localhost:8080/"
    },
    "executionInfo": {
     "elapsed": 89,
     "status": "ok",
     "timestamp": 1650551767860,
     "user": {
      "displayName": "VICDS _",
      "userId": "16539764637744847477"
     },
     "user_tz": -180
    },
    "id": "6cNF33I2pYaq",
    "outputId": "d21953d4-bdbe-4bb6-baae-d897096f14df"
   },
   "outputs": [
    {
     "name": "stdout",
     "output_type": "stream",
     "text": [
      "Наилучшие значения гиперпараметров {'n_estimators': 168, 'max_depth': 17, 'min_samples_leaf': 2}\n",
      "f1_score тренировочной выборке: 0.99\n"
     ]
    }
   ],
   "source": [
    "# выводим результаты на обучающей выборке\n",
    "print(\"Наилучшие значения гиперпараметров {}\".format(study.best_params))\n",
    "print(\"f1_score тренировочной выборке: {:.2f}\".format(study.best_value))"
   ]
  },
  {
   "cell_type": "code",
   "execution_count": 268,
   "id": "JlFIQ0p1pYAJ",
   "metadata": {
    "colab": {
     "base_uri": "https://localhost:8080/"
    },
    "executionInfo": {
     "elapsed": 3002,
     "status": "ok",
     "timestamp": 1650551770804,
     "user": {
      "displayName": "VICDS _",
      "userId": "16539764637744847477"
     },
     "user_tz": -180
    },
    "id": "JlFIQ0p1pYAJ",
    "outputId": "21fcd48a-c265-458d-e51c-91a68213ac33"
   },
   "outputs": [
    {
     "name": "stdout",
     "output_type": "stream",
     "text": [
      "f1_score на тренировочной выборке: 0.98\n",
      "f1_score на тестовой выборке: 0.78\n"
     ]
    }
   ],
   "source": [
    "# рассчитаем точность для тестовой выборки\n",
    "model = ensemble.RandomForestClassifier(**study.best_params,random_state=random_state)\n",
    "model.fit(X_train, y_train)\n",
    "print(\"f1_score на тренировочной выборке: {:.2f}\".format(model.score(X_train, y_train)))\n",
    "print(\"f1_score на тестовой выборке: {:.2f}\".format(model.score(X_test, y_test)))"
   ]
  },
  {
   "attachments": {},
   "cell_type": "markdown",
   "id": "iJJBn2LrzRJF",
   "metadata": {
    "id": "iJJBn2LrzRJF"
   },
   "source": [
    "> К сожалению, методы продвинутой оптимизации не помогли нам улучшить метрику."
   ]
  },
  {
   "attachments": {},
   "cell_type": "markdown",
   "id": "40224c54",
   "metadata": {},
   "source": [
    "## <center> Выводы"
   ]
  },
  {
   "attachments": {},
   "cell_type": "markdown",
   "id": "a1b2ec40",
   "metadata": {},
   "source": [
    "Наилучшего результата по метрике $F_1=0.81$ мы добились при построении модели `RandomForestClassifier` и подбора гиперпараметров с помощью методов `GridSearchCV` и `RandomizedSearchCV`. Стоит отметить, что при подборе параметров с помощью методов продвинутой оптимизации они всегда стримятся добитсья максмимума метрики, что приводит к переобучению модели и более низким результатам на тестовой выборке. \n",
    "\n",
    "Оптимальными параметрами для построения модели я бы выбрала `RandomForestClassifier(max_depth=20, min_samples_leaf=6, n_estimators=140)` либо `RandomForestClassifier(max_depth=30, min_samples_leaf=5, n_estimators=170)` так как это позволяет получить не переобученную модель с высокими показателями метрики на тестовой выборке. "
   ]
  }
 ],
 "metadata": {
  "colab": {
   "collapsed_sections": [
    "ezanmTbEaAOe",
    "8lbyun1kaAOy",
    "M20nsIRfaAP-"
   ],
   "name": "ML-7.Optimization of hyperparameters.ipynb",
   "provenance": []
  },
  "kernelspec": {
   "display_name": "Python 3 (ipykernel)",
   "language": "python",
   "name": "python3"
  },
  "language_info": {
   "codemirror_mode": {
    "name": "ipython",
    "version": 3
   },
   "file_extension": ".py",
   "mimetype": "text/x-python",
   "name": "python",
   "nbconvert_exporter": "python",
   "pygments_lexer": "ipython3",
   "version": "3.10.8"
  }
 },
 "nbformat": 4,
 "nbformat_minor": 5
}
