{
 "cells": [
  {
   "attachments": {},
   "cell_type": "markdown",
   "metadata": {},
   "source": [
    "# Статистические тесты"
   ]
  },
  {
   "attachments": {},
   "cell_type": "markdown",
   "metadata": {},
   "source": [
    "Используя информацию по мидиям Петербурга и Магадана, которые представлены в виде двух массивов petersburg и magadan в разделе ANOVA тест, проверьте данные на нормальность и на наличие корреляции. Для этого объедините 2 массива в DataFrame. Обоснуйте выбор теста на корреляцию. Сделайте вывод по гипотезе.\n",
    "\n",
    "Также ответьте на вопрос: Какова разница в среднем размере мидии в зависимости от города-производителя. Обоснуйте выбор теста. Сделайте вывод по гипотезе."
   ]
  },
  {
   "cell_type": "code",
   "execution_count": 1,
   "metadata": {},
   "outputs": [],
   "source": [
    "#Подгрузим библиотеки, которые потребуются для работы\n",
    "import pandas as pd\n",
    "from scipy.stats import shapiro\n",
    "from scipy.stats import normaltest\n",
    "from scipy.stats import pearsonr\n",
    "from scipy.stats import ttest_ind"
   ]
  },
  {
   "cell_type": "code",
   "execution_count": 2,
   "metadata": {},
   "outputs": [],
   "source": [
    "#Определим данные и создадим из них DataFrame\n",
    "\n",
    "petersburg = [0.0974, 0.1352, 0.0817, 0.1016, 0.0968, 0.1064, 0.105, None]\n",
    "magadan = [0.1033, 0.0915, 0.0781, 0.0685, 0.0677, 0.0697, 0.0764, 0.0689]\n",
    "\n",
    "data = pd.DataFrame({'Петербург':petersburg, 'Магадан':magadan})\n",
    "\n",
    "#Заменим пустое значение на среднее по городу.\n",
    "data['Петербург'] = data['Петербург'].fillna(data['Петербург'].median())"
   ]
  },
  {
   "attachments": {},
   "cell_type": "markdown",
   "metadata": {},
   "source": [
    "## Проверка данных на нормальность"
   ]
  },
  {
   "cell_type": "code",
   "execution_count": 3,
   "metadata": {},
   "outputs": [],
   "source": [
    "#Формулируем нулевую и альтернативную гипотезу\n",
    "H0 = 'Данные распределены нормально'\n",
    "Ha = 'Данные не распределены нормально (мы отвергаем H0)'\n",
    "\n",
    "# Устанавливаем уровень значимости\n",
    "alpha = 0.05"
   ]
  },
  {
   "attachments": {},
   "cell_type": "markdown",
   "metadata": {},
   "source": [
    "#### Тест Шапиро-Уилка"
   ]
  },
  {
   "cell_type": "code",
   "execution_count": 4,
   "metadata": {},
   "outputs": [
    {
     "name": "stdout",
     "output_type": "stream",
     "text": [
      "p = 0.101\n",
      "Данные распределены нормально\n"
     ]
    }
   ],
   "source": [
    "_, p = shapiro(data)\n",
    "print('p = %.3f' % p)\n",
    "\n",
    "# Интерпретируем полученный результат \n",
    "if p > alpha:\n",
    "\tprint(H0)\n",
    "else:\n",
    "\tprint(Ha)"
   ]
  },
  {
   "attachments": {},
   "cell_type": "markdown",
   "metadata": {},
   "source": [
    "#### Тест Д’Агостино"
   ]
  },
  {
   "cell_type": "code",
   "execution_count": 5,
   "metadata": {},
   "outputs": [
    {
     "name": "stdout",
     "output_type": "stream",
     "text": [
      "p = 0.035\n",
      "Данные распределены нормально\n"
     ]
    },
    {
     "name": "stderr",
     "output_type": "stream",
     "text": [
      "c:\\Users\\LesenaM\\AppData\\Local\\Programs\\Python\\Python310\\lib\\site-packages\\scipy\\stats\\_stats_py.py:1772: UserWarning: kurtosistest only valid for n>=20 ... continuing anyway, n=8\n",
      "  warnings.warn(\"kurtosistest only valid for n>=20 ... continuing \"\n"
     ]
    }
   ],
   "source": [
    "_, p = normaltest(data)\n",
    "\n",
    "#normaltest возвращает двустороннюю вероятность для проверки гипотезы, выберем минимальное значение из двух\n",
    "print('p = %.3f' % min(p))\n",
    "\n",
    "# Интерпретируем полученный результат\n",
    "if p[0] > alpha/2:\n",
    "\tprint(H0)\n",
    "else:\n",
    "\tprint(Ha)"
   ]
  },
  {
   "attachments": {},
   "cell_type": "markdown",
   "metadata": {},
   "source": [
    "## Статистические тесты"
   ]
  },
  {
   "cell_type": "code",
   "execution_count": 6,
   "metadata": {},
   "outputs": [],
   "source": [
    "#Формулируем нулевую и альтернативную гипотезу\n",
    "\n",
    "H0 = 'Нет значимой разницы в среднем размере мидии в зависимости от города-производителя.'\n",
    "Ha = 'Есть значимая разница в среднем размере мидии в зависимости от города-производителя.'"
   ]
  },
  {
   "attachments": {},
   "cell_type": "markdown",
   "metadata": {},
   "source": [
    "#### Корреляция Пирсона\n",
    "\n",
    "Проведя тесты на нормальность мы поределили, что данные распределены нормально, значит мы должны использовать параметрические статистические методы. \n",
    "Проверим связаны ли переменные, расчитав значение Корреляции Пирсона"
   ]
  },
  {
   "cell_type": "code",
   "execution_count": 7,
   "metadata": {},
   "outputs": [
    {
     "name": "stdout",
     "output_type": "stream",
     "text": [
      "*** Результаты расчёта Корреляции Пирсона ***\n",
      "Коэффициент корреляции = 0.26. \n",
      "Связь между признаками слабая.\n"
     ]
    }
   ],
   "source": [
    "print(\"*** Результаты расчёта Корреляции Пирсона ***\")\n",
    "corr, p = pearsonr(data['Петербург'], data['Магадан'])\n",
    "\n",
    "#Интерпретируем результат в зависимости от поставленных гипотез.\n",
    "if corr <= 0.3: print(f\"Коэффициент корреляции = {round (corr,2)}. \\nСвязь между признаками слабая.\")\n",
    "elif 0.3 < corr <= 0.5: print(f\"Коэффициент корреляции = {corr}. \\nСвязь между признаками умеренная.\")\n",
    "elif 0.5 < corr <= 0.7: print(f\"Коэффициент корреляции = {corr}. \\nСвязь между признаками заметная.\")\n",
    "elif 0.7 < corr <= 0.9: print(f\"Коэффициент корреляции = {corr}. \\nСвязь между признаками высокая.\")\n",
    "elif corr > 0.9: print(f\"Коэффициент корреляции = {corr}. \\nСвязь между признаками весьма высокая.\")\n"
   ]
  },
  {
   "attachments": {},
   "cell_type": "markdown",
   "metadata": {},
   "source": [
    "#### Независимый t-тест\n",
    "\n",
    "Так как мы проверяем две различные выборки, а зависимая переменная количественная, то применим Независимый t-тест"
   ]
  },
  {
   "cell_type": "code",
   "execution_count": 8,
   "metadata": {},
   "outputs": [
    {
     "name": "stdout",
     "output_type": "stream",
     "text": [
      "*** Результаты независимого T-теста ***\n",
      "0.0 <= 0.05. \n",
      "Мы отвергаем нулевую гипотезу. Есть значимая разница в среднем размере мидии в зависимости от города-производителя.\n"
     ]
    }
   ],
   "source": [
    "def t_test(df):\n",
    "    print(\"*** Результаты независимого T-теста ***\")\n",
    "    test_results = ttest_ind(data['Петербург'], data['Магадан'], equal_var=True)\n",
    "\n",
    "    p = round(test_results[1],2)\n",
    "\n",
    "    if p>alpha:\n",
    "        print(f\"{p} > {alpha}. \\nМы не можем отвергнуть нулевую гипотезу. {H0}\")\n",
    "    else:\n",
    "        print(f\"{p} <= {alpha}. \\nМы отвергаем нулевую гипотезу. {Ha}\")\n",
    "\n",
    "t_test(data)"
   ]
  },
  {
   "attachments": {},
   "cell_type": "markdown",
   "metadata": {},
   "source": [
    "В результате проведённых тестов мы выяснили: \n",
    "- данные распределены нормально, а значит мы можем применять к ним параметрические методы;\n",
    "- коэффициент корреляции Пирсона показывает, что между признаками нет линейной зависимости;\n",
    "- при проверке гипотезы о том, что нет разницы в среднем размере мидии в зависимости от города-производителя, с помощью незавиимого t-теста мы определили, что должны опрвергнуть эту гипотезу. Существует значимая разница в среднем размере мидии в зависимости от города-производителя."
   ]
  }
 ],
 "metadata": {
  "kernelspec": {
   "display_name": "Python 3",
   "language": "python",
   "name": "python3"
  },
  "language_info": {
   "codemirror_mode": {
    "name": "ipython",
    "version": 3
   },
   "file_extension": ".py",
   "mimetype": "text/x-python",
   "name": "python",
   "nbconvert_exporter": "python",
   "pygments_lexer": "ipython3",
   "version": "3.10.8"
  },
  "orig_nbformat": 4,
  "vscode": {
   "interpreter": {
    "hash": "07a593fd9d3daebfe62d02b7e5128cf6838162aedb0bb39c6b71367d31d5cd06"
   }
  }
 },
 "nbformat": 4,
 "nbformat_minor": 2
}
