{
  "cells": [
    {
      "cell_type": "markdown",
      "id": "42289889-bd57-434e-9637-d3e354756316",
      "metadata": {
        "id": "42289889-bd57-434e-9637-d3e354756316"
      },
      "source": [
        "<center> <img src = https://raw.githubusercontent.com/AndreyRysistov/DatasetsForPandas/main/hh%20label.jpg alt=\"drawing\" style=\"width:400px;\">"
      ]
    },
    {
      "cell_type": "markdown",
      "id": "829cb75b-f14e-4ba8-9195-7ba929a7d656",
      "metadata": {
        "id": "829cb75b-f14e-4ba8-9195-7ba929a7d656",
        "tags": []
      },
      "source": [
        "# <center> Проект: Анализ вакансий из HeadHunter\n",
        "   "
      ]
    },
    {
      "cell_type": "code",
      "execution_count": 140,
      "id": "dccfde33-2452-43fb-a8a5-5c6ebc02a71d",
      "metadata": {
        "id": "dccfde33-2452-43fb-a8a5-5c6ebc02a71d"
      },
      "outputs": [],
      "source": [
        "import pandas as pd  # Импортируем библиотеку Pandas и Psycopg2 для работы с SQL-запросами и DataFrame.\n",
        "import psycopg2\n",
        "import requests # Импортируем библиотеку requests и BeautifulSoup для выгрузки данных с Википедии.\n",
        "from bs4 import BeautifulSoup \n",
        "import plotly.express as px"
      ]
    },
    {
      "cell_type": "code",
      "execution_count": 141,
      "id": "0ab77af1",
      "metadata": {},
      "outputs": [],
      "source": [
        "#При обработке SQL запросов встречаются \"Предупреждения пользователя\", мы отключим их, чтобы они не отвлекали от отчёта.\n",
        "import warnings\n",
        "warnings.filterwarnings('ignore')"
      ]
    },
    {
      "cell_type": "code",
      "execution_count": 142,
      "id": "b0cd0587",
      "metadata": {},
      "outputs": [],
      "source": [
        "DBNAME = 'skillfactory'\n",
        "USER = 'skillfactory'\n",
        "PASSWORD = 'cCkxxLVrDE8EbvjueeMedPKt'\n",
        "HOST = '84.201.134.129'\n",
        "PORT = 5432"
      ]
    },
    {
      "cell_type": "code",
      "execution_count": 143,
      "id": "G4X_q8KBf7SF",
      "metadata": {
        "id": "G4X_q8KBf7SF"
      },
      "outputs": [],
      "source": [
        "#Создаём подключение к базе данных, по выбранным параметрам. \n",
        "connection = psycopg2.connect(\n",
        "    dbname=DBNAME,\n",
        "    user=USER,\n",
        "    host=HOST,\n",
        "    password=PASSWORD,\n",
        "    port=PORT\n",
        ")"
      ]
    },
    {
      "cell_type": "markdown",
      "id": "0dc6476b-7a00-44f1-ac93-6e3baed33a29",
      "metadata": {
        "id": "0dc6476b-7a00-44f1-ac93-6e3baed33a29"
      },
      "source": [
        "# Юнит 3. Предварительный анализ данных"
      ]
    },
    {
      "cell_type": "markdown",
      "id": "889782b6-8d1c-410e-8920-e57f27917c64",
      "metadata": {
        "id": "889782b6-8d1c-410e-8920-e57f27917c64"
      },
      "source": [
        "1. Напишите запрос, который посчитает количество вакансий в нашей базе (вакансии находятся в таблице vacancies). "
      ]
    },
    {
      "cell_type": "code",
      "execution_count": 144,
      "id": "bc39e68e-ed02-4ee2-9235-7258a2f867a8",
      "metadata": {
        "id": "bc39e68e-ed02-4ee2-9235-7258a2f867a8"
      },
      "outputs": [],
      "source": [
        "query_3_1 = f'''\n",
        "    SELECT \n",
        "        COUNT (*)\n",
        "    FROM vacancies\n",
        "'''"
      ]
    },
    {
      "cell_type": "code",
      "execution_count": 145,
      "id": "7mAwtsk4hEHY",
      "metadata": {
        "id": "7mAwtsk4hEHY"
      },
      "outputs": [
        {
          "ename": "DatabaseError",
          "evalue": "Execution failed on sql '\n    SELECT \n        COUNT (*)\n    FROM vacancies\n': relation \"vacancies\" does not exist\nLINE 4:     FROM vacancies\n                 ^\n",
          "output_type": "error",
          "traceback": [
            "\u001b[1;31m---------------------------------------------------------------------------\u001b[0m",
            "\u001b[1;31mUndefinedTable\u001b[0m                            Traceback (most recent call last)",
            "File \u001b[1;32mc:\\Users\\LesenaM\\AppData\\Local\\Programs\\Python\\Python310\\lib\\site-packages\\pandas\\io\\sql.py:2018\u001b[0m, in \u001b[0;36mSQLiteDatabase.execute\u001b[1;34m(self, *args, **kwargs)\u001b[0m\n\u001b[0;32m   2017\u001b[0m \u001b[39mtry\u001b[39;00m:\n\u001b[1;32m-> 2018\u001b[0m     cur\u001b[39m.\u001b[39mexecute(\u001b[39m*\u001b[39margs, \u001b[39m*\u001b[39m\u001b[39m*\u001b[39mkwargs)\n\u001b[0;32m   2019\u001b[0m     \u001b[39mreturn\u001b[39;00m cur\n",
            "\u001b[1;31mUndefinedTable\u001b[0m: relation \"vacancies\" does not exist\nLINE 4:     FROM vacancies\n                 ^\n",
            "\nThe above exception was the direct cause of the following exception:\n",
            "\u001b[1;31mDatabaseError\u001b[0m                             Traceback (most recent call last)",
            "Cell \u001b[1;32mIn [145], line 1\u001b[0m\n\u001b[1;32m----> 1\u001b[0m df_vacancies \u001b[39m=\u001b[39m pd\u001b[39m.\u001b[39;49mread_sql_query(query_3_1, connection)\n\u001b[0;32m      2\u001b[0m display(\u001b[39mf\u001b[39m\u001b[39m'\u001b[39m\u001b[39mВ базе данных собрана информация о \u001b[39m\u001b[39m{\u001b[39;00mdf_vacancies\u001b[39m.\u001b[39miloc[\u001b[39m0\u001b[39m][\u001b[39m0\u001b[39m]\u001b[39m}\u001b[39;00m\u001b[39m вакансиях\u001b[39m\u001b[39m'\u001b[39m)\n",
            "File \u001b[1;32mc:\\Users\\LesenaM\\AppData\\Local\\Programs\\Python\\Python310\\lib\\site-packages\\pandas\\io\\sql.py:397\u001b[0m, in \u001b[0;36mread_sql_query\u001b[1;34m(sql, con, index_col, coerce_float, params, parse_dates, chunksize, dtype)\u001b[0m\n\u001b[0;32m    339\u001b[0m \u001b[39m\"\"\"\u001b[39;00m\n\u001b[0;32m    340\u001b[0m \u001b[39mRead SQL query into a DataFrame.\u001b[39;00m\n\u001b[0;32m    341\u001b[0m \n\u001b[1;32m   (...)\u001b[0m\n\u001b[0;32m    394\u001b[0m \u001b[39mparameter will be converted to UTC.\u001b[39;00m\n\u001b[0;32m    395\u001b[0m \u001b[39m\"\"\"\u001b[39;00m\n\u001b[0;32m    396\u001b[0m pandas_sql \u001b[39m=\u001b[39m pandasSQL_builder(con)\n\u001b[1;32m--> 397\u001b[0m \u001b[39mreturn\u001b[39;00m pandas_sql\u001b[39m.\u001b[39;49mread_query(\n\u001b[0;32m    398\u001b[0m     sql,\n\u001b[0;32m    399\u001b[0m     index_col\u001b[39m=\u001b[39;49mindex_col,\n\u001b[0;32m    400\u001b[0m     params\u001b[39m=\u001b[39;49mparams,\n\u001b[0;32m    401\u001b[0m     coerce_float\u001b[39m=\u001b[39;49mcoerce_float,\n\u001b[0;32m    402\u001b[0m     parse_dates\u001b[39m=\u001b[39;49mparse_dates,\n\u001b[0;32m    403\u001b[0m     chunksize\u001b[39m=\u001b[39;49mchunksize,\n\u001b[0;32m    404\u001b[0m     dtype\u001b[39m=\u001b[39;49mdtype,\n\u001b[0;32m    405\u001b[0m )\n",
            "File \u001b[1;32mc:\\Users\\LesenaM\\AppData\\Local\\Programs\\Python\\Python310\\lib\\site-packages\\pandas\\io\\sql.py:2078\u001b[0m, in \u001b[0;36mSQLiteDatabase.read_query\u001b[1;34m(self, sql, index_col, coerce_float, params, parse_dates, chunksize, dtype)\u001b[0m\n\u001b[0;32m   2066\u001b[0m \u001b[39mdef\u001b[39;00m \u001b[39mread_query\u001b[39m(\n\u001b[0;32m   2067\u001b[0m     \u001b[39mself\u001b[39m,\n\u001b[0;32m   2068\u001b[0m     sql,\n\u001b[1;32m   (...)\u001b[0m\n\u001b[0;32m   2074\u001b[0m     dtype: DtypeArg \u001b[39m|\u001b[39m \u001b[39mNone\u001b[39;00m \u001b[39m=\u001b[39m \u001b[39mNone\u001b[39;00m,\n\u001b[0;32m   2075\u001b[0m ) \u001b[39m-\u001b[39m\u001b[39m>\u001b[39m DataFrame \u001b[39m|\u001b[39m Iterator[DataFrame]:\n\u001b[0;32m   2077\u001b[0m     args \u001b[39m=\u001b[39m _convert_params(sql, params)\n\u001b[1;32m-> 2078\u001b[0m     cursor \u001b[39m=\u001b[39m \u001b[39mself\u001b[39;49m\u001b[39m.\u001b[39;49mexecute(\u001b[39m*\u001b[39;49margs)\n\u001b[0;32m   2079\u001b[0m     columns \u001b[39m=\u001b[39m [col_desc[\u001b[39m0\u001b[39m] \u001b[39mfor\u001b[39;00m col_desc \u001b[39min\u001b[39;00m cursor\u001b[39m.\u001b[39mdescription]\n\u001b[0;32m   2081\u001b[0m     \u001b[39mif\u001b[39;00m chunksize \u001b[39mis\u001b[39;00m \u001b[39mnot\u001b[39;00m \u001b[39mNone\u001b[39;00m:\n",
            "File \u001b[1;32mc:\\Users\\LesenaM\\AppData\\Local\\Programs\\Python\\Python310\\lib\\site-packages\\pandas\\io\\sql.py:2030\u001b[0m, in \u001b[0;36mSQLiteDatabase.execute\u001b[1;34m(self, *args, **kwargs)\u001b[0m\n\u001b[0;32m   2027\u001b[0m     \u001b[39mraise\u001b[39;00m ex \u001b[39mfrom\u001b[39;00m \u001b[39minner_exc\u001b[39;00m\n\u001b[0;32m   2029\u001b[0m ex \u001b[39m=\u001b[39m DatabaseError(\u001b[39mf\u001b[39m\u001b[39m\"\u001b[39m\u001b[39mExecution failed on sql \u001b[39m\u001b[39m'\u001b[39m\u001b[39m{\u001b[39;00margs[\u001b[39m0\u001b[39m]\u001b[39m}\u001b[39;00m\u001b[39m'\u001b[39m\u001b[39m: \u001b[39m\u001b[39m{\u001b[39;00mexc\u001b[39m}\u001b[39;00m\u001b[39m\"\u001b[39m)\n\u001b[1;32m-> 2030\u001b[0m \u001b[39mraise\u001b[39;00m ex \u001b[39mfrom\u001b[39;00m \u001b[39mexc\u001b[39;00m\n",
            "\u001b[1;31mDatabaseError\u001b[0m: Execution failed on sql '\n    SELECT \n        COUNT (*)\n    FROM vacancies\n': relation \"vacancies\" does not exist\nLINE 4:     FROM vacancies\n                 ^\n"
          ]
        }
      ],
      "source": [
        "df_vacancies = pd.read_sql_query(query_3_1, connection)\n",
        "display(f'В базе данных собрана информация о {df_vacancies.iloc[0][0]} вакансиях')"
      ]
    },
    {
      "cell_type": "markdown",
      "id": "b583485d-1f9e-494e-ada4-80ffff7c53d6",
      "metadata": {
        "id": "b583485d-1f9e-494e-ada4-80ffff7c53d6"
      },
      "source": [
        "2. Напишите запрос, который посчитает количество работодателей (таблица employers). "
      ]
    },
    {
      "cell_type": "code",
      "execution_count": null,
      "id": "5408c52c-3407-4a63-b25b-1aafa2322d28",
      "metadata": {
        "id": "5408c52c-3407-4a63-b25b-1aafa2322d28"
      },
      "outputs": [],
      "source": [
        "query_3_2 = f'''\n",
        "    SELECT \n",
        "        COUNT (*)\n",
        "    FROM employers     \n",
        "    '''"
      ]
    },
    {
      "cell_type": "code",
      "execution_count": null,
      "id": "jVL4eshKhdqc",
      "metadata": {
        "id": "jVL4eshKhdqc"
      },
      "outputs": [
        {
          "data": {
            "text/plain": [
              "'В базе данных собрана информация о 23501 работодателе'"
            ]
          },
          "metadata": {},
          "output_type": "display_data"
        }
      ],
      "source": [
        "df_employers = pd.read_sql_query(query_3_2, connection)\n",
        "display(f'В базе данных собрана информация о {df_employers.iloc[0][0]} работодателе')"
      ]
    },
    {
      "cell_type": "markdown",
      "id": "a2bfff1f-c975-4bf6-84be-2185d79dcb76",
      "metadata": {
        "id": "a2bfff1f-c975-4bf6-84be-2185d79dcb76"
      },
      "source": [
        "3. Посчитате с помощью запроса количество регионов (таблица areas)."
      ]
    },
    {
      "cell_type": "code",
      "execution_count": null,
      "id": "1m8QJwBYhey6",
      "metadata": {
        "id": "1m8QJwBYhey6"
      },
      "outputs": [],
      "source": [
        "query_3_3 = f'''\n",
        "    SELECT \n",
        "        COUNT (*)\n",
        "    FROM areas     \n",
        "'''"
      ]
    },
    {
      "cell_type": "code",
      "execution_count": null,
      "id": "EZsn9tlfhe7f",
      "metadata": {
        "id": "EZsn9tlfhe7f"
      },
      "outputs": [
        {
          "data": {
            "text/plain": [
              "'В базе данных собрана информация о 1362 регионах'"
            ]
          },
          "metadata": {},
          "output_type": "display_data"
        }
      ],
      "source": [
        "df_areas = pd.read_sql_query(query_3_3, connection)\n",
        "display(f'В базе данных собрана информация о {df_areas.iloc[0][0]} регионах')"
      ]
    },
    {
      "cell_type": "markdown",
      "id": "41bb59f3-53cc-4a67-a5bc-bedf573955e4",
      "metadata": {
        "id": "41bb59f3-53cc-4a67-a5bc-bedf573955e4"
      },
      "source": [
        "4. Посчитате с помощью запроса количество сфер деятельности в базе (таблица industries)."
      ]
    },
    {
      "cell_type": "code",
      "execution_count": null,
      "id": "d286cf4c-707b-4cd2-9190-7ab3587d04a1",
      "metadata": {
        "id": "d286cf4c-707b-4cd2-9190-7ab3587d04a1"
      },
      "outputs": [],
      "source": [
        "query_3_4 = f'''\n",
        "    SELECT \n",
        "        COUNT (*)\n",
        "    FROM industries     \n",
        "'''"
      ]
    },
    {
      "cell_type": "code",
      "execution_count": null,
      "id": "JYAaoZ4qhfzW",
      "metadata": {
        "id": "JYAaoZ4qhfzW"
      },
      "outputs": [
        {
          "data": {
            "text/plain": [
              "'В базе данных собрана информация о 294 сферах деятельности'"
            ]
          },
          "metadata": {},
          "output_type": "display_data"
        }
      ],
      "source": [
        "df_industries = pd.read_sql_query(query_3_4, connection)\n",
        "display(f'В базе данных собрана информация о {df_industries.iloc[0][0]} сферах деятельности')"
      ]
    },
    {
      "cell_type": "markdown",
      "id": "9a8a2181-6914-448b-85f1-38f5f18b8a93",
      "metadata": {
        "id": "9a8a2181-6914-448b-85f1-38f5f18b8a93"
      },
      "source": [
        "***"
      ]
    },
    {
      "attachments": {},
      "cell_type": "markdown",
      "id": "f6ec0c3a",
      "metadata": {},
      "source": [
        "Для анализа вакансий с сайта HeadHanter представлены данные более чем по 49 тысячам вакансий, выставленных более чем 23,5 тысячами предприятий и охватывающих более 1,3 тысяч регионов и почти 300 сфер деятельности. Анализ этих данных поможе увидеть **реальную картину** происходящего на рынке труда. Стоит отметить, что несмотря на то, что в России всего 89 регионов, в базе данных используются как области, так и отдельные города, поэтому такое высокое количество не говорит о поиске сотрудников за пределами России. Но такой вариант исключать не стоит. И если необходим анализ данных только по России, требуется провести отчистку данных.  "
      ]
    },
    {
      "cell_type": "markdown",
      "id": "8d62a9f3-f64e-4fe7-bdac-c4dffa16155e",
      "metadata": {
        "id": "8d62a9f3-f64e-4fe7-bdac-c4dffa16155e"
      },
      "source": [
        "# Юнит 4. Детальный анализ вакансий"
      ]
    },
    {
      "cell_type": "markdown",
      "id": "93053d3d-b284-481a-9cf7-012d7014c0e0",
      "metadata": {
        "id": "93053d3d-b284-481a-9cf7-012d7014c0e0"
      },
      "source": [
        "1. Напишите запрос, который позволит узнать, сколько (cnt) вакансий в каждом регионе (area).\n",
        "Отсортируйте по количеству вакансий в порядке убывания."
      ]
    },
    {
      "cell_type": "code",
      "execution_count": null,
      "id": "3f069da6-fdc9-4ae7-b514-fafe2675efd3",
      "metadata": {
        "id": "3f069da6-fdc9-4ae7-b514-fafe2675efd3"
      },
      "outputs": [],
      "source": [
        "limit_4_1 = 10                                       # Определяем сколько вывести строк в таблице  \n",
        "query_4_1 = f'''\n",
        "    SELECT \n",
        "        a.name AS area,\n",
        "        COUNT (v.*) AS count_vacancies         -- Подсчитываем количество вакансий     \n",
        "    FROM vacancies AS v\n",
        "    JOIN areas AS a ON a.id = v.area_id        -- Соединяем таблицы vacancies и areas по ключевым столбцам\n",
        "    GROUP BY a.name                            -- Для подсчёта количества вакансий группируем их по регионам\n",
        "    ORDER BY COUNT (v.*) DESC                  -- Сортируем данные по количеству вакансий по убыванию\n",
        "    LIMIT {limit_4_1}\n",
        "'''"
      ]
    },
    {
      "cell_type": "code",
      "execution_count": null,
      "id": "P7QL86hrjhRJ",
      "metadata": {
        "id": "P7QL86hrjhRJ"
      },
      "outputs": [
        {
          "data": {
            "image/png": "[encoded data removed]"
          },
          "metadata": {},
          "output_type": "display_data"
        }
      ],
      "source": [
        "df_count_vacancies = pd.read_sql_query(query_4_1, connection)    # Обрабатываем запрос, создаём DataFrame и присваиваем название таблице.\n",
        "\n",
        "#Строим график спомощью библиотеки plotly для наглядного отображения полдученных данных. \n",
        "fig = px.bar(x=df_count_vacancies[\"area\"], y=df_count_vacancies[\"count_vacancies\"], text_auto=True)\n",
        "\n",
        "fig.update_layout(\n",
        "    barmode='stack',\n",
        "    title=f\"ТОП-{limit_4_1} регионов по количеству вакансий\",\n",
        "    yaxis_title_text='Количество вакансий',\n",
        "    xaxis_title_text='Название региона'\n",
        "    )\n",
        "fig.show('png')"
      ]
    },
    {
      "cell_type": "markdown",
      "id": "4266f0b6-1646-492a-88b4-2f6a46502135",
      "metadata": {
        "id": "4266f0b6-1646-492a-88b4-2f6a46502135"
      },
      "source": [
        "2. Напишите запрос, чтобы определить у какого количества вакансий заполнено хотя бы одно из двух полей с зарплатой."
      ]
    },
    {
      "cell_type": "code",
      "execution_count": null,
      "id": "0c44b350-72eb-4d65-8b54-a1fc449ba9fd",
      "metadata": {
        "id": "0c44b350-72eb-4d65-8b54-a1fc449ba9fd"
      },
      "outputs": [],
      "source": [
        "query_4_2 = f'''\n",
        "    SELECT \n",
        "        COUNT (v.*)       \n",
        "    FROM vacancies AS v\n",
        "    WHERE (v.salary_from IS NOT NULL) OR (v.salary_to IS NOT NULL)    -- Учитываем только заполненные данные в признаках заработной платы\n",
        "'''"
      ]
    },
    {
      "cell_type": "code",
      "execution_count": null,
      "id": "rhvwaMDkoWTi",
      "metadata": {
        "id": "rhvwaMDkoWTi"
      },
      "outputs": [
        {
          "data": {
            "text/plain": [
              "'В 24073 вакансиях указана зарплата'"
            ]
          },
          "metadata": {},
          "output_type": "display_data"
        }
      ],
      "source": [
        "df_salary_not_NULL = pd.read_sql_query(query_4_2, connection)         # Обрабатываем запрос, создаём DataFrame\n",
        "display(f'В {df_salary_not_NULL.iloc[0][0]} вакансиях указана зарплата') "
      ]
    },
    {
      "cell_type": "markdown",
      "id": "635c4d5d-f323-4c66-b428-50a088120aa0",
      "metadata": {
        "id": "635c4d5d-f323-4c66-b428-50a088120aa0"
      },
      "source": [
        "3. Найдите средние значения для нижней и верхней границы зарплатной вилки. Округлите значения до целого."
      ]
    },
    {
      "cell_type": "code",
      "execution_count": null,
      "id": "603cdbe4-0ec3-4106-8eaf-c73fcdd29165",
      "metadata": {
        "id": "603cdbe4-0ec3-4106-8eaf-c73fcdd29165"
      },
      "outputs": [],
      "source": [
        "query_4_3 = f'''\n",
        "    SELECT  \n",
        "        AVG (v.salary_from),   -- подсчитываем средную зарплату по двум столбцам\n",
        "        AVG (v.salary_to)\n",
        "    FROM vacancies AS v\n",
        "'''"
      ]
    },
    {
      "cell_type": "code",
      "execution_count": null,
      "id": "pswpAb66ovZZ",
      "metadata": {
        "id": "pswpAb66ovZZ"
      },
      "outputs": [
        {
          "data": {
            "text/plain": [
              "'В среднем зарплаты колеблятся от 71065 до 110537 рублей'"
            ]
          },
          "metadata": {},
          "output_type": "display_data"
        }
      ],
      "source": [
        "df_salary = pd.read_sql_query(query_4_3, connection)\n",
        "display(f'В среднем зарплаты колеблятся от {round(df_salary.iloc[0][0])} до {round(df_salary.iloc[0][1])} рублей')"
      ]
    },
    {
      "cell_type": "markdown",
      "id": "f3fdaec9-5fd3-4260-9cf5-1d7406b628a5",
      "metadata": {
        "id": "f3fdaec9-5fd3-4260-9cf5-1d7406b628a5"
      },
      "source": [
        "4. Напишите запрос, который выведет количество вакансий для каждого сочетания типа рабочего графика (schedule) и типа трудоустройства (employment), используемого в вакансиях. Результат отсортируйте по убыванию количества.\n"
      ]
    },
    {
      "cell_type": "code",
      "execution_count": null,
      "id": "1ea710ec-871b-431e-9462-c7d0fd87011b",
      "metadata": {
        "id": "1ea710ec-871b-431e-9462-c7d0fd87011b"
      },
      "outputs": [],
      "source": [
        "query_4_4 = f'''\n",
        "    SELECT \n",
        "        v.schedule AS \"Рабочий график\",                 \n",
        "        v.employment AS \"Тип трудоустройства\",\n",
        "        COUNT (v.*) AS \"Количество вакансий\"        -- Подсчитываем количество вакансий\n",
        "    FROM vacancies AS v\n",
        "    GROUP BY v.schedule, v.employment               -- Группируем данные по столбцу рабочий график и тип трудоустройства.\n",
        "    ORDER BY COUNT (v.*) DESC                       -- Сортируем данные по убыванию по количеству вакансий\n",
        "'''"
      ]
    },
    {
      "cell_type": "code",
      "execution_count": null,
      "id": "lGUVqavdo4JQ",
      "metadata": {
        "id": "lGUVqavdo4JQ"
      },
      "outputs": [
        {
          "data": {
            "text/html": [
              "<style type=\"text/css\">\n",
              "</style>\n",
              "<table id=\"T_3fc25\">\n",
              "  <caption>Количество вакансий распределённые по графику работы и типу трудоустройства</caption>\n",
              "  <thead>\n",
              "    <tr>\n",
              "      <th class=\"blank level0\" >&nbsp;</th>\n",
              "      <th id=\"T_3fc25_level0_col0\" class=\"col_heading level0 col0\" >Рабочий график</th>\n",
              "      <th id=\"T_3fc25_level0_col1\" class=\"col_heading level0 col1\" >Тип трудоустройства</th>\n",
              "      <th id=\"T_3fc25_level0_col2\" class=\"col_heading level0 col2\" >Количество вакансий</th>\n",
              "    </tr>\n",
              "  </thead>\n",
              "  <tbody>\n",
              "    <tr>\n",
              "      <th id=\"T_3fc25_level0_row0\" class=\"row_heading level0 row0\" >0</th>\n",
              "      <td id=\"T_3fc25_row0_col0\" class=\"data row0 col0\" >Полный день</td>\n",
              "      <td id=\"T_3fc25_row0_col1\" class=\"data row0 col1\" >Полная занятость</td>\n",
              "      <td id=\"T_3fc25_row0_col2\" class=\"data row0 col2\" >35367</td>\n",
              "    </tr>\n",
              "    <tr>\n",
              "      <th id=\"T_3fc25_level0_row1\" class=\"row_heading level0 row1\" >1</th>\n",
              "      <td id=\"T_3fc25_row1_col0\" class=\"data row1 col0\" >Удаленная работа</td>\n",
              "      <td id=\"T_3fc25_row1_col1\" class=\"data row1 col1\" >Полная занятость</td>\n",
              "      <td id=\"T_3fc25_row1_col2\" class=\"data row1 col2\" >7802</td>\n",
              "    </tr>\n",
              "    <tr>\n",
              "      <th id=\"T_3fc25_level0_row2\" class=\"row_heading level0 row2\" >2</th>\n",
              "      <td id=\"T_3fc25_row2_col0\" class=\"data row2 col0\" >Гибкий график</td>\n",
              "      <td id=\"T_3fc25_row2_col1\" class=\"data row2 col1\" >Полная занятость</td>\n",
              "      <td id=\"T_3fc25_row2_col2\" class=\"data row2 col2\" >1593</td>\n",
              "    </tr>\n",
              "    <tr>\n",
              "      <th id=\"T_3fc25_level0_row3\" class=\"row_heading level0 row3\" >3</th>\n",
              "      <td id=\"T_3fc25_row3_col0\" class=\"data row3 col0\" >Удаленная работа</td>\n",
              "      <td id=\"T_3fc25_row3_col1\" class=\"data row3 col1\" >Частичная занятость</td>\n",
              "      <td id=\"T_3fc25_row3_col2\" class=\"data row3 col2\" >1312</td>\n",
              "    </tr>\n",
              "    <tr>\n",
              "      <th id=\"T_3fc25_level0_row4\" class=\"row_heading level0 row4\" >4</th>\n",
              "      <td id=\"T_3fc25_row4_col0\" class=\"data row4 col0\" >Сменный график</td>\n",
              "      <td id=\"T_3fc25_row4_col1\" class=\"data row4 col1\" >Полная занятость</td>\n",
              "      <td id=\"T_3fc25_row4_col2\" class=\"data row4 col2\" >940</td>\n",
              "    </tr>\n",
              "    <tr>\n",
              "      <th id=\"T_3fc25_level0_row5\" class=\"row_heading level0 row5\" >5</th>\n",
              "      <td id=\"T_3fc25_row5_col0\" class=\"data row5 col0\" >Полный день</td>\n",
              "      <td id=\"T_3fc25_row5_col1\" class=\"data row5 col1\" >Стажировка</td>\n",
              "      <td id=\"T_3fc25_row5_col2\" class=\"data row5 col2\" >569</td>\n",
              "    </tr>\n",
              "    <tr>\n",
              "      <th id=\"T_3fc25_level0_row6\" class=\"row_heading level0 row6\" >6</th>\n",
              "      <td id=\"T_3fc25_row6_col0\" class=\"data row6 col0\" >Вахтовый метод</td>\n",
              "      <td id=\"T_3fc25_row6_col1\" class=\"data row6 col1\" >Полная занятость</td>\n",
              "      <td id=\"T_3fc25_row6_col2\" class=\"data row6 col2\" >367</td>\n",
              "    </tr>\n",
              "    <tr>\n",
              "      <th id=\"T_3fc25_level0_row7\" class=\"row_heading level0 row7\" >7</th>\n",
              "      <td id=\"T_3fc25_row7_col0\" class=\"data row7 col0\" >Полный день</td>\n",
              "      <td id=\"T_3fc25_row7_col1\" class=\"data row7 col1\" >Частичная занятость</td>\n",
              "      <td id=\"T_3fc25_row7_col2\" class=\"data row7 col2\" >347</td>\n",
              "    </tr>\n",
              "    <tr>\n",
              "      <th id=\"T_3fc25_level0_row8\" class=\"row_heading level0 row8\" >8</th>\n",
              "      <td id=\"T_3fc25_row8_col0\" class=\"data row8 col0\" >Гибкий график</td>\n",
              "      <td id=\"T_3fc25_row8_col1\" class=\"data row8 col1\" >Частичная занятость</td>\n",
              "      <td id=\"T_3fc25_row8_col2\" class=\"data row8 col2\" >312</td>\n",
              "    </tr>\n",
              "    <tr>\n",
              "      <th id=\"T_3fc25_level0_row9\" class=\"row_heading level0 row9\" >9</th>\n",
              "      <td id=\"T_3fc25_row9_col0\" class=\"data row9 col0\" >Полный день</td>\n",
              "      <td id=\"T_3fc25_row9_col1\" class=\"data row9 col1\" >Проектная работа</td>\n",
              "      <td id=\"T_3fc25_row9_col2\" class=\"data row9 col2\" >141</td>\n",
              "    </tr>\n",
              "    <tr>\n",
              "      <th id=\"T_3fc25_level0_row10\" class=\"row_heading level0 row10\" >10</th>\n",
              "      <td id=\"T_3fc25_row10_col0\" class=\"data row10 col0\" >Удаленная работа</td>\n",
              "      <td id=\"T_3fc25_row10_col1\" class=\"data row10 col1\" >Проектная работа</td>\n",
              "      <td id=\"T_3fc25_row10_col2\" class=\"data row10 col2\" >133</td>\n",
              "    </tr>\n",
              "    <tr>\n",
              "      <th id=\"T_3fc25_level0_row11\" class=\"row_heading level0 row11\" >11</th>\n",
              "      <td id=\"T_3fc25_row11_col0\" class=\"data row11 col0\" >Гибкий график</td>\n",
              "      <td id=\"T_3fc25_row11_col1\" class=\"data row11 col1\" >Стажировка</td>\n",
              "      <td id=\"T_3fc25_row11_col2\" class=\"data row11 col2\" >116</td>\n",
              "    </tr>\n",
              "    <tr>\n",
              "      <th id=\"T_3fc25_level0_row12\" class=\"row_heading level0 row12\" >12</th>\n",
              "      <td id=\"T_3fc25_row12_col0\" class=\"data row12 col0\" >Сменный график</td>\n",
              "      <td id=\"T_3fc25_row12_col1\" class=\"data row12 col1\" >Частичная занятость</td>\n",
              "      <td id=\"T_3fc25_row12_col2\" class=\"data row12 col2\" >101</td>\n",
              "    </tr>\n",
              "    <tr>\n",
              "      <th id=\"T_3fc25_level0_row13\" class=\"row_heading level0 row13\" >13</th>\n",
              "      <td id=\"T_3fc25_row13_col0\" class=\"data row13 col0\" >Удаленная работа</td>\n",
              "      <td id=\"T_3fc25_row13_col1\" class=\"data row13 col1\" >Стажировка</td>\n",
              "      <td id=\"T_3fc25_row13_col2\" class=\"data row13 col2\" >64</td>\n",
              "    </tr>\n",
              "    <tr>\n",
              "      <th id=\"T_3fc25_level0_row14\" class=\"row_heading level0 row14\" >14</th>\n",
              "      <td id=\"T_3fc25_row14_col0\" class=\"data row14 col0\" >Гибкий график</td>\n",
              "      <td id=\"T_3fc25_row14_col1\" class=\"data row14 col1\" >Проектная работа</td>\n",
              "      <td id=\"T_3fc25_row14_col2\" class=\"data row14 col2\" >18</td>\n",
              "    </tr>\n",
              "    <tr>\n",
              "      <th id=\"T_3fc25_level0_row15\" class=\"row_heading level0 row15\" >15</th>\n",
              "      <td id=\"T_3fc25_row15_col0\" class=\"data row15 col0\" >Сменный график</td>\n",
              "      <td id=\"T_3fc25_row15_col1\" class=\"data row15 col1\" >Стажировка</td>\n",
              "      <td id=\"T_3fc25_row15_col2\" class=\"data row15 col2\" >12</td>\n",
              "    </tr>\n",
              "    <tr>\n",
              "      <th id=\"T_3fc25_level0_row16\" class=\"row_heading level0 row16\" >16</th>\n",
              "      <td id=\"T_3fc25_row16_col0\" class=\"data row16 col0\" >Вахтовый метод</td>\n",
              "      <td id=\"T_3fc25_row16_col1\" class=\"data row16 col1\" >Проектная работа</td>\n",
              "      <td id=\"T_3fc25_row16_col2\" class=\"data row16 col2\" >2</td>\n",
              "    </tr>\n",
              "    <tr>\n",
              "      <th id=\"T_3fc25_level0_row17\" class=\"row_heading level0 row17\" >17</th>\n",
              "      <td id=\"T_3fc25_row17_col0\" class=\"data row17 col0\" >Сменный график</td>\n",
              "      <td id=\"T_3fc25_row17_col1\" class=\"data row17 col1\" >Проектная работа</td>\n",
              "      <td id=\"T_3fc25_row17_col2\" class=\"data row17 col2\" >1</td>\n",
              "    </tr>\n",
              "  </tbody>\n",
              "</table>\n"
            ],
            "text/plain": [
              "<pandas.io.formats.style.Styler at 0x16a29916860>"
            ]
          },
          "metadata": {},
          "output_type": "display_data"
        }
      ],
      "source": [
        "df_schedule_employment = pd.read_sql_query(query_4_4, connection)  # Обрабатываем запрос, создаём DataFrame и присваиваем название таблице.\n",
        "display(\"Количество вакансий распределённые по графику работы и типу трудоустройства\")\n",
        "display (df_schedule_employment)"
      ]
    },
    {
      "cell_type": "markdown",
      "id": "0136ffee-0ead-4a6b-b608-61d1c753a438",
      "metadata": {
        "id": "0136ffee-0ead-4a6b-b608-61d1c753a438"
      },
      "source": [
        "5. Напишите запрос, выводящий значения поля Требуемый опыт работы (experience) в порядке возрастания количества вакансий, в которых указан данный вариант опыта. "
      ]
    },
    {
      "cell_type": "code",
      "execution_count": null,
      "id": "5b3a8e79-f7ab-4008-b767-12aea3a205ea",
      "metadata": {
        "id": "5b3a8e79-f7ab-4008-b767-12aea3a205ea"
      },
      "outputs": [],
      "source": [
        "query_4_5 = f'''\n",
        "    SELECT \n",
        "        v.experience AS experience,\n",
        "        COUNT (v.*) AS count_vacancies            -- Подсчитываем количество вакансий\n",
        "    FROM vacancies AS v\n",
        "    GROUP BY v.experience                         -- Группируем данные по опыту работы\n",
        "    ORDER BY COUNT (v.*)                          -- Сортируем данные по убыванию по количеству вакансий\n",
        "'''"
      ]
    },
    {
      "cell_type": "code",
      "execution_count": null,
      "id": "3Is64Y-hpDpq",
      "metadata": {
        "id": "3Is64Y-hpDpq"
      },
      "outputs": [
        {
          "data": {
            "image/png": "[encoded data removed]"
          },
          "metadata": {},
          "output_type": "display_data"
        }
      ],
      "source": [
        "df_experience = pd.read_sql_query(query_4_5, connection)   # Обрабатываем запрос, создаём DataFrame и присваиваем название таблице.\n",
        "\n",
        "#Строим график спомощью библиотеки plotly для наглядного отображения полдученных данных. \n",
        "fig_4_5 = px.bar(x=df_experience[\"experience\"], y=df_experience[\"count_vacancies\"], text_auto=True)\n",
        "\n",
        "fig_4_5.update_layout(\n",
        "    barmode='stack',\n",
        "    title=\"Распределение вакансий по опыту работы соискателей\",\n",
        "    xaxis_title_text='Требуемый опыт работы',\n",
        "    yaxis_title_text='Количество вакансий'    \n",
        "    )\n",
        "fig_4_5.show('png')"
      ]
    },
    {
      "cell_type": "markdown",
      "id": "oq2b7n1QpIka",
      "metadata": {
        "id": "oq2b7n1QpIka"
      },
      "source": [
        "***"
      ]
    },
    {
      "attachments": {},
      "cell_type": "markdown",
      "id": "e91f87ed-e25c-4f96-9f92-b642e8c0b4fa",
      "metadata": {
        "id": "e91f87ed-e25c-4f96-9f92-b642e8c0b4fa"
      },
      "source": [
        "1. Больше всего вакансий в базе данных представлено для *столицы и крупных городов России, а также столиц Беларуси и Казахстана*. В этих городах проживает **большее количество человек** и расположено **больше компаний**, чем в других городах. Так же стоит отметить, что проживающие в пригороде столиц и крупных городов, обычно каждый день приезжают туда на работу. \n",
        "2. Проанализировав количество вакансий, в которых *указана заработная плата*, мы видим, что **больше половины** работодателей не указывают какую заработную плату они готовы платит сотруднику. *Проведя дополнительный анализ по вакансиям*, где указана заработная плата, в зависимости от опыта работы соискателей мы видим, что практически **половина** из этих вакансий приходится на соискателей с опытом работы от 1 года до 3 лет. Но если смотреть *в разрезе распределения всех вакансий по опыту работы соискателей*, то можно отметить, что *самый высокий процент вакансий* с указанными заработными платами относится к соискателям без опыта работы. В таких вакансиях заработную плату указывают в **70 %** случаев. \n",
        "3. В вакансиях, где указана заработная плата, она колеблется от 71 до 110 тысяч, что **выше**, чем средняя заработная плата по России. *Проведя дополнительный анализ данных*, мы узнали, что самые высокие заработные платы предлагают при работе заграницей. В 20 регионах с самой высокой заработной платой лишь три относятся к России. Поэтому если необходим анализ данных только по России, требуется провести отчистку данных.  \n",
        "4. В **почти 72 %** представленных вакансий работодателей рассчитывают, что сотрудник будет работать **полный день и полную занятость**. В **16 %** вакансиях, компании согласны работать с сотрудниками на полный рабочий день, но **удалённо**. После пандемии резко выросло количество вакансий, где предлагается удалённая работа. \n",
        "5. Проанализировав вакансии по опыту работы соискателей мы видим, что наименьшее количество вакансий (*всего 2,7%*) представлено для людей с **опытом работы от 6 лет**. Обычно, это уже *специалисты высокого уровня*, которые *не спешат сменить место работы*, потому что смогли найти наилучший для себя вариант. Обычно таких людей переманивают работодатели через личное знакомство, а не посредством вакансии и резюме. Соискателей в *14,6%* вакансий компании готовы рассматривать *без опыта работы*. Приём таких сотрудников несёт **риск** для компаний, так как большинство из сотрудников без опыта работы получив практические навыки и знания через пару лет *стремятся сменить работу*, чтобы получить новый опыт. Это **подтверждается и нашими данными**, так как именно для сотрудников с опытом работы *от 1 года до 3 лет* и с опытом работы *от 3 до 6 лет* представлено **наибольшее число вакансий**. (53 % и 29,5% соответственно).\n",
        "\n",
        "\n"
      ]
    },
    {
      "attachments": {},
      "cell_type": "markdown",
      "id": "3d170d1d",
      "metadata": {},
      "source": [
        "# Юнит 5. Анализ работодателей"
      ]
    },
    {
      "cell_type": "markdown",
      "id": "968aed80-74ef-4ffb-b5bf-c65b84e9caea",
      "metadata": {
        "id": "968aed80-74ef-4ffb-b5bf-c65b84e9caea"
      },
      "source": [
        "1. Напишите запрос, который позволит узнать, какие работодатели находятся на первом и пятом месте по количеству вакансий."
      ]
    },
    {
      "cell_type": "code",
      "execution_count": null,
      "id": "f2d62796-d400-4ec1-a675-88112739a50e",
      "metadata": {
        "id": "f2d62796-d400-4ec1-a675-88112739a50e"
      },
      "outputs": [],
      "source": [
        "# Задаём количество строк в итоговой таблице для анализа.\n",
        "limit_5_1 = 10\n",
        "query_5_1 = f'''\n",
        "    SELECT \n",
        "        e.name AS name_employers,\n",
        "        COUNT (v.*) AS count_vacancies                       -- Подсчитываем количество вакансий\n",
        "    FROM vacancies AS v\n",
        "    JOIN employers AS e ON e.id = v.employer_id              -- Связываем таблицы vacancies и employers по ключевым стоблбцам\n",
        "    GROUP BY e.name                                          -- Группируем данные по названию компании\n",
        "    ORDER BY COUNT (v.*) DESC                                -- Сортируем полученные данные по количеству вакансий по убыванию\n",
        "    LIMIT {limit_5_1}                                        \n",
        "'''"
      ]
    },
    {
      "cell_type": "code",
      "execution_count": null,
      "id": "64tOMkAxqkQk",
      "metadata": {
        "id": "64tOMkAxqkQk"
      },
      "outputs": [
        {
          "data": {
            "text/plain": [
              "'На первом месте по количеству вакансий находится компания \"Яндекс\"'"
            ]
          },
          "metadata": {},
          "output_type": "display_data"
        },
        {
          "data": {
            "text/plain": [
              "'На пятом месте по количеству вакансий находится компания \"Газпром нефть\"'"
            ]
          },
          "metadata": {},
          "output_type": "display_data"
        },
        {
          "data": {
            "image/png": "[encoded data removed]"
          },
          "metadata": {},
          "output_type": "display_data"
        }
      ],
      "source": [
        "df_employers_count = pd.read_sql_query(query_5_1, connection)\n",
        "display(f'На первом месте по количеству вакансий находится компания \"{df_employers_count.iloc[0][0]}\"')\n",
        "display(f'На пятом месте по количеству вакансий находится компания \"{df_employers_count.iloc[4][0]}\"')\n",
        "\n",
        "#Строим график спомощью библиотеки plotly для наглядного отображения полдученных данных. \n",
        "fig_5_1 = px.bar(x=df_employers_count[\"name_employers\"], y=df_employers_count[\"count_vacancies\"], text_auto=True)\n",
        "\n",
        "fig_5_1.update_layout(\n",
        "    barmode='stack',\n",
        "    title=f\"ТОП-{limit_5_1} работодателей по количеству представленных вакансий\",\n",
        "    xaxis_title_text='Название компании',\n",
        "    yaxis_title_text='Количество вакансий'    \n",
        "    )\n",
        "fig_5_1.show('png')"
      ]
    },
    {
      "cell_type": "markdown",
      "id": "68377cfc-b378-43dc-ab7d-1195abf2c515",
      "metadata": {
        "id": "68377cfc-b378-43dc-ab7d-1195abf2c515"
      },
      "source": [
        "2. Напишите запрос, который для каждого региона выведет количество работодателей и вакансий в нём.\n",
        "Среди регионов, в которых нет вакансий, найдите тот, в котором наибольшее количество работодателей.\n"
      ]
    },
    {
      "cell_type": "code",
      "execution_count": null,
      "id": "dd7df27a-e3e8-412e-a21a-5d389b71e891",
      "metadata": {
        "id": "dd7df27a-e3e8-412e-a21a-5d389b71e891"
      },
      "outputs": [],
      "source": [
        "## Задаём количество строк для анализа.\n",
        "limit_5_2 = 10\n",
        "query_5_2 = f'''\n",
        "    SELECT \n",
        "        a.name AS \"Название региона\",\n",
        "        COUNT (e.id) AS \"Количество работодателей\",             -- Подсчитываем количество работодателей\n",
        "        COUNT (v.id) AS \"Количество вакансий\"                   -- Подсчитываем количество вакансий\n",
        "    FROM areas AS a\n",
        "    -- Соединяем таблицу регионов и таблицу вакансий так, чтобы в регионах, где нет вакансий появились пустые строки.\n",
        "    LEFT JOIN vacancies AS v ON a.id = v.area_id  \n",
        "    -- Присоединяем к полученным данным таблицу с работодателями\n",
        "    JOIN employers AS e ON e.area = a.id         \n",
        "    -- Группируем данные по названию региона\n",
        "    GROUP BY a.name                               \n",
        "    -- Сортируем данные по количеству вакансий по возрастанию, а затем по количеству работодателей по убыванию\n",
        "    ORDER BY 3, 2 DESC        \n",
        "    LIMIT {limit_5_2}  \n",
        "'''"
      ]
    },
    {
      "cell_type": "code",
      "execution_count": null,
      "id": "x1ikWbydrbf6",
      "metadata": {
        "id": "x1ikWbydrbf6"
      },
      "outputs": [
        {
          "data": {
            "text/plain": [
              "'Регион с наибольшим количеством работодателей, но без единой вакансии: Россия'"
            ]
          },
          "metadata": {},
          "output_type": "display_data"
        },
        {
          "data": {
            "text/html": [
              "<style type=\"text/css\">\n",
              "</style>\n",
              "<table id=\"T_80cb3\">\n",
              "  <caption>ТОП-10 регионов по количеству компаний без вакансий</caption>\n",
              "  <thead>\n",
              "    <tr>\n",
              "      <th class=\"blank level0\" >&nbsp;</th>\n",
              "      <th id=\"T_80cb3_level0_col0\" class=\"col_heading level0 col0\" >Название региона</th>\n",
              "      <th id=\"T_80cb3_level0_col1\" class=\"col_heading level0 col1\" >Количество работодателей</th>\n",
              "      <th id=\"T_80cb3_level0_col2\" class=\"col_heading level0 col2\" >Количество вакансий</th>\n",
              "    </tr>\n",
              "  </thead>\n",
              "  <tbody>\n",
              "    <tr>\n",
              "      <th id=\"T_80cb3_level0_row0\" class=\"row_heading level0 row0\" >0</th>\n",
              "      <td id=\"T_80cb3_row0_col0\" class=\"data row0 col0\" >Россия</td>\n",
              "      <td id=\"T_80cb3_row0_col1\" class=\"data row0 col1\" >410</td>\n",
              "      <td id=\"T_80cb3_row0_col2\" class=\"data row0 col2\" >0</td>\n",
              "    </tr>\n",
              "    <tr>\n",
              "      <th id=\"T_80cb3_level0_row1\" class=\"row_heading level0 row1\" >1</th>\n",
              "      <td id=\"T_80cb3_row1_col0\" class=\"data row1 col0\" >Казахстан</td>\n",
              "      <td id=\"T_80cb3_row1_col1\" class=\"data row1 col1\" >207</td>\n",
              "      <td id=\"T_80cb3_row1_col2\" class=\"data row1 col2\" >0</td>\n",
              "    </tr>\n",
              "    <tr>\n",
              "      <th id=\"T_80cb3_level0_row2\" class=\"row_heading level0 row2\" >2</th>\n",
              "      <td id=\"T_80cb3_row2_col0\" class=\"data row2 col0\" >Московская область</td>\n",
              "      <td id=\"T_80cb3_row2_col1\" class=\"data row2 col1\" >75</td>\n",
              "      <td id=\"T_80cb3_row2_col2\" class=\"data row2 col2\" >0</td>\n",
              "    </tr>\n",
              "    <tr>\n",
              "      <th id=\"T_80cb3_level0_row3\" class=\"row_heading level0 row3\" >3</th>\n",
              "      <td id=\"T_80cb3_row3_col0\" class=\"data row3 col0\" >Краснодарский край</td>\n",
              "      <td id=\"T_80cb3_row3_col1\" class=\"data row3 col1\" >19</td>\n",
              "      <td id=\"T_80cb3_row3_col2\" class=\"data row3 col2\" >0</td>\n",
              "    </tr>\n",
              "    <tr>\n",
              "      <th id=\"T_80cb3_level0_row4\" class=\"row_heading level0 row4\" >4</th>\n",
              "      <td id=\"T_80cb3_row4_col0\" class=\"data row4 col0\" >Ростовская область</td>\n",
              "      <td id=\"T_80cb3_row4_col1\" class=\"data row4 col1\" >18</td>\n",
              "      <td id=\"T_80cb3_row4_col2\" class=\"data row4 col2\" >0</td>\n",
              "    </tr>\n",
              "    <tr>\n",
              "      <th id=\"T_80cb3_level0_row5\" class=\"row_heading level0 row5\" >5</th>\n",
              "      <td id=\"T_80cb3_row5_col0\" class=\"data row5 col0\" >Беларусь</td>\n",
              "      <td id=\"T_80cb3_row5_col1\" class=\"data row5 col1\" >18</td>\n",
              "      <td id=\"T_80cb3_row5_col2\" class=\"data row5 col2\" >0</td>\n",
              "    </tr>\n",
              "    <tr>\n",
              "      <th id=\"T_80cb3_level0_row6\" class=\"row_heading level0 row6\" >6</th>\n",
              "      <td id=\"T_80cb3_row6_col0\" class=\"data row6 col0\" >Азербайджан</td>\n",
              "      <td id=\"T_80cb3_row6_col1\" class=\"data row6 col1\" >17</td>\n",
              "      <td id=\"T_80cb3_row6_col2\" class=\"data row6 col2\" >0</td>\n",
              "    </tr>\n",
              "    <tr>\n",
              "      <th id=\"T_80cb3_level0_row7\" class=\"row_heading level0 row7\" >7</th>\n",
              "      <td id=\"T_80cb3_row7_col0\" class=\"data row7 col0\" >Нижегородская область</td>\n",
              "      <td id=\"T_80cb3_row7_col1\" class=\"data row7 col1\" >16</td>\n",
              "      <td id=\"T_80cb3_row7_col2\" class=\"data row7 col2\" >0</td>\n",
              "    </tr>\n",
              "    <tr>\n",
              "      <th id=\"T_80cb3_level0_row8\" class=\"row_heading level0 row8\" >8</th>\n",
              "      <td id=\"T_80cb3_row8_col0\" class=\"data row8 col0\" >Республика Татарстан</td>\n",
              "      <td id=\"T_80cb3_row8_col1\" class=\"data row8 col1\" >16</td>\n",
              "      <td id=\"T_80cb3_row8_col2\" class=\"data row8 col2\" >0</td>\n",
              "    </tr>\n",
              "    <tr>\n",
              "      <th id=\"T_80cb3_level0_row9\" class=\"row_heading level0 row9\" >9</th>\n",
              "      <td id=\"T_80cb3_row9_col0\" class=\"data row9 col0\" >Узбекистан</td>\n",
              "      <td id=\"T_80cb3_row9_col1\" class=\"data row9 col1\" >15</td>\n",
              "      <td id=\"T_80cb3_row9_col2\" class=\"data row9 col2\" >0</td>\n",
              "    </tr>\n",
              "  </tbody>\n",
              "</table>\n"
            ],
            "text/plain": [
              "<pandas.io.formats.style.Styler at 0x16a26787460>"
            ]
          },
          "metadata": {},
          "output_type": "display_data"
        }
      ],
      "source": [
        "df_areas_vacancies_employers = pd.read_sql_query(query_5_2, connection)\n",
        "display(f'Регион с наибольшим количеством работодателей, но без единой вакансии: {df_areas_vacancies_employers.iloc[0][0]}')\n",
        "display(f\"ТОП-{limit_5_2} регионов по количеству компаний без вакансий\")\n",
        "display (df_areas_vacancies_employers)"
      ]
    },
    {
      "cell_type": "markdown",
      "id": "f2fe0acb-ab1a-4e15-9326-2560e22d73c1",
      "metadata": {
        "id": "f2fe0acb-ab1a-4e15-9326-2560e22d73c1"
      },
      "source": [
        "3. Для каждого работодателя посчитайте количество регионов, в которых он публикует свои вакансии. Отсортируйте результат по убыванию количества.\n"
      ]
    },
    {
      "cell_type": "code",
      "execution_count": null,
      "id": "6271f8ad-bd2e-4196-ae4a-5b39c4c1010e",
      "metadata": {
        "id": "6271f8ad-bd2e-4196-ae4a-5b39c4c1010e"
      },
      "outputs": [],
      "source": [
        "## Задаём количество строк для анализа.\n",
        "limit_5_3 = 10\n",
        "\n",
        "query_5_3 = f'''\n",
        "    SELECT\n",
        "        e.name AS name_employers,\n",
        "        COUNT (DISTINCT v.area_id) AS count_area                -- Подсчитываем количество регионов\n",
        "    FROM employers AS e \n",
        "    JOIN vacancies AS v ON e.id = v.employer_id                 -- Соединяем таблицы vacancies и employers по ключевым стоблбцам\n",
        "    GROUP BY e.name                                             -- Группируем данные по названию компании\n",
        "    ORDER BY COUNT (DISTINCT v.area_id) DESC                    -- Подсчитываем количество регионов исключая повторения\n",
        "    LIMIT {limit_5_3}                                                    \n",
        "'''"
      ]
    },
    {
      "cell_type": "code",
      "execution_count": null,
      "id": "1EIvX3HasH4F",
      "metadata": {
        "id": "1EIvX3HasH4F"
      },
      "outputs": [
        {
          "data": {
            "image/png": "[encoded data removed]"
          },
          "metadata": {},
          "output_type": "display_data"
        }
      ],
      "source": [
        "df_areas_employers = pd.read_sql_query(query_5_3, connection)\n",
        "\n",
        "#Строим график спомощью библиотеки plotly для наглядного отображения полдученных данных. \n",
        "fig_5_3 = px.bar(x=df_areas_employers[\"name_employers\"], y=df_areas_employers[\"count_area\"], text_auto=True)\n",
        "\n",
        "fig_5_3.update_layout(\n",
        "    barmode='stack',\n",
        "    title=f'ТОП-{limit_5_3} компаний по количеству регионов, где представлены вакансии',\n",
        "    xaxis_title_text='Название компании',\n",
        "    yaxis_title_text='Количество регионов'    \n",
        "    )\n",
        "fig_5_3.show('png')"
      ]
    },
    {
      "cell_type": "markdown",
      "id": "eab2206d-d95b-468b-8e5f-34381abf0ce7",
      "metadata": {
        "id": "eab2206d-d95b-468b-8e5f-34381abf0ce7"
      },
      "source": [
        "4. Напишите запрос для подсчёта количества работодателей, у которых не указана сфера деятельности. "
      ]
    },
    {
      "cell_type": "code",
      "execution_count": null,
      "id": "80defb23-bfb1-4a18-8be6-bf36aa7165d5",
      "metadata": {
        "id": "80defb23-bfb1-4a18-8be6-bf36aa7165d5"
      },
      "outputs": [],
      "source": [
        "query_5_4 = f'''\n",
        "    SELECT\n",
        "        COUNT (e.id)                                        -- Подсчитываем количество работодателей\n",
        "    FROM employers_industries AS ei \n",
        "    RIGHT JOIN employers AS e ON e.id = ei.employer_id      -- Соединяем таблицы employers_industries и employers по ключевым стоблбцам\n",
        "    WHERE ei.industry_id is NULL\n",
        "'''"
      ]
    },
    {
      "cell_type": "code",
      "execution_count": null,
      "id": "Dp_yCx6ysQSu",
      "metadata": {
        "id": "Dp_yCx6ysQSu"
      },
      "outputs": [
        {
          "data": {
            "text/plain": [
              "'У 8419 работодателей не указана сфера деятельности'"
            ]
          },
          "metadata": {},
          "output_type": "display_data"
        }
      ],
      "source": [
        "df_employers_no_industries = pd.read_sql_query(query_5_4, connection)\n",
        "display(f'У {df_employers_no_industries.iloc[0][0]} работодателей не указана сфера деятельности')\n"
      ]
    },
    {
      "cell_type": "markdown",
      "id": "0112af31-f6b0-4e3b-82ab-71296e752e5e",
      "metadata": {
        "id": "0112af31-f6b0-4e3b-82ab-71296e752e5e"
      },
      "source": [
        "5. Напишите запрос, чтобы узнать название компании, находящейся на третьем месте в алфавитном списке (по названию) компаний, у которых указано четыре сферы деятельности. "
      ]
    },
    {
      "cell_type": "code",
      "execution_count": null,
      "id": "973b0cfc-a972-470a-8b4a-68744ef220c4",
      "metadata": {
        "id": "973b0cfc-a972-470a-8b4a-68744ef220c4"
      },
      "outputs": [],
      "source": [
        "query_5_5 = f'''\n",
        "    SELECT\n",
        "        e.name\n",
        "    FROM employers AS e  \n",
        "    JOIN employers_industries AS ei ON e.id = ei.employer_id     -- Соединяем таблицы employers_industries и employers по ключевым стоблбцам\n",
        "    GROUP BY e.name\n",
        "    HAVING COUNT (DISTINCT ei.industry_id) = 4                   -- Выбираем только те компании, где указано 4 сферы деятельности\n",
        "    ORDER BY e.name\n",
        "    OFFSET 2                                                     -- Выводим данные в таблице начиная с 3 строки\n",
        "    LIMIT 1                                                      -- Выводим только 1 строку\n",
        "'''"
      ]
    },
    {
      "cell_type": "code",
      "execution_count": null,
      "id": "xsPtpp8EsaED",
      "metadata": {
        "id": "xsPtpp8EsaED"
      },
      "outputs": [
        {
          "data": {
            "text/plain": [
              "'На третьем месте в алфавитном списке компаний, указавших 4 сферы деятельности, находится \"2ГИС\"'"
            ]
          },
          "metadata": {},
          "output_type": "display_data"
        }
      ],
      "source": [
        "df_employers_four_industries = pd.read_sql_query(query_5_5, connection)\n",
        "display(f'На третьем месте в алфавитном списке компаний, указавших 4 сферы деятельности, находится \"{df_employers_four_industries.iloc[0][0]}\"')"
      ]
    },
    {
      "attachments": {},
      "cell_type": "markdown",
      "id": "3bfcfdaf-755d-4d2b-8ed8-326201dc07ab",
      "metadata": {
        "id": "3bfcfdaf-755d-4d2b-8ed8-326201dc07ab"
      },
      "source": [
        "6. С помощью запроса выясните, у какого количества работодателей в качестве сферы деятельности указана \"Разработка программного обеспечения\".\n"
      ]
    },
    {
      "cell_type": "code",
      "execution_count": null,
      "id": "ad3f270f-2991-47eb-929b-e8f88a55b0d1",
      "metadata": {
        "id": "ad3f270f-2991-47eb-929b-e8f88a55b0d1"
      },
      "outputs": [],
      "source": [
        "query_5_6 = f'''\n",
        "    SELECT\n",
        "        COUNT (ei.employer_id)                                 -- Подсчитываем количество компаний\n",
        "    FROM employers_industries AS ei\n",
        "    JOIN industries AS i ON i.id = ei.industry_id              -- Соединяем таблицы employers_industries и employers по ключевым стоблбцам\n",
        "    WHERE i.name LIKE 'Разработка программного обеспечения'    -- Отбираем только те данные, где в качестве сфере деятельности встречается фраза 'Разработка программного обеспечения'\n",
        "'''"
      ]
    },
    {
      "cell_type": "code",
      "execution_count": null,
      "id": "H72qxWM0shPR",
      "metadata": {
        "id": "H72qxWM0shPR"
      },
      "outputs": [
        {
          "data": {
            "text/plain": [
              "'3553 организации работают в сфере \"Разработка программного обеспечения\"'"
            ]
          },
          "metadata": {},
          "output_type": "display_data"
        }
      ],
      "source": [
        "df_industry_software = pd.read_sql_query(query_5_6, connection)\n",
        "display(f'{df_industry_software.iloc[0][0]} организации работают в сфере \"Разработка программного обеспечения\"')"
      ]
    },
    {
      "cell_type": "markdown",
      "id": "7b02bb86-0546-40fb-94a4-242f050a5c57",
      "metadata": {
        "id": "7b02bb86-0546-40fb-94a4-242f050a5c57"
      },
      "source": [
        "7. Для компании «Яндекс» выведите список регионов-миллионников, в которых представлены вакансии компании, вместе с количеством вакансий в этих регионах. Также добавьте строку Total с общим количеством вакансий компании. Результат отсортируйте по возрастанию количества.\n",
        "\n",
        "Список городов-милионников надо взять [отсюда](https://ru.wikipedia.org/wiki/%D0%93%D0%BE%D1%80%D0%BE%D0%B4%D0%B0-%D0%BC%D0%B8%D0%BB%D0%BB%D0%B8%D0%BE%D0%BD%D0%B5%D1%80%D1%8B_%D0%A0%D0%BE%D1%81%D1%81%D0%B8%D0%B8). \n",
        "\n",
        "Если возникнут трудности с этим задание посмотрите материалы модуля  PYTHON-17. Как получать данные из веб-источников и API. "
      ]
    },
    {
      "cell_type": "code",
      "execution_count": null,
      "id": "be475260",
      "metadata": {},
      "outputs": [],
      "source": [
        "url = 'https://ru.wikipedia.org/wiki/Города-миллионеры_России' # Задаём адрес ресурса\n",
        "while True:\n",
        "    response = requests.get(url) # Делаем GET-запрос к ресурсу\n",
        "    if response.status_code == 200 :   #Если удалось загрузить данные, то работаем с ними дальше. \n",
        "        page = BeautifulSoup(response.text, 'html.parser') # Создаём объект BeautifulSoup\n",
        "        break\n",
        "\n",
        "\n",
        "def cut_date (date_table):                                   #Функция для обработки полученных данных\n",
        "    list_date=str()                                          #Создаём новый список\n",
        "    for i in range(len(date_table)):                         #Перебираем полученные данные\n",
        "        if 'title=' in str(date_table[i]):                   #Если встречаем 'title='\n",
        "            list_split = str(date_table[i]).split('\"')       #Режем строку по \" и сохраняем в list_split\n",
        "            if list_date == '': \n",
        "                list_date = \"'\" +str(list_split[3])+\"'\" \n",
        "            else: \n",
        "                list_date= list_date +\", '\"+str(list_split[3])+\"'\"                #Выбираем нужный элемент из списка и добавляем в изначальный список list_date\n",
        "    return list_date \n",
        "\n",
        "# Создаём список городов-миллионников\n",
        "million_city = cut_date(page.select('#mw-content-text > div.mw-parser-output > table.standard.sortable > tbody > tr > td > a'))"
      ]
    },
    {
      "cell_type": "code",
      "execution_count": null,
      "id": "5a0e32a4-e68a-4365-8a39-2fe24c542c36",
      "metadata": {
        "id": "5a0e32a4-e68a-4365-8a39-2fe24c542c36"
      },
      "outputs": [],
      "source": [
        "query_5_7 = f'''\n",
        "    SELECT\n",
        "        a.name AS \"Название региона\",\n",
        "        COUNT (v.name) AS \"Количество вакансий\"\n",
        "    FROM employers AS e\n",
        "    JOIN vacancies AS v ON e.id = v.employer_id\n",
        "    JOIN areas AS a ON a.id = v.area_id\n",
        "    WHERE e.name = 'Яндекс'\n",
        "    GROUP BY  a.name\n",
        "    HAVING a.name IN ({million_city})\n",
        "UNION ALL\n",
        "    SELECT \n",
        "        'total',\n",
        "        COUNT (v.*)\n",
        "    FROM employers AS e\n",
        "    JOIN vacancies AS v ON e.id = v.employer_id\n",
        "    JOIN areas AS a ON a.id = v.area_id\n",
        "    WHERE (e.name = 'Яндекс') AND (a.name IN ({million_city}))\n",
        "    ORDER BY 2 \n",
        "'''"
      ]
    },
    {
      "cell_type": "code",
      "execution_count": null,
      "id": "ttPhiO1rsvPq",
      "metadata": {
        "id": "ttPhiO1rsvPq"
      },
      "outputs": [
        {
          "ename": "KeyboardInterrupt",
          "evalue": "",
          "output_type": "error",
          "traceback": [
            "\u001b[1;31m---------------------------------------------------------------------------\u001b[0m",
            "\u001b[1;31mKeyboardInterrupt\u001b[0m                         Traceback (most recent call last)",
            "Cell \u001b[1;32mIn [125], line 1\u001b[0m\n\u001b[1;32m----> 1\u001b[0m df_Yandex \u001b[39m=\u001b[39m pd\u001b[39m.\u001b[39;49mread_sql_query(query_5_7, connection)\n\u001b[0;32m      2\u001b[0m display(\u001b[39m'\u001b[39m\u001b[39mСписок городов-миллионников, где представленны вакансии компании \u001b[39m\u001b[39m\"\u001b[39m\u001b[39mЯндекс\u001b[39m\u001b[39m\"\u001b[39m\u001b[39m'\u001b[39m)\n\u001b[0;32m      3\u001b[0m display(df_Yandex)\n",
            "File \u001b[1;32mc:\\Users\\LesenaM\\AppData\\Local\\Programs\\Python\\Python310\\lib\\site-packages\\pandas\\io\\sql.py:397\u001b[0m, in \u001b[0;36mread_sql_query\u001b[1;34m(sql, con, index_col, coerce_float, params, parse_dates, chunksize, dtype)\u001b[0m\n\u001b[0;32m    339\u001b[0m \u001b[39m\"\"\"\u001b[39;00m\n\u001b[0;32m    340\u001b[0m \u001b[39mRead SQL query into a DataFrame.\u001b[39;00m\n\u001b[0;32m    341\u001b[0m \n\u001b[1;32m   (...)\u001b[0m\n\u001b[0;32m    394\u001b[0m \u001b[39mparameter will be converted to UTC.\u001b[39;00m\n\u001b[0;32m    395\u001b[0m \u001b[39m\"\"\"\u001b[39;00m\n\u001b[0;32m    396\u001b[0m pandas_sql \u001b[39m=\u001b[39m pandasSQL_builder(con)\n\u001b[1;32m--> 397\u001b[0m \u001b[39mreturn\u001b[39;00m pandas_sql\u001b[39m.\u001b[39;49mread_query(\n\u001b[0;32m    398\u001b[0m     sql,\n\u001b[0;32m    399\u001b[0m     index_col\u001b[39m=\u001b[39;49mindex_col,\n\u001b[0;32m    400\u001b[0m     params\u001b[39m=\u001b[39;49mparams,\n\u001b[0;32m    401\u001b[0m     coerce_float\u001b[39m=\u001b[39;49mcoerce_float,\n\u001b[0;32m    402\u001b[0m     parse_dates\u001b[39m=\u001b[39;49mparse_dates,\n\u001b[0;32m    403\u001b[0m     chunksize\u001b[39m=\u001b[39;49mchunksize,\n\u001b[0;32m    404\u001b[0m     dtype\u001b[39m=\u001b[39;49mdtype,\n\u001b[0;32m    405\u001b[0m )\n",
            "File \u001b[1;32mc:\\Users\\LesenaM\\AppData\\Local\\Programs\\Python\\Python310\\lib\\site-packages\\pandas\\io\\sql.py:2078\u001b[0m, in \u001b[0;36mSQLiteDatabase.read_query\u001b[1;34m(self, sql, index_col, coerce_float, params, parse_dates, chunksize, dtype)\u001b[0m\n\u001b[0;32m   2066\u001b[0m \u001b[39mdef\u001b[39;00m \u001b[39mread_query\u001b[39m(\n\u001b[0;32m   2067\u001b[0m     \u001b[39mself\u001b[39m,\n\u001b[0;32m   2068\u001b[0m     sql,\n\u001b[1;32m   (...)\u001b[0m\n\u001b[0;32m   2074\u001b[0m     dtype: DtypeArg \u001b[39m|\u001b[39m \u001b[39mNone\u001b[39;00m \u001b[39m=\u001b[39m \u001b[39mNone\u001b[39;00m,\n\u001b[0;32m   2075\u001b[0m ) \u001b[39m-\u001b[39m\u001b[39m>\u001b[39m DataFrame \u001b[39m|\u001b[39m Iterator[DataFrame]:\n\u001b[0;32m   2077\u001b[0m     args \u001b[39m=\u001b[39m _convert_params(sql, params)\n\u001b[1;32m-> 2078\u001b[0m     cursor \u001b[39m=\u001b[39m \u001b[39mself\u001b[39;49m\u001b[39m.\u001b[39;49mexecute(\u001b[39m*\u001b[39;49margs)\n\u001b[0;32m   2079\u001b[0m     columns \u001b[39m=\u001b[39m [col_desc[\u001b[39m0\u001b[39m] \u001b[39mfor\u001b[39;00m col_desc \u001b[39min\u001b[39;00m cursor\u001b[39m.\u001b[39mdescription]\n\u001b[0;32m   2081\u001b[0m     \u001b[39mif\u001b[39;00m chunksize \u001b[39mis\u001b[39;00m \u001b[39mnot\u001b[39;00m \u001b[39mNone\u001b[39;00m:\n",
            "File \u001b[1;32mc:\\Users\\LesenaM\\AppData\\Local\\Programs\\Python\\Python310\\lib\\site-packages\\pandas\\io\\sql.py:2018\u001b[0m, in \u001b[0;36mSQLiteDatabase.execute\u001b[1;34m(self, *args, **kwargs)\u001b[0m\n\u001b[0;32m   2016\u001b[0m cur \u001b[39m=\u001b[39m \u001b[39mself\u001b[39m\u001b[39m.\u001b[39mcon\u001b[39m.\u001b[39mcursor()\n\u001b[0;32m   2017\u001b[0m \u001b[39mtry\u001b[39;00m:\n\u001b[1;32m-> 2018\u001b[0m     cur\u001b[39m.\u001b[39mexecute(\u001b[39m*\u001b[39margs, \u001b[39m*\u001b[39m\u001b[39m*\u001b[39mkwargs)\n\u001b[0;32m   2019\u001b[0m     \u001b[39mreturn\u001b[39;00m cur\n\u001b[0;32m   2020\u001b[0m \u001b[39mexcept\u001b[39;00m \u001b[39mException\u001b[39;00m \u001b[39mas\u001b[39;00m exc:\n",
            "File \u001b[1;32mc:\\Users\\LesenaM\\AppData\\Local\\Programs\\Python\\Python310\\lib\\encodings\\utf_8.py:15\u001b[0m, in \u001b[0;36mdecode\u001b[1;34m(input, errors)\u001b[0m\n\u001b[0;32m     11\u001b[0m \u001b[39m### Codec APIs\u001b[39;00m\n\u001b[0;32m     13\u001b[0m encode \u001b[39m=\u001b[39m codecs\u001b[39m.\u001b[39mutf_8_encode\n\u001b[1;32m---> 15\u001b[0m \u001b[39mdef\u001b[39;00m \u001b[39mdecode\u001b[39m(\u001b[39minput\u001b[39m, errors\u001b[39m=\u001b[39m\u001b[39m'\u001b[39m\u001b[39mstrict\u001b[39m\u001b[39m'\u001b[39m):\n\u001b[0;32m     16\u001b[0m     \u001b[39mreturn\u001b[39;00m codecs\u001b[39m.\u001b[39mutf_8_decode(\u001b[39minput\u001b[39m, errors, \u001b[39mTrue\u001b[39;00m)\n\u001b[0;32m     18\u001b[0m \u001b[39mclass\u001b[39;00m \u001b[39mIncrementalEncoder\u001b[39;00m(codecs\u001b[39m.\u001b[39mIncrementalEncoder):\n",
            "\u001b[1;31mKeyboardInterrupt\u001b[0m: "
          ]
        }
      ],
      "source": [
        "df_Yandex = pd.read_sql_query(query_5_7, connection)\n",
        "display('Список городов-миллионников, где представленны вакансии компании \"Яндекс\"')\n",
        "display(df_Yandex)"
      ]
    },
    {
      "cell_type": "markdown",
      "id": "04966e40-3bc3-4dc8-9ba2-e80580ce3abc",
      "metadata": {
        "id": "04966e40-3bc3-4dc8-9ba2-e80580ce3abc"
      },
      "source": [
        "***"
      ]
    },
    {
      "attachments": {},
      "cell_type": "markdown",
      "id": "aGGyER-yt4SR",
      "metadata": {
        "id": "aGGyER-yt4SR"
      },
      "source": [
        "1. Проанализировав компании *по количеству представленных ими вакансий* мы видим, что первое место уверенно занимает компания \"Яндекс\". А первую пятёрку составляют крупные организации страны, предоставляющие наибольшее количество рабочий мест. Эти данные также стоит смотреть в разрезе вакансий по регионам, так как в IT-компаниях, таких как «Яндекс», возможна удалённая работа, а значит одна и та же вакансия может открываться в разных регионах. К тому же, у «Яндекс» такое большое количество вакансий ещё и потому, что под одним именем собраны все подразделения, включая такси, доставку и др.\n",
        "2. Проанализировав в каких регионах больше всего работодателей, но нет вакансий, мы видимо, что в 10 таких регионов попали **страны, области и республики**. В этих регионах и не может быть вакансий, так как рабочие места, даже для удалённой работы, привязаны к *конкретным городам*. \n",
        "3. Выбрав для анализа 10 компаний по количеству регионов, где представлены вакансии мы видим, что *две лидирующие строчки совпадают с двумя лидирующими строками из анализа работодателей по количеству представленных вакансий*. Это подтверждает предположение, что компании выставляют **одни и те же вакансии в разных регионах**, так как принимают сотрудников для удалённой работы, либо для работы в дочерние организации. Например, как уже упоминалось, в случае «Яндекса» это может быть такси, доставка и т.д. потому что физические офисы компании есть лишь в 35 регионах мира. \n",
        "4. При анализе данных работодателей выявлено, что у 8419 компаний *не указана сфера деятельности*. Это почти **36 % компаний**. \n",
        "5. На третьем месте в алфавитном списке компаний, указавших 4 сферы деятельности, находится \"2ГИС\"\n",
        "6. Из 23,5 тысяч компаний 3,5 тысячи работают в сфере разработки программного обеспечения. Это чуть больше **15%**. Что подтверждает статистику о том, что *с каждым годом количество IT-компаний увеличивается*.\n",
        "7. Проанализировав вакансии, представленные компанией «Яндекс» мы видим, что **25%** из них представлены в городах-миллионниках России. То есть на 165 регионов, в которых размещаются вакансии, приходится 75 % вакансий. Так же можно отметить, что *в Москве и Санкт-Петербурге* количество вакансий **в два раза больше**, чем в Омске, находящемся на первом месте в таблице. \n",
        "\n"
      ]
    },
    {
      "cell_type": "markdown",
      "id": "b1ef156a-efcb-49ce-bb23-90763e7f35b2",
      "metadata": {
        "id": "b1ef156a-efcb-49ce-bb23-90763e7f35b2",
        "tags": []
      },
      "source": [
        "# Юнит 6. Предметный анализ"
      ]
    },
    {
      "cell_type": "markdown",
      "id": "b9cd50a0-992d-4988-8463-2b2b1c4629b4",
      "metadata": {
        "id": "b9cd50a0-992d-4988-8463-2b2b1c4629b4"
      },
      "source": [
        "1. Сколько вакансий имеет отношение к данным?\n",
        "\n",
        "Считаем, что вакансия имеет отношение к данным, если в её названии содержатся слова 'data' или 'данн'.\n",
        "\n",
        "*Подсказка: Обратите внимание, что названия вакансий могут быть написаны в любом регистре.* \n"
      ]
    },
    {
      "cell_type": "code",
      "execution_count": null,
      "id": "54ab0e50-c0f1-47cc-a54b-bc5c8bc363f9",
      "metadata": {
        "id": "54ab0e50-c0f1-47cc-a54b-bc5c8bc363f9"
      },
      "outputs": [],
      "source": [
        "query_6_1 = f'''\n",
        "    SELECT\n",
        "        COUNT (v.*)                                                        -- Подсчитываем количество вакансий\n",
        "    FROM vacancies AS v\n",
        "    WHERE (LOWER(v.name) LIKE '%data%') or (LOWER(v.name) LIKE '%данн%')   -- Отбираем только те данные, где встречаются 'data' или 'данн'\n",
        "'''"
      ]
    },
    {
      "cell_type": "code",
      "execution_count": null,
      "id": "9F1meAqsuUjd",
      "metadata": {
        "id": "9F1meAqsuUjd"
      },
      "outputs": [
        {
          "data": {
            "text/plain": [
              "'1771 вакансия имеет отношение к данным'"
            ]
          },
          "metadata": {},
          "output_type": "display_data"
        }
      ],
      "source": [
        "df_vacancies_data = pd.read_sql_query(query_6_1, connection)\n",
        "display(f'{df_vacancies_data.iloc[0][0]} вакансия имеет отношение к данным')"
      ]
    },
    {
      "cell_type": "markdown",
      "id": "4dea20cb-a36b-474a-a0b9-e08e8e3857a5",
      "metadata": {
        "id": "4dea20cb-a36b-474a-a0b9-e08e8e3857a5"
      },
      "source": [
        "2. Сколько есть подходящих вакансий для начинающего дата-сайентиста? \n",
        "Будем считать вакансиями для дата-сайентистов такие, в названии которых есть хотя бы одно из следующих сочетаний:\n",
        "* 'data scientist'\n",
        "* 'data science'\n",
        "* 'исследователь данных'\n",
        "* 'ML' (здесь не нужно брать вакансии по HTML)\n",
        "* 'machine learning'\n",
        "* 'машинн%обучен%'\n",
        "\n",
        "** В следующих заданиях мы продолжим работать с вакансиями по этому условию.*\n",
        "\n",
        "Считаем вакансиями для специалистов уровня Junior следующие:\n",
        "* в названии есть слово 'junior' *или*\n",
        "* требуемый опыт — Нет опыта *или*\n",
        "* тип трудоустройства — Стажировка.\n",
        " "
      ]
    },
    {
      "cell_type": "code",
      "execution_count": null,
      "id": "7163fb6c",
      "metadata": {},
      "outputs": [],
      "source": [
        "#Так как следующие отчёты требуют отбора вакансий для специалистов Data Science, для удобства сохраним запрос в переменную и будем передавать её\n",
        "\n",
        "query_DS = '''FROM\n",
        "    -- Создаём таблицу из данных для сортировки\n",
        "    (VALUES                                                             \n",
        "            ('%data scientist%'),\n",
        "            ('%data science%'),\n",
        "            ('%исследователь данных%'),\n",
        "            ('%machine learning%'),\n",
        "            ('%машинн%обучен%')\n",
        "    ) \n",
        "    -- Задаём псевдоним для созданной таблицы и название столбца\n",
        "    AS p (pattern),       \n",
        "\n",
        " -- Присоединяем таблицу vacancies, перемножая каждую строку в vacancies со строкой из \"p\"          \n",
        "LATERAL                                                                \n",
        "    (SELECT\n",
        "    v.*\n",
        "        FROM vacancies AS v\n",
        "        -- Отбираем среди полученных данных только те, что соответсвуют заданным праметрам в таблице p, предварительно переведя название в нижний регистр \n",
        "        WHERE ((lower(v.name) like p.pattern)       \n",
        "        -- Так как \"ML\" может встречаться только в верхнем регистре, задаём дополнительную проверку.                    \n",
        "           OR ((v.name like '%ML%') AND (v.name not like '%HTML%')))    \n",
        "    ) \n",
        "    -- Задаём для получившейся таблицы псевдоним \"x\"\n",
        "    AS x'''   "
      ]
    },
    {
      "cell_type": "code",
      "execution_count": null,
      "id": "cc822812",
      "metadata": {},
      "outputs": [],
      "source": [
        "query_6_2 = f'''SELECT\n",
        "-- Подсчитываем количество уникальных значений\n",
        "count (DISTINCT x.*) \n",
        "\n",
        "-- Подставляем запрос отбора вакансий, подготовленный заранее\n",
        "{query_DS}\n",
        "\n",
        "-- Отбираем среди полученных вакансий те, которые подходят для соискателей без опыта                                      \n",
        "WHERE ((lower(name) like '%junior%')                                    \n",
        "    OR (experience = 'Нет опыта')\n",
        "    OR (employment = 'Стажировка'))\n",
        "'''"
      ]
    },
    {
      "cell_type": "code",
      "execution_count": null,
      "id": "ZNM-LLYuu1dj",
      "metadata": {
        "id": "ZNM-LLYuu1dj"
      },
      "outputs": [
        {
          "data": {
            "text/plain": [
              "'Для начинающего специалиста Data Science подходит 51 вакансия'"
            ]
          },
          "metadata": {},
          "output_type": "display_data"
        }
      ],
      "source": [
        "df_vacancies_ds = pd.read_sql_query(query_6_2, connection)\n",
        "display(f'Для начинающего специалиста Data Science подходит {df_vacancies_ds.iloc[0][0]} вакансия')"
      ]
    },
    {
      "cell_type": "markdown",
      "id": "eedceb80-c5ca-480e-b27a-278dfb8b4438",
      "metadata": {
        "id": "eedceb80-c5ca-480e-b27a-278dfb8b4438"
      },
      "source": [
        "3. Сколько есть вакансий для DS, в которых в качестве ключевого навыка указан SQL или postgres?\n",
        "\n",
        "** Критерии для отнесения вакансии к DS указаны в предыдущем задании.*"
      ]
    },
    {
      "cell_type": "code",
      "execution_count": null,
      "id": "69621713-0cc5-4f1b-a1d7-bb144fa6148c",
      "metadata": {
        "id": "69621713-0cc5-4f1b-a1d7-bb144fa6148c"
      },
      "outputs": [],
      "source": [
        "query_6_3 = f'''SELECT\n",
        "-- Подсчитываем количество уникальных значений\n",
        "count (DISTINCT x.*) \n",
        "\n",
        "-- Подставляем запрос отбора вакансий, подготовленный заранее\n",
        "{query_DS}\n",
        "\n",
        "-- Отбираем среди полученных вакансий те, где требуется навык SQL или Postgres\n",
        "WHERE key_skills ~~ '%SQL%' OR key_skills ~~ 'postgres'\n",
        "'''"
      ]
    },
    {
      "cell_type": "code",
      "execution_count": null,
      "id": "alA8WEAAvGdf",
      "metadata": {
        "id": "alA8WEAAvGdf"
      },
      "outputs": [
        {
          "data": {
            "text/plain": [
              "'Для 201 вакансии специалиста Data Sciense требуется навык SQL или Postgres'"
            ]
          },
          "metadata": {},
          "output_type": "display_data"
        }
      ],
      "source": [
        "df_vacancies_ds_SQL = pd.read_sql_query(query_6_3, connection)\n",
        "display(f'Для {df_vacancies_ds_SQL.iloc[0][0]} вакансии специалиста Data Sciense требуется навык SQL или Postgres')"
      ]
    },
    {
      "cell_type": "markdown",
      "id": "1be1e9c6-37cf-4a5f-bfeb-04cab799dc80",
      "metadata": {
        "id": "1be1e9c6-37cf-4a5f-bfeb-04cab799dc80"
      },
      "source": [
        "4. Проверьте, насколько популярен Python в требованиях работодателей к DS.Для этого вычислите количество вакансий, в которых в качестве ключевого навыка указан Python.\n",
        "\n",
        "** Это можно сделать помощью запроса, аналогичного предыдущему.*"
      ]
    },
    {
      "cell_type": "code",
      "execution_count": null,
      "id": "0036a355-9ccf-4564-8b01-73d8194297e7",
      "metadata": {
        "id": "0036a355-9ccf-4564-8b01-73d8194297e7"
      },
      "outputs": [],
      "source": [
        "query_6_4 = f'''SELECT\n",
        "-- Подсчитываем количество уникальных значений\n",
        "count (DISTINCT x.*) \n",
        "\n",
        "-- Подставляем запрос отбора вакансий, подготовленный заранее\n",
        "{query_DS}\n",
        "\n",
        "-- Отбираем среди полученных вакансий те, где требуется знание Python\n",
        "WHERE x.key_skills ~~ '%Python%'\n",
        "'''"
      ]
    },
    {
      "cell_type": "code",
      "execution_count": null,
      "id": "1i-5WyucvQ6v",
      "metadata": {
        "id": "1i-5WyucvQ6v"
      },
      "outputs": [
        {
          "data": {
            "text/plain": [
              "'Для 351 вакансии специалиста Data Sciense требуется знание Python'"
            ]
          },
          "metadata": {},
          "output_type": "display_data"
        }
      ],
      "source": [
        "df_vacancies_ds_Python = pd.read_sql_query(query_6_4, connection)\n",
        "display(f'Для {df_vacancies_ds_Python.iloc[0][0]} вакансии специалиста Data Sciense требуется знание Python')"
      ]
    },
    {
      "cell_type": "markdown",
      "id": "ec3c8db7-fa21-4a41-a994-1af63742a642",
      "metadata": {
        "id": "ec3c8db7-fa21-4a41-a994-1af63742a642"
      },
      "source": [
        "5. Сколько ключевых навыков в среднем указывают в вакансиях для DS?\n",
        "Ответ округлите до двух знаков после точки-разделителя."
      ]
    },
    {
      "cell_type": "code",
      "execution_count": null,
      "id": "47b0e74a",
      "metadata": {},
      "outputs": [],
      "source": [
        "query_6_5 = f'''SELECT\n",
        "-- Подсчитываем среднее количество ключевых навыков, вычитая из изначальной строки строку, \n",
        "-- в которой убираем табуляцию. Так как перед первым навыком не стоит табуляции, добавляем 1\n",
        "Avg (LENGTH(v.key_skills)-LENGTH(REPLACE(v.key_skills, CHR(9),''))+1)\n",
        "from vacancies v\n",
        "\n",
        "-- Отбираем из вакансий те, что подходят для специалистов Data Science\n",
        "WHERE\n",
        "    ((name ILIKE '%data scientist%') OR (name ILIKE '%data science%') OR (name ILIKE '%исследователь данных%')\n",
        "    OR ((name LIKE '%ML%') AND (name NOT LIKE '%HTML%'))\n",
        "    OR (name ILIKE '%machine learning%')\n",
        "    OR (name ILIKE '%машинн%обучен%'))\n",
        "    AND (key_skills IS NOT NULL)\n",
        "'''"
      ]
    },
    {
      "cell_type": "code",
      "execution_count": null,
      "id": "a3V24Tvmviqk",
      "metadata": {
        "id": "a3V24Tvmviqk"
      },
      "outputs": [
        {
          "data": {
            "text/plain": [
              "'В среднем для специалиста Data Sciense указывают 6.41 ключевых навыка'"
            ]
          },
          "metadata": {},
          "output_type": "display_data"
        }
      ],
      "source": [
        "df_skills = pd.read_sql_query(query_6_5, connection)\n",
        "display(f'В среднем для специалиста Data Sciense указывают {round (df_skills.iloc[0][0],2)} ключевых навыка')"
      ]
    },
    {
      "cell_type": "markdown",
      "id": "1041c17a-ca8f-4543-a0ca-32778914fb00",
      "metadata": {
        "id": "1041c17a-ca8f-4543-a0ca-32778914fb00"
      },
      "source": [
        "6. Напишите запрос, позволяющий вычислить, какую зарплату для DS в **среднем** указывают для каждого типа требуемого опыта (уникальное значение из поля *experience*). \n",
        "\n",
        "При решении задачи примите во внимание следующее:\n",
        "1. Рассматриваем только вакансии, у которых заполнено хотя бы одно из двух полей с зарплатой.\n",
        "2. Если заполнены оба поля с зарплатой, то считаем зарплату по каждой вакансии как сумму двух полей, делённую на 2. Если заполнено только одно из полей, то его и считаем зарплатой по вакансии.\n",
        "3. Если в расчётах участвует null, в результате он тоже даст null (посмотрите, что возвращает запрос select 1 + null). Чтобы избежать этой ситуацию, мы воспользуемся функцией [coalesce](https://postgrespro.ru/docs/postgresql/9.5/functions-conditional#functions-coalesce-nvl-ifnull), которая заменит null на значение, которое мы передадим. Например, посмотрите, что возвращает запрос `select 1 + coalesce(null, 0)`\n",
        "\n",
        "Выясните, на какую зарплату в среднем может рассчитывать дата-сайентист с опытом работы от 3 до 6 лет. Результат округлите до целого числа. "
      ]
    },
    {
      "cell_type": "code",
      "execution_count": null,
      "id": "01aa39e9",
      "metadata": {},
      "outputs": [],
      "source": [
        "query_6_6 = f'''SELECT\n",
        "    v.experience AS \"Опыт работы\",\n",
        "    -- Подсчитываем среднее значение заработной платы, указанной в вакансиях. \n",
        "    -- Так как одна из зарплат может быть не указана, проверяем это через COALESCE\n",
        "    -- Перед выводом округляем значение до целого числа \n",
        "    round(AVG(COALESCE((salary_from+salary_to)/2,salary_to,salary_from))) AS \"Средняя зарплата\"\n",
        "    from vacancies v\n",
        "    -- Отбираем из вакансий те, что подходят для специалистов Data Science\n",
        "    WHERE\n",
        "        ((v.name ILIKE '%data scientist%') OR (v.name ILIKE '%data science%') OR (v.name ILIKE '%исследователь данных%')\n",
        "        OR ((v.name LIKE '%ML%') AND (v.name NOT LIKE '%HTML%'))\n",
        "        OR (v.name ILIKE '%machine learning%')\n",
        "        OR (v.name ILIKE '%машинн%обучен%'))\n",
        "    -- Убираем из расчёта вакансии, где вообще не указана заработная плата или опыт\n",
        "        AND ((v.salary_from IS NOT NULL or v.salary_to IS NOT NULL)) \n",
        "        AND v.experience IS NOT NULL\n",
        "    -- Группируем данные по оптыу работы\n",
        "    GROUP BY v.experience \n",
        "'''"
      ]
    },
    {
      "cell_type": "code",
      "execution_count": null,
      "id": "aRIJ0mZEwU1_",
      "metadata": {
        "id": "aRIJ0mZEwU1_"
      },
      "outputs": [
        {
          "data": {
            "text/plain": [
              "'Специалист Data Science с опытом работы От 3 до 6 лет может расчитывать на среднюю зарплату 243115.0'"
            ]
          },
          "metadata": {},
          "output_type": "display_data"
        },
        {
          "data": {
            "text/html": [
              "<style type=\"text/css\">\n",
              "</style>\n",
              "<table id=\"T_a0aae\">\n",
              "  <caption>Распределение заработной платы для специалиста Data Science в зависимсоти от опыта работы</caption>\n",
              "  <thead>\n",
              "    <tr>\n",
              "      <th class=\"blank level0\" >&nbsp;</th>\n",
              "      <th id=\"T_a0aae_level0_col0\" class=\"col_heading level0 col0\" >Опыт работы</th>\n",
              "      <th id=\"T_a0aae_level0_col1\" class=\"col_heading level0 col1\" >Средняя зарплата</th>\n",
              "    </tr>\n",
              "  </thead>\n",
              "  <tbody>\n",
              "    <tr>\n",
              "      <th id=\"T_a0aae_level0_row0\" class=\"row_heading level0 row0\" >0</th>\n",
              "      <td id=\"T_a0aae_row0_col0\" class=\"data row0 col0\" >Нет опыта</td>\n",
              "      <td id=\"T_a0aae_row0_col1\" class=\"data row0 col1\" >74643.000000</td>\n",
              "    </tr>\n",
              "    <tr>\n",
              "      <th id=\"T_a0aae_level0_row1\" class=\"row_heading level0 row1\" >1</th>\n",
              "      <td id=\"T_a0aae_row1_col0\" class=\"data row1 col0\" >От 1 года до 3 лет</td>\n",
              "      <td id=\"T_a0aae_row1_col1\" class=\"data row1 col1\" >139675.000000</td>\n",
              "    </tr>\n",
              "    <tr>\n",
              "      <th id=\"T_a0aae_level0_row2\" class=\"row_heading level0 row2\" >2</th>\n",
              "      <td id=\"T_a0aae_row2_col0\" class=\"data row2 col0\" >От 3 до 6 лет</td>\n",
              "      <td id=\"T_a0aae_row2_col1\" class=\"data row2 col1\" >243115.000000</td>\n",
              "    </tr>\n",
              "  </tbody>\n",
              "</table>\n"
            ],
            "text/plain": [
              "<pandas.io.formats.style.Styler at 0x16a292ef610>"
            ]
          },
          "metadata": {},
          "output_type": "display_data"
        }
      ],
      "source": [
        "df_avg_salary = pd.read_sql_query(query_6_6, connection)\n",
        "display(f'Специалист Data Science с опытом работы {df_avg_salary.iloc[2][0]} может расчитывать на среднюю зарплату {df_avg_salary.iloc[2][1]}')\n",
        "#df_avg_salary = df_avg_salary.style.set_caption(f\"Распределение заработной платы для специалиста Data Science в зависимсоти от опыта работы\")\n",
        "display (df_avg_salary)\n"
      ]
    },
    {
      "cell_type": "markdown",
      "id": "6a7892b4-4113-4746-adce-18aa2844f18e",
      "metadata": {
        "id": "6a7892b4-4113-4746-adce-18aa2844f18e"
      },
      "source": [
        "***"
      ]
    },
    {
      "attachments": {},
      "cell_type": "markdown",
      "id": "7560e3df",
      "metadata": {},
      "source": [
        "1.\tИз представленных вакансий только **3,6 %** имеют отношение к данным. Стоит отметить, что сюда относятся вакансии для аналитиков данных, Data Engineer, Data Science, Администратор баз данных и др.\n",
        "2.\t*Проведя дополнительный анализ мы выяснили*, что **по указанным параметрам** в базе данных всего 480 вакансий для специалистов Data Science. Если отбирать среди них те, что подходят для людей без опыта работы, то таких вакансий останется **всего 51**. А это больше 10 %. Анализируя вакансии по опыту работы мы уже отмечали, что *вакансий для начинающих специалистов не так много* из-за рисков перехода сотрудников в другие компании после получения первого опыта. Это и нестабильная ситуация в мире повлияла на то, что многие *организации стали с опаской нанимать сотрудников без опыта работы*.\n",
        "3.\tСреди вакансий для специалистов Data Science в 201 указан основной навык SQL или postgres. То есть для *41 %* вакансий требуется умение работать с базами данных и написание запросов. \n",
        "4.\tА в 351 вакансии требуется знание языка Python. Это говорит о *популярности языка программирования* среди специалистов Data Science. \n",
        "5.\tНо знания SQL и Python не залог успеха, так как в среднем для специалистов Data Science работодатели указывают **6 и более ключевых навыков**.\n",
        "6.\tПроанализировав заработную плату специалистов Data Science мы видим, что с увеличением опыта, значительно увеличивается заработная плата сотрудника. Практически в 2 раза. Это говорит о том, что на рынке очень ценят специалистов **с большим опытом**.   \n"
      ]
    },
    {
      "cell_type": "markdown",
      "id": "c0ED6fh7wiBT",
      "metadata": {
        "id": "c0ED6fh7wiBT"
      },
      "source": [
        "# Общий вывод по проекту"
      ]
    },
    {
      "attachments": {},
      "cell_type": "markdown",
      "id": "a2890921",
      "metadata": {},
      "source": [
        "ДОПОЛНИТЕЛЬНЫЙ АНАЛИЗ. \n",
        "\n",
        "Для соискателей с каким опытом работы чаще указывают заработную плату. "
      ]
    },
    {
      "cell_type": "code",
      "execution_count": null,
      "id": "945ad741",
      "metadata": {},
      "outputs": [
        {
          "data": {
            "text/html": [
              "<style type=\"text/css\">\n",
              "</style>\n",
              "<table id=\"T_528a0\">\n",
              "  <caption>Количество вакансий, где указана заработная плата, в зависимости от опыта работы соискателей</caption>\n",
              "  <thead>\n",
              "    <tr>\n",
              "      <th class=\"blank level0\" >&nbsp;</th>\n",
              "      <th id=\"T_528a0_level0_col0\" class=\"col_heading level0 col0\" >Опыт работы</th>\n",
              "      <th id=\"T_528a0_level0_col1\" class=\"col_heading level0 col1\" >Количество вакансий</th>\n",
              "    </tr>\n",
              "  </thead>\n",
              "  <tbody>\n",
              "    <tr>\n",
              "      <th id=\"T_528a0_level0_row0\" class=\"row_heading level0 row0\" >0</th>\n",
              "      <td id=\"T_528a0_row0_col0\" class=\"data row0 col0\" >Более 6 лет</td>\n",
              "      <td id=\"T_528a0_row0_col1\" class=\"data row0 col1\" >550</td>\n",
              "    </tr>\n",
              "    <tr>\n",
              "      <th id=\"T_528a0_level0_row1\" class=\"row_heading level0 row1\" >1</th>\n",
              "      <td id=\"T_528a0_row1_col0\" class=\"data row1 col0\" >От 3 до 6 лет</td>\n",
              "      <td id=\"T_528a0_row1_col1\" class=\"data row1 col1\" >5649</td>\n",
              "    </tr>\n",
              "    <tr>\n",
              "      <th id=\"T_528a0_level0_row2\" class=\"row_heading level0 row2\" >2</th>\n",
              "      <td id=\"T_528a0_row2_col0\" class=\"data row2 col0\" >Нет опыта</td>\n",
              "      <td id=\"T_528a0_row2_col1\" class=\"data row2 col1\" >5055</td>\n",
              "    </tr>\n",
              "    <tr>\n",
              "      <th id=\"T_528a0_level0_row3\" class=\"row_heading level0 row3\" >3</th>\n",
              "      <td id=\"T_528a0_row3_col0\" class=\"data row3 col0\" >От 1 года до 3 лет</td>\n",
              "      <td id=\"T_528a0_row3_col1\" class=\"data row3 col1\" >12819</td>\n",
              "    </tr>\n",
              "  </tbody>\n",
              "</table>\n"
            ],
            "text/plain": [
              "<pandas.io.formats.style.Styler at 0x16a29a3b460>"
            ]
          },
          "metadata": {},
          "output_type": "display_data"
        }
      ],
      "source": [
        "query_7_1 = f'''\n",
        "    SELECT \n",
        "        v.experience AS \"Опыт работы\",\n",
        "        COUNT (v.id) AS \"Количество вакансий\"   -- Подсчитываем количество вакансий     \n",
        "    FROM vacancies AS v\n",
        "    WHERE (v.salary_from IS NOT NULL) OR (v.salary_to IS NOT NULL)   --Исключаем из таблицы вакансии, где не указана заработная плата\n",
        "    GROUP BY v.experience                      -- Для подсчёта количества вакансий группируем их по опыту работы соискателей\n",
        "'''\n",
        "\n",
        "df_experience_salary = pd.read_sql_query(query_7_1, connection)\n",
        "display(\"Количество вакансий, где указана заработная плата, в зависимости от опыта работы соискателей\")\n",
        "display(df_experience_salary)"
      ]
    },
    {
      "attachments": {},
      "cell_type": "markdown",
      "id": "50c793be",
      "metadata": {},
      "source": [
        "ДОПОЛНИТЕЛЬНЫЙ АНАЛИЗ. \n",
        "\n",
        "Какую среднюю заработную плату указывают в разных регионах."
      ]
    },
    {
      "cell_type": "code",
      "execution_count": null,
      "id": "bf88eeda",
      "metadata": {},
      "outputs": [
        {
          "data": {
            "text/html": [
              "<style type=\"text/css\">\n",
              "</style>\n",
              "<table id=\"T_7ada1\">\n",
              "  <caption>Количество вакансий, где указана заработная плата, в зависимости от региона</caption>\n",
              "  <thead>\n",
              "    <tr>\n",
              "      <th class=\"blank level0\" >&nbsp;</th>\n",
              "      <th id=\"T_7ada1_level0_col0\" class=\"col_heading level0 col0\" >Название региона</th>\n",
              "      <th id=\"T_7ada1_level0_col1\" class=\"col_heading level0 col1\" >Количество вакансий</th>\n",
              "      <th id=\"T_7ada1_level0_col2\" class=\"col_heading level0 col2\" >Средняя зарплата</th>\n",
              "    </tr>\n",
              "  </thead>\n",
              "  <tbody>\n",
              "    <tr>\n",
              "      <th id=\"T_7ada1_level0_row0\" class=\"row_heading level0 row0\" >0</th>\n",
              "      <td id=\"T_7ada1_row0_col0\" class=\"data row0 col0\" >Германия</td>\n",
              "      <td id=\"T_7ada1_row0_col1\" class=\"data row0 col1\" >2</td>\n",
              "      <td id=\"T_7ada1_row0_col2\" class=\"data row0 col2\" >452751.000000</td>\n",
              "    </tr>\n",
              "    <tr>\n",
              "      <th id=\"T_7ada1_level0_row1\" class=\"row_heading level0 row1\" >1</th>\n",
              "      <td id=\"T_7ada1_row1_col0\" class=\"data row1 col0\" >Болгария</td>\n",
              "      <td id=\"T_7ada1_row1_col1\" class=\"data row1 col1\" >3</td>\n",
              "      <td id=\"T_7ada1_row1_col2\" class=\"data row1 col2\" >324348.000000</td>\n",
              "    </tr>\n",
              "    <tr>\n",
              "      <th id=\"T_7ada1_level0_row2\" class=\"row_heading level0 row2\" >2</th>\n",
              "      <td id=\"T_7ada1_row2_col0\" class=\"data row2 col0\" >Испания</td>\n",
              "      <td id=\"T_7ada1_row2_col1\" class=\"data row2 col1\" >1</td>\n",
              "      <td id=\"T_7ada1_row2_col2\" class=\"data row2 col2\" >300000.000000</td>\n",
              "    </tr>\n",
              "    <tr>\n",
              "      <th id=\"T_7ada1_level0_row3\" class=\"row_heading level0 row3\" >3</th>\n",
              "      <td id=\"T_7ada1_row3_col0\" class=\"data row3 col0\" >Черногория</td>\n",
              "      <td id=\"T_7ada1_row3_col1\" class=\"data row3 col1\" >4</td>\n",
              "      <td id=\"T_7ada1_row3_col2\" class=\"data row3 col2\" >288589.000000</td>\n",
              "    </tr>\n",
              "    <tr>\n",
              "      <th id=\"T_7ada1_level0_row4\" class=\"row_heading level0 row4\" >4</th>\n",
              "      <td id=\"T_7ada1_row4_col0\" class=\"data row4 col0\" >Литва</td>\n",
              "      <td id=\"T_7ada1_row4_col1\" class=\"data row4 col1\" >2</td>\n",
              "      <td id=\"T_7ada1_row4_col2\" class=\"data row4 col2\" >263019.000000</td>\n",
              "    </tr>\n",
              "    <tr>\n",
              "      <th id=\"T_7ada1_level0_row5\" class=\"row_heading level0 row5\" >5</th>\n",
              "      <td id=\"T_7ada1_row5_col0\" class=\"data row5 col0\" >Польша</td>\n",
              "      <td id=\"T_7ada1_row5_col1\" class=\"data row5 col1\" >3</td>\n",
              "      <td id=\"T_7ada1_row5_col2\" class=\"data row5 col2\" >257156.000000</td>\n",
              "    </tr>\n",
              "    <tr>\n",
              "      <th id=\"T_7ada1_level0_row6\" class=\"row_heading level0 row6\" >6</th>\n",
              "      <td id=\"T_7ada1_row6_col0\" class=\"data row6 col0\" >Петропавловка (Республика Бурятия)</td>\n",
              "      <td id=\"T_7ada1_row6_col1\" class=\"data row6 col1\" >1</td>\n",
              "      <td id=\"T_7ada1_row6_col2\" class=\"data row6 col2\" >250000.000000</td>\n",
              "    </tr>\n",
              "    <tr>\n",
              "      <th id=\"T_7ada1_level0_row7\" class=\"row_heading level0 row7\" >7</th>\n",
              "      <td id=\"T_7ada1_row7_col0\" class=\"data row7 col0\" >Турция</td>\n",
              "      <td id=\"T_7ada1_row7_col1\" class=\"data row7 col1\" >19</td>\n",
              "      <td id=\"T_7ada1_row7_col2\" class=\"data row7 col2\" >235435.000000</td>\n",
              "    </tr>\n",
              "    <tr>\n",
              "      <th id=\"T_7ada1_level0_row8\" class=\"row_heading level0 row8\" >8</th>\n",
              "      <td id=\"T_7ada1_row8_col0\" class=\"data row8 col0\" >Кипр</td>\n",
              "      <td id=\"T_7ada1_row8_col1\" class=\"data row8 col1\" >39</td>\n",
              "      <td id=\"T_7ada1_row8_col2\" class=\"data row8 col2\" >223736.000000</td>\n",
              "    </tr>\n",
              "    <tr>\n",
              "      <th id=\"T_7ada1_level0_row9\" class=\"row_heading level0 row9\" >9</th>\n",
              "      <td id=\"T_7ada1_row9_col0\" class=\"data row9 col0\" >Кутаиси</td>\n",
              "      <td id=\"T_7ada1_row9_col1\" class=\"data row9 col1\" >3</td>\n",
              "      <td id=\"T_7ada1_row9_col2\" class=\"data row9 col2\" >220475.000000</td>\n",
              "    </tr>\n",
              "    <tr>\n",
              "      <th id=\"T_7ada1_level0_row10\" class=\"row_heading level0 row10\" >10</th>\n",
              "      <td id=\"T_7ada1_row10_col0\" class=\"data row10 col0\" >Дзержинск (Беларусь)</td>\n",
              "      <td id=\"T_7ada1_row10_col1\" class=\"data row10 col1\" >3</td>\n",
              "      <td id=\"T_7ada1_row10_col2\" class=\"data row10 col2\" >220349.000000</td>\n",
              "    </tr>\n",
              "    <tr>\n",
              "      <th id=\"T_7ada1_level0_row11\" class=\"row_heading level0 row11\" >11</th>\n",
              "      <td id=\"T_7ada1_row11_col0\" class=\"data row11 col0\" >Армения</td>\n",
              "      <td id=\"T_7ada1_row11_col1\" class=\"data row11 col1\" >106</td>\n",
              "      <td id=\"T_7ada1_row11_col2\" class=\"data row11 col2\" >219570.000000</td>\n",
              "    </tr>\n",
              "    <tr>\n",
              "      <th id=\"T_7ada1_level0_row12\" class=\"row_heading level0 row12\" >12</th>\n",
              "      <td id=\"T_7ada1_row12_col0\" class=\"data row12 col0\" >Таджикистан</td>\n",
              "      <td id=\"T_7ada1_row12_col1\" class=\"data row12 col1\" >2</td>\n",
              "      <td id=\"T_7ada1_row12_col2\" class=\"data row12 col2\" >215094.000000</td>\n",
              "    </tr>\n",
              "    <tr>\n",
              "      <th id=\"T_7ada1_level0_row13\" class=\"row_heading level0 row13\" >13</th>\n",
              "      <td id=\"T_7ada1_row13_col0\" class=\"data row13 col0\" >Великобритания</td>\n",
              "      <td id=\"T_7ada1_row13_col1\" class=\"data row13 col1\" >2</td>\n",
              "      <td id=\"T_7ada1_row13_col2\" class=\"data row13 col2\" >208962.000000</td>\n",
              "    </tr>\n",
              "    <tr>\n",
              "      <th id=\"T_7ada1_level0_row14\" class=\"row_heading level0 row14\" >14</th>\n",
              "      <td id=\"T_7ada1_row14_col0\" class=\"data row14 col0\" >Сербия</td>\n",
              "      <td id=\"T_7ada1_row14_col1\" class=\"data row14 col1\" >12</td>\n",
              "      <td id=\"T_7ada1_row14_col2\" class=\"data row14 col2\" >208423.000000</td>\n",
              "    </tr>\n",
              "    <tr>\n",
              "      <th id=\"T_7ada1_level0_row15\" class=\"row_heading level0 row15\" >15</th>\n",
              "      <td id=\"T_7ada1_row15_col0\" class=\"data row15 col0\" >Тбилиси</td>\n",
              "      <td id=\"T_7ada1_row15_col1\" class=\"data row15 col1\" >80</td>\n",
              "      <td id=\"T_7ada1_row15_col2\" class=\"data row15 col2\" >207156.000000</td>\n",
              "    </tr>\n",
              "    <tr>\n",
              "      <th id=\"T_7ada1_level0_row16\" class=\"row_heading level0 row16\" >16</th>\n",
              "      <td id=\"T_7ada1_row16_col0\" class=\"data row16 col0\" >Эстония</td>\n",
              "      <td id=\"T_7ada1_row16_col1\" class=\"data row16 col1\" >2</td>\n",
              "      <td id=\"T_7ada1_row16_col2\" class=\"data row16 col2\" >204570.000000</td>\n",
              "    </tr>\n",
              "    <tr>\n",
              "      <th id=\"T_7ada1_level0_row17\" class=\"row_heading level0 row17\" >17</th>\n",
              "      <td id=\"T_7ada1_row17_col0\" class=\"data row17 col0\" >Латвия</td>\n",
              "      <td id=\"T_7ada1_row17_col1\" class=\"data row17 col1\" >2</td>\n",
              "      <td id=\"T_7ada1_row17_col2\" class=\"data row17 col2\" >204570.000000</td>\n",
              "    </tr>\n",
              "    <tr>\n",
              "      <th id=\"T_7ada1_level0_row18\" class=\"row_heading level0 row18\" >18</th>\n",
              "      <td id=\"T_7ada1_row18_col0\" class=\"data row18 col0\" >Шушары</td>\n",
              "      <td id=\"T_7ada1_row18_col1\" class=\"data row18 col1\" >1</td>\n",
              "      <td id=\"T_7ada1_row18_col2\" class=\"data row18 col2\" >200000.000000</td>\n",
              "    </tr>\n",
              "    <tr>\n",
              "      <th id=\"T_7ada1_level0_row19\" class=\"row_heading level0 row19\" >19</th>\n",
              "      <td id=\"T_7ada1_row19_col0\" class=\"data row19 col0\" >Павловск (Ленинградская область)</td>\n",
              "      <td id=\"T_7ada1_row19_col1\" class=\"data row19 col1\" >1</td>\n",
              "      <td id=\"T_7ada1_row19_col2\" class=\"data row19 col2\" >200000.000000</td>\n",
              "    </tr>\n",
              "  </tbody>\n",
              "</table>\n"
            ],
            "text/plain": [
              "<pandas.io.formats.style.Styler at 0x16a292eeef0>"
            ]
          },
          "metadata": {},
          "output_type": "display_data"
        }
      ],
      "source": [
        "## Задаём количество строк для анализа.\n",
        "limit_7_2 = 20\n",
        "query_7_2 = f'''\n",
        "    SELECT\n",
        "        a.name AS \"Название региона\",\n",
        "        COUNT (v.name) AS \"Количество вакансий\",              -- Подсчитываем количество вакансий     \n",
        "        ROUND(AVG(COALESCE((salary_from+salary_to)/2,salary_to,salary_from)), 0) AS \"Средняя зарплата\"\n",
        "    FROM vacancies AS v \n",
        "    JOIN areas AS a ON a.id = v.area_id\n",
        "    WHERE (v.salary_from IS NOT NULL) OR (v.salary_to IS NOT NULL)   --Исключаем из таблицы вакансии, где не указана заработная плата\n",
        "    GROUP BY a.name                      -- Для подсчёта количества вакансий группируем их по опыту работы соискателей\n",
        "    ORDER BY 3 DESC\n",
        "    LIMIT {limit_7_2}\n",
        "'''\n",
        "df_area_salary = pd.read_sql_query(query_7_2, connection)\n",
        "df_area_salary = df_area_salary.style.set_caption(\"Количество вакансий, где указана заработная плата, в зависимости от региона\")\n",
        "display(df_area_salary)"
      ]
    },
    {
      "attachments": {},
      "cell_type": "markdown",
      "id": "2d47fee2",
      "metadata": {},
      "source": [
        "ДОПОЛНИТЕЛЬНЫЙ АНАЛИЗ. \n",
        "\n",
        "Сколько всего есть вакансий для специалистов Data Science."
      ]
    },
    {
      "cell_type": "code",
      "execution_count": null,
      "id": "4d9450c3",
      "metadata": {},
      "outputs": [
        {
          "data": {
            "text/plain": [
              "'Для специалиста Data Science подходит 480 вакансий'"
            ]
          },
          "metadata": {},
          "output_type": "display_data"
        }
      ],
      "source": [
        "query_7_3 = f'''SELECT\n",
        "    DISTINCT (x.id) AS \"ID вакансии\",\n",
        "    x.name AS \"Название вакансии\" \n",
        "    \n",
        "{query_DS}\n",
        "\n",
        "'''\n",
        "\n",
        "df_vacancies_ds_all = pd.read_sql_query(query_7_3, connection)\n",
        "display(f'Для специалиста Data Science подходит {df_vacancies_ds_all.shape[0]} вакансий')"
      ]
    },
    {
      "attachments": {},
      "cell_type": "markdown",
      "id": "bd15accf",
      "metadata": {},
      "source": [
        "ДОПОЛНИТЕЛЬНЫЙ АНАЛИЗ. Проверим правильно ли мы подобрали параметры и все ли отобранные компании подходят для специалистов Data Science."
      ]
    },
    {
      "cell_type": "code",
      "execution_count": null,
      "id": "72bb9438",
      "metadata": {},
      "outputs": [
        {
          "data": {
            "text/html": [
              "<style type=\"text/css\">\n",
              "</style>\n",
              "<table id=\"T_2df8c\">\n",
              "  <caption>Отобранные вакансии для специалистов Data Science</caption>\n",
              "  <thead>\n",
              "    <tr>\n",
              "      <th class=\"blank level0\" >&nbsp;</th>\n",
              "      <th id=\"T_2df8c_level0_col0\" class=\"col_heading level0 col0\" >ID вакансии</th>\n",
              "      <th id=\"T_2df8c_level0_col1\" class=\"col_heading level0 col1\" >Название вакансии</th>\n",
              "    </tr>\n",
              "  </thead>\n",
              "  <tbody>\n",
              "    <tr>\n",
              "      <th id=\"T_2df8c_level0_row0\" class=\"row_heading level0 row0\" >0</th>\n",
              "      <td id=\"T_2df8c_row0_col0\" class=\"data row0 col0\" >43183814</td>\n",
              "      <td id=\"T_2df8c_row0_col1\" class=\"data row0 col1\" >Data scientist</td>\n",
              "    </tr>\n",
              "    <tr>\n",
              "      <th id=\"T_2df8c_level0_row1\" class=\"row_heading level0 row1\" >1</th>\n",
              "      <td id=\"T_2df8c_row1_col0\" class=\"data row1 col0\" >43366306</td>\n",
              "      <td id=\"T_2df8c_row1_col1\" class=\"data row1 col1\" >Data scientist по построению моделей оценки кредитного риска (Big Data)</td>\n",
              "    </tr>\n",
              "    <tr>\n",
              "      <th id=\"T_2df8c_level0_row2\" class=\"row_heading level0 row2\" >2</th>\n",
              "      <td id=\"T_2df8c_row2_col0\" class=\"data row2 col0\" >44095047</td>\n",
              "      <td id=\"T_2df8c_row2_col1\" class=\"data row2 col1\" >Инженер-тестировщик в команду Machine Learning</td>\n",
              "    </tr>\n",
              "    <tr>\n",
              "      <th id=\"T_2df8c_level0_row3\" class=\"row_heading level0 row3\" >3</th>\n",
              "      <td id=\"T_2df8c_row3_col0\" class=\"data row3 col0\" >47094497</td>\n",
              "      <td id=\"T_2df8c_row3_col1\" class=\"data row3 col1\" >Data scientist (проект Музыка)</td>\n",
              "    </tr>\n",
              "    <tr>\n",
              "      <th id=\"T_2df8c_level0_row4\" class=\"row_heading level0 row4\" >4</th>\n",
              "      <td id=\"T_2df8c_row4_col0\" class=\"data row4 col0\" >47095350</td>\n",
              "      <td id=\"T_2df8c_row4_col1\" class=\"data row4 col1\" >Data scientist (проект Моменты)</td>\n",
              "    </tr>\n",
              "    <tr>\n",
              "      <th id=\"T_2df8c_level0_row5\" class=\"row_heading level0 row5\" >5</th>\n",
              "      <td id=\"T_2df8c_row5_col0\" class=\"data row5 col0\" >47609430</td>\n",
              "      <td id=\"T_2df8c_row5_col1\" class=\"data row5 col1\" >Data scientist (Remote)</td>\n",
              "    </tr>\n",
              "    <tr>\n",
              "      <th id=\"T_2df8c_level0_row6\" class=\"row_heading level0 row6\" >6</th>\n",
              "      <td id=\"T_2df8c_row6_col0\" class=\"data row6 col0\" >48138537</td>\n",
              "      <td id=\"T_2df8c_row6_col1\" class=\"data row6 col1\" >Lead NLP/ML Developer</td>\n",
              "    </tr>\n",
              "    <tr>\n",
              "      <th id=\"T_2df8c_level0_row7\" class=\"row_heading level0 row7\" >7</th>\n",
              "      <td id=\"T_2df8c_row7_col0\" class=\"data row7 col0\" >48285387</td>\n",
              "      <td id=\"T_2df8c_row7_col1\" class=\"data row7 col1\" >ML Engineer/ Data Scientist (WAF)</td>\n",
              "    </tr>\n",
              "    <tr>\n",
              "      <th id=\"T_2df8c_level0_row8\" class=\"row_heading level0 row8\" >8</th>\n",
              "      <td id=\"T_2df8c_row8_col0\" class=\"data row8 col0\" >48285425</td>\n",
              "      <td id=\"T_2df8c_row8_col1\" class=\"data row8 col1\" >ML Engineer/ Data Scientist (WAF)</td>\n",
              "    </tr>\n",
              "    <tr>\n",
              "      <th id=\"T_2df8c_level0_row9\" class=\"row_heading level0 row9\" >9</th>\n",
              "      <td id=\"T_2df8c_row9_col0\" class=\"data row9 col0\" >48285467</td>\n",
              "      <td id=\"T_2df8c_row9_col1\" class=\"data row9 col1\" >ML Engineer/ Data Scientist (WAF)</td>\n",
              "    </tr>\n",
              "    <tr>\n",
              "      <th id=\"T_2df8c_level0_row10\" class=\"row_heading level0 row10\" >10</th>\n",
              "      <td id=\"T_2df8c_row10_col0\" class=\"data row10 col0\" >48285480</td>\n",
              "      <td id=\"T_2df8c_row10_col1\" class=\"data row10 col1\" >ML Engineer/ Data Scientist (WAF)</td>\n",
              "    </tr>\n",
              "    <tr>\n",
              "      <th id=\"T_2df8c_level0_row11\" class=\"row_heading level0 row11\" >11</th>\n",
              "      <td id=\"T_2df8c_row11_col0\" class=\"data row11 col0\" >48285490</td>\n",
              "      <td id=\"T_2df8c_row11_col1\" class=\"data row11 col1\" >ML Engineer/ Data Scientist (WAF)</td>\n",
              "    </tr>\n",
              "    <tr>\n",
              "      <th id=\"T_2df8c_level0_row12\" class=\"row_heading level0 row12\" >12</th>\n",
              "      <td id=\"T_2df8c_row12_col0\" class=\"data row12 col0\" >48428526</td>\n",
              "      <td id=\"T_2df8c_row12_col1\" class=\"data row12 col1\" >Data scientist</td>\n",
              "    </tr>\n",
              "    <tr>\n",
              "      <th id=\"T_2df8c_level0_row13\" class=\"row_heading level0 row13\" >13</th>\n",
              "      <td id=\"T_2df8c_row13_col0\" class=\"data row13 col0\" >48788339</td>\n",
              "      <td id=\"T_2df8c_row13_col1\" class=\"data row13 col1\" >Инженер-разработчик Data Science (проект Лента)</td>\n",
              "    </tr>\n",
              "    <tr>\n",
              "      <th id=\"T_2df8c_level0_row14\" class=\"row_heading level0 row14\" >14</th>\n",
              "      <td id=\"T_2df8c_row14_col0\" class=\"data row14 col0\" >48838707</td>\n",
              "      <td id=\"T_2df8c_row14_col1\" class=\"data row14 col1\" >Java Разработчик (направление AML)</td>\n",
              "    </tr>\n",
              "    <tr>\n",
              "      <th id=\"T_2df8c_level0_row15\" class=\"row_heading level0 row15\" >15</th>\n",
              "      <td id=\"T_2df8c_row15_col0\" class=\"data row15 col0\" >49712580</td>\n",
              "      <td id=\"T_2df8c_row15_col1\" class=\"data row15 col1\" >Исследователь алгоритмов машинного обучения / Researcher</td>\n",
              "    </tr>\n",
              "    <tr>\n",
              "      <th id=\"T_2df8c_level0_row16\" class=\"row_heading level0 row16\" >16</th>\n",
              "      <td id=\"T_2df8c_row16_col0\" class=\"data row16 col0\" >49970105</td>\n",
              "      <td id=\"T_2df8c_row16_col1\" class=\"data row16 col1\" >Lead data scientist</td>\n",
              "    </tr>\n",
              "    <tr>\n",
              "      <th id=\"T_2df8c_level0_row17\" class=\"row_heading level0 row17\" >17</th>\n",
              "      <td id=\"T_2df8c_row17_col0\" class=\"data row17 col0\" >50072394</td>\n",
              "      <td id=\"T_2df8c_row17_col1\" class=\"data row17 col1\" >Research Engineer / Data Scientist</td>\n",
              "    </tr>\n",
              "    <tr>\n",
              "      <th id=\"T_2df8c_level0_row18\" class=\"row_heading level0 row18\" >18</th>\n",
              "      <td id=\"T_2df8c_row18_col0\" class=\"data row18 col0\" >50464787</td>\n",
              "      <td id=\"T_2df8c_row18_col1\" class=\"data row18 col1\" >MLOps Backend-разработчик</td>\n",
              "    </tr>\n",
              "    <tr>\n",
              "      <th id=\"T_2df8c_level0_row19\" class=\"row_heading level0 row19\" >19</th>\n",
              "      <td id=\"T_2df8c_row19_col0\" class=\"data row19 col0\" >50533416</td>\n",
              "      <td id=\"T_2df8c_row19_col1\" class=\"data row19 col1\" >Junior+ CV/ML developer</td>\n",
              "    </tr>\n",
              "  </tbody>\n",
              "</table>\n"
            ],
            "text/plain": [
              "<pandas.io.formats.style.Styler at 0x16a29916230>"
            ]
          },
          "metadata": {},
          "output_type": "display_data"
        }
      ],
      "source": [
        "#Выведем первые 20 строк из полученной в предыдущей ячейке таблицы. \n",
        "df_vacancies_ds_all_head = df_vacancies_ds_all.head(20).style.set_caption(\"Отобранные вакансии для специалистов Data Science\")\n",
        "display(df_vacancies_ds_all_head)"
      ]
    },
    {
      "attachments": {},
      "cell_type": "markdown",
      "id": "e7c82121",
      "metadata": {},
      "source": [
        "Проанализировав полученную таблицу мы видим, что в отборанные вакансии попали и те, что не относятся к Data Science. Например, \"Java Разработчик (направление AML)\" или \"MLOps Backend-разработчик\". Поэтому необходимо уточнить требования для отбора вакансий. "
      ]
    },
    {
      "cell_type": "code",
      "execution_count": null,
      "metadata": {},
      "outputs": [
        {
          "data": {
            "text/html": [
              "<style type=\"text/css\">\n",
              "</style>\n",
              "<table id=\"T_09729\">\n",
              "  <caption>Первые 20 вакансий для специалистов Data Science, отобранные по дополнительным параметрам</caption>\n",
              "  <thead>\n",
              "    <tr>\n",
              "      <th class=\"blank level0\" >&nbsp;</th>\n",
              "      <th id=\"T_09729_level0_col0\" class=\"col_heading level0 col0\" >ID вакансии</th>\n",
              "      <th id=\"T_09729_level0_col1\" class=\"col_heading level0 col1\" >Название вакансии</th>\n",
              "    </tr>\n",
              "  </thead>\n",
              "  <tbody>\n",
              "    <tr>\n",
              "      <th id=\"T_09729_level0_row0\" class=\"row_heading level0 row0\" >0</th>\n",
              "      <td id=\"T_09729_row0_col0\" class=\"data row0 col0\" >43183814</td>\n",
              "      <td id=\"T_09729_row0_col1\" class=\"data row0 col1\" >Data scientist</td>\n",
              "    </tr>\n",
              "    <tr>\n",
              "      <th id=\"T_09729_level0_row1\" class=\"row_heading level0 row1\" >1</th>\n",
              "      <td id=\"T_09729_row1_col0\" class=\"data row1 col0\" >43366306</td>\n",
              "      <td id=\"T_09729_row1_col1\" class=\"data row1 col1\" >Data scientist по построению моделей оценки кредитного риска (Big Data)</td>\n",
              "    </tr>\n",
              "    <tr>\n",
              "      <th id=\"T_09729_level0_row2\" class=\"row_heading level0 row2\" >2</th>\n",
              "      <td id=\"T_09729_row2_col0\" class=\"data row2 col0\" >44095047</td>\n",
              "      <td id=\"T_09729_row2_col1\" class=\"data row2 col1\" >Инженер-тестировщик в команду Machine Learning</td>\n",
              "    </tr>\n",
              "    <tr>\n",
              "      <th id=\"T_09729_level0_row3\" class=\"row_heading level0 row3\" >3</th>\n",
              "      <td id=\"T_09729_row3_col0\" class=\"data row3 col0\" >47094497</td>\n",
              "      <td id=\"T_09729_row3_col1\" class=\"data row3 col1\" >Data scientist (проект Музыка)</td>\n",
              "    </tr>\n",
              "    <tr>\n",
              "      <th id=\"T_09729_level0_row4\" class=\"row_heading level0 row4\" >4</th>\n",
              "      <td id=\"T_09729_row4_col0\" class=\"data row4 col0\" >47095350</td>\n",
              "      <td id=\"T_09729_row4_col1\" class=\"data row4 col1\" >Data scientist (проект Моменты)</td>\n",
              "    </tr>\n",
              "    <tr>\n",
              "      <th id=\"T_09729_level0_row5\" class=\"row_heading level0 row5\" >5</th>\n",
              "      <td id=\"T_09729_row5_col0\" class=\"data row5 col0\" >47609430</td>\n",
              "      <td id=\"T_09729_row5_col1\" class=\"data row5 col1\" >Data scientist (Remote)</td>\n",
              "    </tr>\n",
              "    <tr>\n",
              "      <th id=\"T_09729_level0_row6\" class=\"row_heading level0 row6\" >6</th>\n",
              "      <td id=\"T_09729_row6_col0\" class=\"data row6 col0\" >48138537</td>\n",
              "      <td id=\"T_09729_row6_col1\" class=\"data row6 col1\" >Lead NLP/ML Developer</td>\n",
              "    </tr>\n",
              "    <tr>\n",
              "      <th id=\"T_09729_level0_row7\" class=\"row_heading level0 row7\" >7</th>\n",
              "      <td id=\"T_09729_row7_col0\" class=\"data row7 col0\" >48285387</td>\n",
              "      <td id=\"T_09729_row7_col1\" class=\"data row7 col1\" >ML Engineer/ Data Scientist (WAF)</td>\n",
              "    </tr>\n",
              "    <tr>\n",
              "      <th id=\"T_09729_level0_row8\" class=\"row_heading level0 row8\" >8</th>\n",
              "      <td id=\"T_09729_row8_col0\" class=\"data row8 col0\" >48285425</td>\n",
              "      <td id=\"T_09729_row8_col1\" class=\"data row8 col1\" >ML Engineer/ Data Scientist (WAF)</td>\n",
              "    </tr>\n",
              "    <tr>\n",
              "      <th id=\"T_09729_level0_row9\" class=\"row_heading level0 row9\" >9</th>\n",
              "      <td id=\"T_09729_row9_col0\" class=\"data row9 col0\" >48285467</td>\n",
              "      <td id=\"T_09729_row9_col1\" class=\"data row9 col1\" >ML Engineer/ Data Scientist (WAF)</td>\n",
              "    </tr>\n",
              "    <tr>\n",
              "      <th id=\"T_09729_level0_row10\" class=\"row_heading level0 row10\" >10</th>\n",
              "      <td id=\"T_09729_row10_col0\" class=\"data row10 col0\" >48285480</td>\n",
              "      <td id=\"T_09729_row10_col1\" class=\"data row10 col1\" >ML Engineer/ Data Scientist (WAF)</td>\n",
              "    </tr>\n",
              "    <tr>\n",
              "      <th id=\"T_09729_level0_row11\" class=\"row_heading level0 row11\" >11</th>\n",
              "      <td id=\"T_09729_row11_col0\" class=\"data row11 col0\" >48285490</td>\n",
              "      <td id=\"T_09729_row11_col1\" class=\"data row11 col1\" >ML Engineer/ Data Scientist (WAF)</td>\n",
              "    </tr>\n",
              "    <tr>\n",
              "      <th id=\"T_09729_level0_row12\" class=\"row_heading level0 row12\" >12</th>\n",
              "      <td id=\"T_09729_row12_col0\" class=\"data row12 col0\" >48428526</td>\n",
              "      <td id=\"T_09729_row12_col1\" class=\"data row12 col1\" >Data scientist</td>\n",
              "    </tr>\n",
              "    <tr>\n",
              "      <th id=\"T_09729_level0_row13\" class=\"row_heading level0 row13\" >13</th>\n",
              "      <td id=\"T_09729_row13_col0\" class=\"data row13 col0\" >48788339</td>\n",
              "      <td id=\"T_09729_row13_col1\" class=\"data row13 col1\" >Инженер-разработчик Data Science (проект Лента)</td>\n",
              "    </tr>\n",
              "    <tr>\n",
              "      <th id=\"T_09729_level0_row14\" class=\"row_heading level0 row14\" >14</th>\n",
              "      <td id=\"T_09729_row14_col0\" class=\"data row14 col0\" >49712580</td>\n",
              "      <td id=\"T_09729_row14_col1\" class=\"data row14 col1\" >Исследователь алгоритмов машинного обучения / Researcher</td>\n",
              "    </tr>\n",
              "    <tr>\n",
              "      <th id=\"T_09729_level0_row15\" class=\"row_heading level0 row15\" >15</th>\n",
              "      <td id=\"T_09729_row15_col0\" class=\"data row15 col0\" >49970105</td>\n",
              "      <td id=\"T_09729_row15_col1\" class=\"data row15 col1\" >Lead data scientist</td>\n",
              "    </tr>\n",
              "    <tr>\n",
              "      <th id=\"T_09729_level0_row16\" class=\"row_heading level0 row16\" >16</th>\n",
              "      <td id=\"T_09729_row16_col0\" class=\"data row16 col0\" >50072394</td>\n",
              "      <td id=\"T_09729_row16_col1\" class=\"data row16 col1\" >Research Engineer / Data Scientist</td>\n",
              "    </tr>\n",
              "    <tr>\n",
              "      <th id=\"T_09729_level0_row17\" class=\"row_heading level0 row17\" >17</th>\n",
              "      <td id=\"T_09729_row17_col0\" class=\"data row17 col0\" >50533416</td>\n",
              "      <td id=\"T_09729_row17_col1\" class=\"data row17 col1\" >Junior+ CV/ML developer</td>\n",
              "    </tr>\n",
              "    <tr>\n",
              "      <th id=\"T_09729_level0_row18\" class=\"row_heading level0 row18\" >18</th>\n",
              "      <td id=\"T_09729_row18_col0\" class=\"data row18 col0\" >50605612</td>\n",
              "      <td id=\"T_09729_row18_col1\" class=\"data row18 col1\" >Data scientist / Machine learning engineer (команда CoreML ВКонтакте)</td>\n",
              "    </tr>\n",
              "    <tr>\n",
              "      <th id=\"T_09729_level0_row19\" class=\"row_heading level0 row19\" >19</th>\n",
              "      <td id=\"T_09729_row19_col0\" class=\"data row19 col0\" >50996908</td>\n",
              "      <td id=\"T_09729_row19_col1\" class=\"data row19 col1\" >Senior Research Engineer / Data Scientist</td>\n",
              "    </tr>\n",
              "  </tbody>\n",
              "</table>\n"
            ],
            "text/plain": [
              "<pandas.io.formats.style.Styler at 0x16a2939f880>"
            ]
          },
          "metadata": {},
          "output_type": "display_data"
        }
      ],
      "source": [
        "query_7_4 = f'''SELECT\n",
        "    DISTINCT (x.id) AS \"ID вакансии\",\n",
        "    x.name AS \"Название вакансии\" \n",
        "    \n",
        "FROM\n",
        "    -- Создаём таблицу из данных для сортировки\n",
        "    (VALUES                                                             \n",
        "            ('%data scientist%'),\n",
        "            ('%data science%'),\n",
        "            ('%исследователь данных%'),\n",
        "            ('%machine learning%'),\n",
        "            ('%машинн%обучен%')\n",
        "    ) \n",
        "    -- Задаём псевдоним для созданной таблицы и название столбца\n",
        "    AS p (pattern),       \n",
        "\n",
        " -- Присоединяем таблицу vacancies, перемножая каждую строку в vacancies со строкой из \"p\"          \n",
        "LATERAL                                                                \n",
        "    (SELECT\n",
        "    v.*\n",
        "        FROM vacancies AS v\n",
        "        -- Отбираем среди полученных данных только те, что соответсвуют заданным праметрам в таблице p, предварительно переведя название в нижний регистр \n",
        "        WHERE ((lower(v.name) like p.pattern)       \n",
        "        -- Так как \"ML\" может встречаться только в верхнем регистре, задаём дополнительную проверку.                    \n",
        "           OR ((v.name like '%ML %') AND (v.name not like '%HTML%') AND (v.name not like '%AML%')))    \n",
        "    ) \n",
        "    -- Задаём для получившейся таблицы псевдоним \"x\"\n",
        "    AS x   \n",
        "'''\n",
        "\n",
        "#Проверим результаты отбора\n",
        "df_vacancies_ds_all1 = pd.read_sql_query(query_7_4, connection)\n",
        "df_vacancies_ds_all1_head = df_vacancies_ds_all1.head(20).style.set_caption(\"Первые 20 вакансий для специалистов Data Science, отобранные по дополнительным параметрам\")\n",
        "display(df_vacancies_ds_all1_head)"
      ]
    },
    {
      "cell_type": "code",
      "execution_count": null,
      "id": "d5de1717",
      "metadata": {},
      "outputs": [
        {
          "data": {
            "text/html": [
              "<style type=\"text/css\">\n",
              "</style>\n",
              "<table id=\"T_77359\">\n",
              "  <caption>Последние 20 вакансий для специалистов Data Science, отобранные по дополнительным параметрам</caption>\n",
              "  <thead>\n",
              "    <tr>\n",
              "      <th class=\"blank level0\" >&nbsp;</th>\n",
              "      <th id=\"T_77359_level0_col0\" class=\"col_heading level0 col0\" >ID вакансии</th>\n",
              "      <th id=\"T_77359_level0_col1\" class=\"col_heading level0 col1\" >Название вакансии</th>\n",
              "    </tr>\n",
              "  </thead>\n",
              "  <tbody>\n",
              "    <tr>\n",
              "      <th id=\"T_77359_level0_row0\" class=\"row_heading level0 row0\" >402</th>\n",
              "      <td id=\"T_77359_row0_col0\" class=\"data row0 col0\" >66093837</td>\n",
              "      <td id=\"T_77359_row0_col1\" class=\"data row0 col1\" >Data Scientist</td>\n",
              "    </tr>\n",
              "    <tr>\n",
              "      <th id=\"T_77359_level0_row1\" class=\"row_heading level0 row1\" >403</th>\n",
              "      <td id=\"T_77359_row1_col0\" class=\"data row1 col0\" >66096082</td>\n",
              "      <td id=\"T_77359_row1_col1\" class=\"data row1 col1\" >Python-разработчик в команду Data Science</td>\n",
              "    </tr>\n",
              "    <tr>\n",
              "      <th id=\"T_77359_level0_row2\" class=\"row_heading level0 row2\" >404</th>\n",
              "      <td id=\"T_77359_row2_col0\" class=\"data row2 col0\" >66104113</td>\n",
              "      <td id=\"T_77359_row2_col1\" class=\"data row2 col1\" >Python-разработчик в команду Data Science</td>\n",
              "    </tr>\n",
              "    <tr>\n",
              "      <th id=\"T_77359_level0_row3\" class=\"row_heading level0 row3\" >405</th>\n",
              "      <td id=\"T_77359_row3_col0\" class=\"data row3 col0\" >66104114</td>\n",
              "      <td id=\"T_77359_row3_col1\" class=\"data row3 col1\" >Python-разработчик в команду Data Science</td>\n",
              "    </tr>\n",
              "    <tr>\n",
              "      <th id=\"T_77359_level0_row4\" class=\"row_heading level0 row4\" >406</th>\n",
              "      <td id=\"T_77359_row4_col0\" class=\"data row4 col0\" >66104115</td>\n",
              "      <td id=\"T_77359_row4_col1\" class=\"data row4 col1\" >Python-разработчик в команду Data Science</td>\n",
              "    </tr>\n",
              "    <tr>\n",
              "      <th id=\"T_77359_level0_row5\" class=\"row_heading level0 row5\" >407</th>\n",
              "      <td id=\"T_77359_row5_col0\" class=\"data row5 col0\" >66104116</td>\n",
              "      <td id=\"T_77359_row5_col1\" class=\"data row5 col1\" >Python-разработчик в команду Data Science</td>\n",
              "    </tr>\n",
              "    <tr>\n",
              "      <th id=\"T_77359_level0_row6\" class=\"row_heading level0 row6\" >408</th>\n",
              "      <td id=\"T_77359_row6_col0\" class=\"data row6 col0\" >66108173</td>\n",
              "      <td id=\"T_77359_row6_col1\" class=\"data row6 col1\" >ML Engineer \\ Data scientist</td>\n",
              "    </tr>\n",
              "    <tr>\n",
              "      <th id=\"T_77359_level0_row7\" class=\"row_heading level0 row7\" >409</th>\n",
              "      <td id=\"T_77359_row7_col0\" class=\"data row7 col0\" >66109316</td>\n",
              "      <td id=\"T_77359_row7_col1\" class=\"data row7 col1\" >Senior Data Scientist (Cross Content Galaxy Team)</td>\n",
              "    </tr>\n",
              "    <tr>\n",
              "      <th id=\"T_77359_level0_row8\" class=\"row_heading level0 row8\" >410</th>\n",
              "      <td id=\"T_77359_row8_col0\" class=\"data row8 col0\" >66109317</td>\n",
              "      <td id=\"T_77359_row8_col1\" class=\"data row8 col1\" >Senior Data Scientist (Cross Content Galaxy Team)</td>\n",
              "    </tr>\n",
              "    <tr>\n",
              "      <th id=\"T_77359_level0_row9\" class=\"row_heading level0 row9\" >411</th>\n",
              "      <td id=\"T_77359_row9_col0\" class=\"data row9 col0\" >66109318</td>\n",
              "      <td id=\"T_77359_row9_col1\" class=\"data row9 col1\" >Senior Data Scientist (Cross Content Galaxy Team)</td>\n",
              "    </tr>\n",
              "    <tr>\n",
              "      <th id=\"T_77359_level0_row10\" class=\"row_heading level0 row10\" >412</th>\n",
              "      <td id=\"T_77359_row10_col0\" class=\"data row10 col0\" >66120842</td>\n",
              "      <td id=\"T_77359_row10_col1\" class=\"data row10 col1\" >AI/ML Senior Engineer</td>\n",
              "    </tr>\n",
              "    <tr>\n",
              "      <th id=\"T_77359_level0_row11\" class=\"row_heading level0 row11\" >413</th>\n",
              "      <td id=\"T_77359_row11_col0\" class=\"data row11 col0\" >66120847</td>\n",
              "      <td id=\"T_77359_row11_col1\" class=\"data row11 col1\" >AI/ML Senior Engineer</td>\n",
              "    </tr>\n",
              "    <tr>\n",
              "      <th id=\"T_77359_level0_row12\" class=\"row_heading level0 row12\" >414</th>\n",
              "      <td id=\"T_77359_row12_col0\" class=\"data row12 col0\" >66125447</td>\n",
              "      <td id=\"T_77359_row12_col1\" class=\"data row12 col1\" >Middle+/Senior Data Scientist</td>\n",
              "    </tr>\n",
              "    <tr>\n",
              "      <th id=\"T_77359_level0_row13\" class=\"row_heading level0 row13\" >415</th>\n",
              "      <td id=\"T_77359_row13_col0\" class=\"data row13 col0\" >66126221</td>\n",
              "      <td id=\"T_77359_row13_col1\" class=\"data row13 col1\" >Аналитик BI, Data Scientist, BI Architect</td>\n",
              "    </tr>\n",
              "    <tr>\n",
              "      <th id=\"T_77359_level0_row14\" class=\"row_heading level0 row14\" >416</th>\n",
              "      <td id=\"T_77359_row14_col0\" class=\"data row14 col0\" >66134973</td>\n",
              "      <td id=\"T_77359_row14_col1\" class=\"data row14 col1\" >Аналитик/Аналитик данных (Data Analyst|Data Scientist)</td>\n",
              "    </tr>\n",
              "    <tr>\n",
              "      <th id=\"T_77359_level0_row15\" class=\"row_heading level0 row15\" >417</th>\n",
              "      <td id=\"T_77359_row15_col0\" class=\"data row15 col0\" >66142163</td>\n",
              "      <td id=\"T_77359_row15_col1\" class=\"data row15 col1\" >Junior Data Scientist (математик-аналитик) удаленно</td>\n",
              "    </tr>\n",
              "    <tr>\n",
              "      <th id=\"T_77359_level0_row16\" class=\"row_heading level0 row16\" >418</th>\n",
              "      <td id=\"T_77359_row16_col0\" class=\"data row16 col0\" >66146489</td>\n",
              "      <td id=\"T_77359_row16_col1\" class=\"data row16 col1\" >Data Scientist (Computer Vision)</td>\n",
              "    </tr>\n",
              "    <tr>\n",
              "      <th id=\"T_77359_level0_row17\" class=\"row_heading level0 row17\" >419</th>\n",
              "      <td id=\"T_77359_row17_col0\" class=\"data row17 col0\" >66146610</td>\n",
              "      <td id=\"T_77359_row17_col1\" class=\"data row17 col1\" >Автор работ по машинному обучению</td>\n",
              "    </tr>\n",
              "    <tr>\n",
              "      <th id=\"T_77359_level0_row18\" class=\"row_heading level0 row18\" >420</th>\n",
              "      <td id=\"T_77359_row18_col0\" class=\"data row18 col0\" >66178607</td>\n",
              "      <td id=\"T_77359_row18_col1\" class=\"data row18 col1\" >ML инженер / Data Scientist</td>\n",
              "    </tr>\n",
              "    <tr>\n",
              "      <th id=\"T_77359_level0_row19\" class=\"row_heading level0 row19\" >421</th>\n",
              "      <td id=\"T_77359_row19_col0\" class=\"data row19 col0\" >66185427</td>\n",
              "      <td id=\"T_77359_row19_col1\" class=\"data row19 col1\" >Специалист по Data Science</td>\n",
              "    </tr>\n",
              "  </tbody>\n",
              "</table>\n"
            ],
            "text/plain": [
              "<pandas.io.formats.style.Styler at 0x16a299173a0>"
            ]
          },
          "metadata": {},
          "output_type": "display_data"
        }
      ],
      "source": [
        "df_vacancies_ds_all1_tail= df_vacancies_ds_all1.tail(20).style.set_caption(\"Последние 20 вакансий для специалистов Data Science, отобранные по дополнительным параметрам\")\n",
        "display(df_vacancies_ds_all1_tail)"
      ]
    },
    {
      "cell_type": "code",
      "execution_count": null,
      "id": "16ad9a23",
      "metadata": {},
      "outputs": [
        {
          "data": {
            "text/plain": [
              "'По дополнительным параметрам отбора для Data Science подходит 422 вакансии'"
            ]
          },
          "metadata": {},
          "output_type": "display_data"
        }
      ],
      "source": [
        "display(f'По дополнительным параметрам отбора для Data Science подходит {df_vacancies_ds_all1.shape[0]} вакансии')"
      ]
    },
    {
      "attachments": {},
      "cell_type": "markdown",
      "id": "6c92c7c8",
      "metadata": {},
      "source": [
        "\n",
        "Проведя анализ вакансий с сайта HeadHunter мы выявили, что **наибольшее количество вакансий** представлено *для крупных городов* и соискателей с опытом работы *от 1 года до 3 лет* и с запросом на работу полный рабочий день и полную занятость. В большей половине из них не указана заработная плата, а вакансиями, где она указана чаще всего привлекают соискателей без опыта работы. \n",
        "\n",
        "После *анализа компаний* мы увидели, что первые места по количеству представляемых вакансий уверенно занимают **крупнейшие компании в России**. У 36 % компаний не указана сфера деятельности, что может ввести в заблуждение соискателя. Из всех представленных компаний лишь *15 % работают в сфере «Разработка программного обеспечения»*, и сейчас от них выставлено лишь 480 вакансий в сфере Data Science. Примечательно, что 10 % из них представлено для соискателей без опыта работы. Стоит отметить, что для специалистов Data Science выдвигаются высокие требования, так как от них просят более 6 ключевых навыков. Но это вознаграждается высокой заработной платой, которая существенно возрастает в зависимости от опыта работы.\n",
        "\n",
        "Для проведения *более глубокого анализа*, мы определили, что отбор вакансий для специалистов Data Science содержит **вакансии для других направлений**, поэтому проведёнг дополнительная отчистка данных. Исключив, лишние вакансии, оказалось, что лишь 422, а не 480 подходит для специалистов Data Science. При построении модели машинного обучения необходимо правильно подходить к отбору вакансий, чтобы исключить ошибки. \n",
        "\n",
        "Так же стоит отметить, что если требуется анализ вакансий для соискателей, работающих в России или необходим анализ предлагаемой заработной платы, то требуется **дополнительная отчистка данных**."
      ]
    }
  ],
  "metadata": {
    "colab": {
      "collapsed_sections": [
        "8d62a9f3-f64e-4fe7-bdac-c4dffa16155e"
      ],
      "provenance": []
    },
    "kernelspec": {
      "display_name": "Python 3",
      "language": "python",
      "name": "python3"
    },
    "language_info": {
      "codemirror_mode": {
        "name": "ipython",
        "version": 3
      },
      "file_extension": ".py",
      "mimetype": "text/x-python",
      "name": "python",
      "nbconvert_exporter": "python",
      "pygments_lexer": "ipython3",
      "version": "3.10.8"
    },
    "vscode": {
      "interpreter": {
        "hash": "07a593fd9d3daebfe62d02b7e5128cf6838162aedb0bb39c6b71367d31d5cd06"
      }
    }
  },
  "nbformat": 4,
  "nbformat_minor": 5
}
